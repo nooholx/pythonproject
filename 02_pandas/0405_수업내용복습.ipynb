{
 "cells": [
  {
   "cell_type": "code",
   "execution_count": 7,
   "id": "d95c1220-99ad-4632-b815-63d528c763de",
   "metadata": {
    "tags": []
   },
   "outputs": [
    {
     "name": "stdout",
     "output_type": "stream",
     "text": [
      "Requirement already satisfied: pandas in c:\\users\\erbaf\\appdata\\local\\programs\\python\\python311\\lib\\site-packages (2.0.0)Note: you may need to restart the kernel to use updated packages.\n",
      "\n",
      "Requirement already satisfied: python-dateutil>=2.8.2 in c:\\users\\erbaf\\appdata\\local\\programs\\python\\python311\\lib\\site-packages (from pandas) (2.8.2)\n",
      "Requirement already satisfied: pytz>=2020.1 in c:\\users\\erbaf\\appdata\\local\\programs\\python\\python311\\lib\\site-packages (from pandas) (2023.3)\n",
      "Requirement already satisfied: tzdata>=2022.1 in c:\\users\\erbaf\\appdata\\local\\programs\\python\\python311\\lib\\site-packages (from pandas) (2023.3)\n",
      "Requirement already satisfied: numpy>=1.21.0 in c:\\users\\erbaf\\appdata\\local\\programs\\python\\python311\\lib\\site-packages (from pandas) (1.24.2)\n",
      "Requirement already satisfied: six>=1.5 in c:\\users\\erbaf\\appdata\\local\\programs\\python\\python311\\lib\\site-packages (from python-dateutil>=2.8.2->pandas) (1.16.0)\n"
     ]
    }
   ],
   "source": [
    "pip install pandas"
   ]
  },
  {
   "cell_type": "code",
   "execution_count": 8,
   "id": "f0504668-4d01-4539-84f8-4eb799fa0524",
   "metadata": {
    "tags": []
   },
   "outputs": [],
   "source": [
    "import pandas as pd"
   ]
  },
  {
   "cell_type": "code",
   "execution_count": 9,
   "id": "ffb1ce92-0521-41b3-84b5-df013f56aeaf",
   "metadata": {
    "tags": []
   },
   "outputs": [],
   "source": [
    "df = pd.read_csv('data/data/gapminder.tsv', sep='\\t')"
   ]
  },
  {
   "cell_type": "code",
   "execution_count": 10,
   "id": "0cedb923-ae60-464c-95f7-95030ce1fbfa",
   "metadata": {
    "tags": []
   },
   "outputs": [
    {
     "data": {
      "text/html": [
       "<div>\n",
       "<style scoped>\n",
       "    .dataframe tbody tr th:only-of-type {\n",
       "        vertical-align: middle;\n",
       "    }\n",
       "\n",
       "    .dataframe tbody tr th {\n",
       "        vertical-align: top;\n",
       "    }\n",
       "\n",
       "    .dataframe thead th {\n",
       "        text-align: right;\n",
       "    }\n",
       "</style>\n",
       "<table border=\"1\" class=\"dataframe\">\n",
       "  <thead>\n",
       "    <tr style=\"text-align: right;\">\n",
       "      <th></th>\n",
       "      <th>country</th>\n",
       "      <th>continent</th>\n",
       "      <th>year</th>\n",
       "      <th>lifeExp</th>\n",
       "      <th>pop</th>\n",
       "      <th>gdpPercap</th>\n",
       "    </tr>\n",
       "  </thead>\n",
       "  <tbody>\n",
       "    <tr>\n",
       "      <th>0</th>\n",
       "      <td>Afghanistan</td>\n",
       "      <td>Asia</td>\n",
       "      <td>1952</td>\n",
       "      <td>28.801</td>\n",
       "      <td>8425333</td>\n",
       "      <td>779.445314</td>\n",
       "    </tr>\n",
       "    <tr>\n",
       "      <th>1</th>\n",
       "      <td>Afghanistan</td>\n",
       "      <td>Asia</td>\n",
       "      <td>1957</td>\n",
       "      <td>30.332</td>\n",
       "      <td>9240934</td>\n",
       "      <td>820.853030</td>\n",
       "    </tr>\n",
       "    <tr>\n",
       "      <th>2</th>\n",
       "      <td>Afghanistan</td>\n",
       "      <td>Asia</td>\n",
       "      <td>1962</td>\n",
       "      <td>31.997</td>\n",
       "      <td>10267083</td>\n",
       "      <td>853.100710</td>\n",
       "    </tr>\n",
       "    <tr>\n",
       "      <th>3</th>\n",
       "      <td>Afghanistan</td>\n",
       "      <td>Asia</td>\n",
       "      <td>1967</td>\n",
       "      <td>34.020</td>\n",
       "      <td>11537966</td>\n",
       "      <td>836.197138</td>\n",
       "    </tr>\n",
       "    <tr>\n",
       "      <th>4</th>\n",
       "      <td>Afghanistan</td>\n",
       "      <td>Asia</td>\n",
       "      <td>1972</td>\n",
       "      <td>36.088</td>\n",
       "      <td>13079460</td>\n",
       "      <td>739.981106</td>\n",
       "    </tr>\n",
       "    <tr>\n",
       "      <th>...</th>\n",
       "      <td>...</td>\n",
       "      <td>...</td>\n",
       "      <td>...</td>\n",
       "      <td>...</td>\n",
       "      <td>...</td>\n",
       "      <td>...</td>\n",
       "    </tr>\n",
       "    <tr>\n",
       "      <th>1699</th>\n",
       "      <td>Zimbabwe</td>\n",
       "      <td>Africa</td>\n",
       "      <td>1987</td>\n",
       "      <td>62.351</td>\n",
       "      <td>9216418</td>\n",
       "      <td>706.157306</td>\n",
       "    </tr>\n",
       "    <tr>\n",
       "      <th>1700</th>\n",
       "      <td>Zimbabwe</td>\n",
       "      <td>Africa</td>\n",
       "      <td>1992</td>\n",
       "      <td>60.377</td>\n",
       "      <td>10704340</td>\n",
       "      <td>693.420786</td>\n",
       "    </tr>\n",
       "    <tr>\n",
       "      <th>1701</th>\n",
       "      <td>Zimbabwe</td>\n",
       "      <td>Africa</td>\n",
       "      <td>1997</td>\n",
       "      <td>46.809</td>\n",
       "      <td>11404948</td>\n",
       "      <td>792.449960</td>\n",
       "    </tr>\n",
       "    <tr>\n",
       "      <th>1702</th>\n",
       "      <td>Zimbabwe</td>\n",
       "      <td>Africa</td>\n",
       "      <td>2002</td>\n",
       "      <td>39.989</td>\n",
       "      <td>11926563</td>\n",
       "      <td>672.038623</td>\n",
       "    </tr>\n",
       "    <tr>\n",
       "      <th>1703</th>\n",
       "      <td>Zimbabwe</td>\n",
       "      <td>Africa</td>\n",
       "      <td>2007</td>\n",
       "      <td>43.487</td>\n",
       "      <td>12311143</td>\n",
       "      <td>469.709298</td>\n",
       "    </tr>\n",
       "  </tbody>\n",
       "</table>\n",
       "<p>1704 rows × 6 columns</p>\n",
       "</div>"
      ],
      "text/plain": [
       "          country continent  year  lifeExp       pop   gdpPercap\n",
       "0     Afghanistan      Asia  1952   28.801   8425333  779.445314\n",
       "1     Afghanistan      Asia  1957   30.332   9240934  820.853030\n",
       "2     Afghanistan      Asia  1962   31.997  10267083  853.100710\n",
       "3     Afghanistan      Asia  1967   34.020  11537966  836.197138\n",
       "4     Afghanistan      Asia  1972   36.088  13079460  739.981106\n",
       "...           ...       ...   ...      ...       ...         ...\n",
       "1699     Zimbabwe    Africa  1987   62.351   9216418  706.157306\n",
       "1700     Zimbabwe    Africa  1992   60.377  10704340  693.420786\n",
       "1701     Zimbabwe    Africa  1997   46.809  11404948  792.449960\n",
       "1702     Zimbabwe    Africa  2002   39.989  11926563  672.038623\n",
       "1703     Zimbabwe    Africa  2007   43.487  12311143  469.709298\n",
       "\n",
       "[1704 rows x 6 columns]"
      ]
     },
     "execution_count": 10,
     "metadata": {},
     "output_type": "execute_result"
    }
   ],
   "source": [
    "df\n",
    "# type(df)"
   ]
  },
  {
   "cell_type": "code",
   "execution_count": 6,
   "id": "3a41bca2-e402-41e1-8c55-41ed97ffba0d",
   "metadata": {
    "tags": []
   },
   "outputs": [
    {
     "data": {
      "text/html": [
       "<div>\n",
       "<style scoped>\n",
       "    .dataframe tbody tr th:only-of-type {\n",
       "        vertical-align: middle;\n",
       "    }\n",
       "\n",
       "    .dataframe tbody tr th {\n",
       "        vertical-align: top;\n",
       "    }\n",
       "\n",
       "    .dataframe thead th {\n",
       "        text-align: right;\n",
       "    }\n",
       "</style>\n",
       "<table border=\"1\" class=\"dataframe\">\n",
       "  <thead>\n",
       "    <tr style=\"text-align: right;\">\n",
       "      <th></th>\n",
       "      <th>country</th>\n",
       "      <th>continent</th>\n",
       "      <th>year</th>\n",
       "      <th>lifeExp</th>\n",
       "      <th>pop</th>\n",
       "      <th>gdpPercap</th>\n",
       "    </tr>\n",
       "  </thead>\n",
       "  <tbody>\n",
       "    <tr>\n",
       "      <th>0</th>\n",
       "      <td>Afghanistan</td>\n",
       "      <td>Asia</td>\n",
       "      <td>1952</td>\n",
       "      <td>28.801</td>\n",
       "      <td>8425333</td>\n",
       "      <td>779.445314</td>\n",
       "    </tr>\n",
       "    <tr>\n",
       "      <th>1</th>\n",
       "      <td>Afghanistan</td>\n",
       "      <td>Asia</td>\n",
       "      <td>1957</td>\n",
       "      <td>30.332</td>\n",
       "      <td>9240934</td>\n",
       "      <td>820.853030</td>\n",
       "    </tr>\n",
       "    <tr>\n",
       "      <th>2</th>\n",
       "      <td>Afghanistan</td>\n",
       "      <td>Asia</td>\n",
       "      <td>1962</td>\n",
       "      <td>31.997</td>\n",
       "      <td>10267083</td>\n",
       "      <td>853.100710</td>\n",
       "    </tr>\n",
       "    <tr>\n",
       "      <th>3</th>\n",
       "      <td>Afghanistan</td>\n",
       "      <td>Asia</td>\n",
       "      <td>1967</td>\n",
       "      <td>34.020</td>\n",
       "      <td>11537966</td>\n",
       "      <td>836.197138</td>\n",
       "    </tr>\n",
       "    <tr>\n",
       "      <th>4</th>\n",
       "      <td>Afghanistan</td>\n",
       "      <td>Asia</td>\n",
       "      <td>1972</td>\n",
       "      <td>36.088</td>\n",
       "      <td>13079460</td>\n",
       "      <td>739.981106</td>\n",
       "    </tr>\n",
       "  </tbody>\n",
       "</table>\n",
       "</div>"
      ],
      "text/plain": [
       "       country continent  year  lifeExp       pop   gdpPercap\n",
       "0  Afghanistan      Asia  1952   28.801   8425333  779.445314\n",
       "1  Afghanistan      Asia  1957   30.332   9240934  820.853030\n",
       "2  Afghanistan      Asia  1962   31.997  10267083  853.100710\n",
       "3  Afghanistan      Asia  1967   34.020  11537966  836.197138\n",
       "4  Afghanistan      Asia  1972   36.088  13079460  739.981106"
      ]
     },
     "execution_count": 6,
     "metadata": {},
     "output_type": "execute_result"
    }
   ],
   "source": [
    "df.head()"
   ]
  },
  {
   "cell_type": "code",
   "execution_count": 19,
   "id": "f66cc8be-7985-49ec-89d0-687038ea8868",
   "metadata": {
    "tags": []
   },
   "outputs": [
    {
     "data": {
      "text/html": [
       "<div>\n",
       "<style scoped>\n",
       "    .dataframe tbody tr th:only-of-type {\n",
       "        vertical-align: middle;\n",
       "    }\n",
       "\n",
       "    .dataframe tbody tr th {\n",
       "        vertical-align: top;\n",
       "    }\n",
       "\n",
       "    .dataframe thead th {\n",
       "        text-align: right;\n",
       "    }\n",
       "</style>\n",
       "<table border=\"1\" class=\"dataframe\">\n",
       "  <thead>\n",
       "    <tr style=\"text-align: right;\">\n",
       "      <th></th>\n",
       "      <th>country</th>\n",
       "      <th>continent</th>\n",
       "      <th>year</th>\n",
       "      <th>lifeExp</th>\n",
       "      <th>pop</th>\n",
       "      <th>gdpPercap</th>\n",
       "    </tr>\n",
       "  </thead>\n",
       "  <tbody>\n",
       "    <tr>\n",
       "      <th>1231</th>\n",
       "      <td>Poland</td>\n",
       "      <td>Europe</td>\n",
       "      <td>1987</td>\n",
       "      <td>70.98</td>\n",
       "      <td>37740710</td>\n",
       "      <td>9082.351172</td>\n",
       "    </tr>\n",
       "  </tbody>\n",
       "</table>\n",
       "</div>"
      ],
      "text/plain": [
       "     country continent  year  lifeExp       pop    gdpPercap\n",
       "1231  Poland    Europe  1987    70.98  37740710  9082.351172"
      ]
     },
     "execution_count": 19,
     "metadata": {},
     "output_type": "execute_result"
    }
   ],
   "source": [
    "df.sample()"
   ]
  },
  {
   "cell_type": "code",
   "execution_count": 11,
   "id": "c6b28146-0319-49ae-9da9-d37186f81586",
   "metadata": {
    "tags": []
   },
   "outputs": [
    {
     "data": {
      "text/html": [
       "<div>\n",
       "<style scoped>\n",
       "    .dataframe tbody tr th:only-of-type {\n",
       "        vertical-align: middle;\n",
       "    }\n",
       "\n",
       "    .dataframe tbody tr th {\n",
       "        vertical-align: top;\n",
       "    }\n",
       "\n",
       "    .dataframe thead th {\n",
       "        text-align: right;\n",
       "    }\n",
       "</style>\n",
       "<table border=\"1\" class=\"dataframe\">\n",
       "  <thead>\n",
       "    <tr style=\"text-align: right;\">\n",
       "      <th></th>\n",
       "      <th>country</th>\n",
       "      <th>continent</th>\n",
       "      <th>year</th>\n",
       "      <th>lifeExp</th>\n",
       "      <th>pop</th>\n",
       "      <th>gdpPercap</th>\n",
       "    </tr>\n",
       "  </thead>\n",
       "  <tbody>\n",
       "    <tr>\n",
       "      <th>1699</th>\n",
       "      <td>Zimbabwe</td>\n",
       "      <td>Africa</td>\n",
       "      <td>1987</td>\n",
       "      <td>62.351</td>\n",
       "      <td>9216418</td>\n",
       "      <td>706.157306</td>\n",
       "    </tr>\n",
       "    <tr>\n",
       "      <th>1700</th>\n",
       "      <td>Zimbabwe</td>\n",
       "      <td>Africa</td>\n",
       "      <td>1992</td>\n",
       "      <td>60.377</td>\n",
       "      <td>10704340</td>\n",
       "      <td>693.420786</td>\n",
       "    </tr>\n",
       "    <tr>\n",
       "      <th>1701</th>\n",
       "      <td>Zimbabwe</td>\n",
       "      <td>Africa</td>\n",
       "      <td>1997</td>\n",
       "      <td>46.809</td>\n",
       "      <td>11404948</td>\n",
       "      <td>792.449960</td>\n",
       "    </tr>\n",
       "    <tr>\n",
       "      <th>1702</th>\n",
       "      <td>Zimbabwe</td>\n",
       "      <td>Africa</td>\n",
       "      <td>2002</td>\n",
       "      <td>39.989</td>\n",
       "      <td>11926563</td>\n",
       "      <td>672.038623</td>\n",
       "    </tr>\n",
       "    <tr>\n",
       "      <th>1703</th>\n",
       "      <td>Zimbabwe</td>\n",
       "      <td>Africa</td>\n",
       "      <td>2007</td>\n",
       "      <td>43.487</td>\n",
       "      <td>12311143</td>\n",
       "      <td>469.709298</td>\n",
       "    </tr>\n",
       "  </tbody>\n",
       "</table>\n",
       "</div>"
      ],
      "text/plain": [
       "       country continent  year  lifeExp       pop   gdpPercap\n",
       "1699  Zimbabwe    Africa  1987   62.351   9216418  706.157306\n",
       "1700  Zimbabwe    Africa  1992   60.377  10704340  693.420786\n",
       "1701  Zimbabwe    Africa  1997   46.809  11404948  792.449960\n",
       "1702  Zimbabwe    Africa  2002   39.989  11926563  672.038623\n",
       "1703  Zimbabwe    Africa  2007   43.487  12311143  469.709298"
      ]
     },
     "execution_count": 11,
     "metadata": {},
     "output_type": "execute_result"
    }
   ],
   "source": [
    "df.tail()"
   ]
  },
  {
   "cell_type": "code",
   "execution_count": 12,
   "id": "dfbcca0a-35b0-4366-a507-179ab1c5ebfc",
   "metadata": {
    "tags": []
   },
   "outputs": [
    {
     "data": {
      "text/html": [
       "<div>\n",
       "<style scoped>\n",
       "    .dataframe tbody tr th:only-of-type {\n",
       "        vertical-align: middle;\n",
       "    }\n",
       "\n",
       "    .dataframe tbody tr th {\n",
       "        vertical-align: top;\n",
       "    }\n",
       "\n",
       "    .dataframe thead th {\n",
       "        text-align: right;\n",
       "    }\n",
       "</style>\n",
       "<table border=\"1\" class=\"dataframe\">\n",
       "  <thead>\n",
       "    <tr style=\"text-align: right;\">\n",
       "      <th></th>\n",
       "      <th>country</th>\n",
       "      <th>continent</th>\n",
       "      <th>year</th>\n",
       "      <th>lifeExp</th>\n",
       "      <th>pop</th>\n",
       "      <th>gdpPercap</th>\n",
       "    </tr>\n",
       "  </thead>\n",
       "  <tbody>\n",
       "    <tr>\n",
       "      <th>1474</th>\n",
       "      <td>Sweden</td>\n",
       "      <td>Europe</td>\n",
       "      <td>2002</td>\n",
       "      <td>80.040</td>\n",
       "      <td>8954175</td>\n",
       "      <td>29341.630930</td>\n",
       "    </tr>\n",
       "    <tr>\n",
       "      <th>1493</th>\n",
       "      <td>Syria</td>\n",
       "      <td>Asia</td>\n",
       "      <td>1977</td>\n",
       "      <td>61.195</td>\n",
       "      <td>7932503</td>\n",
       "      <td>3195.484582</td>\n",
       "    </tr>\n",
       "  </tbody>\n",
       "</table>\n",
       "</div>"
      ],
      "text/plain": [
       "     country continent  year  lifeExp      pop     gdpPercap\n",
       "1474  Sweden    Europe  2002   80.040  8954175  29341.630930\n",
       "1493   Syria      Asia  1977   61.195  7932503   3195.484582"
      ]
     },
     "execution_count": 12,
     "metadata": {},
     "output_type": "execute_result"
    }
   ],
   "source": [
    "df.sample(2)"
   ]
  },
  {
   "cell_type": "code",
   "execution_count": 23,
   "id": "76c78e70-05fe-4f0b-abb4-ee551ebc0ea1",
   "metadata": {
    "tags": []
   },
   "outputs": [
    {
     "data": {
      "text/plain": [
       "(1704, 6)"
      ]
     },
     "execution_count": 23,
     "metadata": {},
     "output_type": "execute_result"
    }
   ],
   "source": [
    "df.shape"
   ]
  },
  {
   "cell_type": "code",
   "execution_count": 24,
   "id": "c9ab4596-4f8b-414d-816b-23beb3af2fe7",
   "metadata": {
    "tags": []
   },
   "outputs": [
    {
     "data": {
      "text/plain": [
       "array([['Afghanistan', 'Asia', 1952, 28.801, 8425333, 779.4453145],\n",
       "       ['Afghanistan', 'Asia', 1957, 30.332, 9240934, 820.8530296],\n",
       "       ['Afghanistan', 'Asia', 1962, 31.997, 10267083, 853.10071],\n",
       "       ...,\n",
       "       ['Zimbabwe', 'Africa', 1997, 46.809, 11404948, 792.4499603],\n",
       "       ['Zimbabwe', 'Africa', 2002, 39.989, 11926563, 672.0386227],\n",
       "       ['Zimbabwe', 'Africa', 2007, 43.487, 12311143, 469.7092981]],\n",
       "      dtype=object)"
      ]
     },
     "execution_count": 24,
     "metadata": {},
     "output_type": "execute_result"
    }
   ],
   "source": [
    "df.values"
   ]
  },
  {
   "cell_type": "code",
   "execution_count": 13,
   "id": "effc5317-d963-475f-a47a-64f87f3d3c9c",
   "metadata": {
    "tags": []
   },
   "outputs": [
    {
     "data": {
      "text/plain": [
       "country       object\n",
       "continent     object\n",
       "year           int64\n",
       "lifeExp      float64\n",
       "pop            int64\n",
       "gdpPercap    float64\n",
       "dtype: object"
      ]
     },
     "execution_count": 13,
     "metadata": {},
     "output_type": "execute_result"
    }
   ],
   "source": [
    "df.dtypes"
   ]
  },
  {
   "cell_type": "code",
   "execution_count": 14,
   "id": "49ce1073-aa40-4b93-82c5-ba288f6d7be4",
   "metadata": {
    "tags": []
   },
   "outputs": [
    {
     "name": "stdout",
     "output_type": "stream",
     "text": [
      "<class 'pandas.core.frame.DataFrame'>\n",
      "RangeIndex: 1704 entries, 0 to 1703\n",
      "Data columns (total 6 columns):\n",
      " #   Column     Non-Null Count  Dtype  \n",
      "---  ------     --------------  -----  \n",
      " 0   country    1704 non-null   object \n",
      " 1   continent  1704 non-null   object \n",
      " 2   year       1704 non-null   int64  \n",
      " 3   lifeExp    1704 non-null   float64\n",
      " 4   pop        1704 non-null   int64  \n",
      " 5   gdpPercap  1704 non-null   float64\n",
      "dtypes: float64(2), int64(2), object(2)\n",
      "memory usage: 80.0+ KB\n"
     ]
    }
   ],
   "source": [
    "df.info()"
   ]
  },
  {
   "cell_type": "code",
   "execution_count": 15,
   "id": "fb04e8de-b03e-40d0-aaab-15531028e284",
   "metadata": {
    "tags": []
   },
   "outputs": [
    {
     "data": {
      "text/plain": [
       "Index(['country', 'continent', 'year', 'lifeExp', 'pop', 'gdpPercap'], dtype='object')"
      ]
     },
     "execution_count": 15,
     "metadata": {},
     "output_type": "execute_result"
    }
   ],
   "source": [
    "df.columns"
   ]
  },
  {
   "cell_type": "code",
<<<<<<< HEAD
   "execution_count": 34,
=======
   "execution_count": 16,
>>>>>>> e458a8ec5db99948286b7523f4b313ac67b972db
   "id": "69500e95-5284-4fcd-b38e-0ca2c5ea8b54",
   "metadata": {
    "tags": []
   },
   "outputs": [
    {
     "data": {
      "text/plain": [
       "0       Afghanistan\n",
       "1       Afghanistan\n",
       "2       Afghanistan\n",
       "3       Afghanistan\n",
       "4       Afghanistan\n",
       "           ...     \n",
       "1699       Zimbabwe\n",
       "1700       Zimbabwe\n",
       "1701       Zimbabwe\n",
       "1702       Zimbabwe\n",
       "1703       Zimbabwe\n",
       "Name: country, Length: 1704, dtype: object"
      ]
     },
<<<<<<< HEAD
     "execution_count": 34,
=======
     "execution_count": 16,
>>>>>>> e458a8ec5db99948286b7523f4b313ac67b972db
     "metadata": {},
     "output_type": "execute_result"
    }
   ],
   "source": [
    "df['country']"
   ]
  },
  {
   "cell_type": "code",
<<<<<<< HEAD
   "execution_count": 32,
   "id": "43d07bfb-214d-4f3c-afdf-8155f77a9275",
=======
   "execution_count": 17,
   "id": "fe9758ea-5fc0-4e0e-8bc8-c07a7235f574",
>>>>>>> e458a8ec5db99948286b7523f4b313ac67b972db
   "metadata": {
    "tags": []
   },
   "outputs": [
    {
     "data": {
      "text/plain": [
<<<<<<< HEAD
       "pandas.core.series.Series"
      ]
     },
     "execution_count": 32,
=======
       "country      Afghanistan\n",
       "continent           Asia\n",
       "year                1957\n",
       "lifeExp           30.332\n",
       "pop              9240934\n",
       "gdpPercap      820.85303\n",
       "Name: 1, dtype: object"
      ]
     },
     "execution_count": 17,
>>>>>>> e458a8ec5db99948286b7523f4b313ac67b972db
     "metadata": {},
     "output_type": "execute_result"
    }
   ],
   "source": [
<<<<<<< HEAD
    "type(df['country'])"
=======
    "df.loc[1]"
>>>>>>> e458a8ec5db99948286b7523f4b313ac67b972db
   ]
  },
  {
   "cell_type": "code",
<<<<<<< HEAD
   "execution_count": 33,
   "id": "2e9955f8-e514-496b-adb3-73c9ec4433fd",
=======
   "execution_count": 25,
   "id": "bbcdcbef-eb70-4d9e-b570-4dbfd2eb3f1b",
>>>>>>> e458a8ec5db99948286b7523f4b313ac67b972db
   "metadata": {
    "tags": []
   },
   "outputs": [
    {
     "data": {
      "text/plain": [
<<<<<<< HEAD
       "0    Afghanistan\n",
       "1    Afghanistan\n",
       "2    Afghanistan\n",
       "3    Afghanistan\n",
       "4    Afghanistan\n",
       "Name: country, dtype: object"
      ]
     },
     "execution_count": 33,
=======
       "820.8530296"
      ]
     },
     "execution_count": 25,
>>>>>>> e458a8ec5db99948286b7523f4b313ac67b972db
     "metadata": {},
     "output_type": "execute_result"
    }
   ],
   "source": [
<<<<<<< HEAD
    "df['country'].head()"
=======
    "df.loc[1, 'gdpPercap']"
>>>>>>> e458a8ec5db99948286b7523f4b313ac67b972db
   ]
  },
  {
   "cell_type": "code",
<<<<<<< HEAD
   "execution_count": 37,
   "id": "9811fe90-08ef-4330-84a2-fb12ea58c57d",
   "metadata": {
    "tags": []
   },
   "outputs": [
    {
     "data": {
      "text/html": [
       "<div>\n",
       "<style scoped>\n",
       "    .dataframe tbody tr th:only-of-type {\n",
       "        vertical-align: middle;\n",
       "    }\n",
       "\n",
       "    .dataframe tbody tr th {\n",
       "        vertical-align: top;\n",
       "    }\n",
       "\n",
       "    .dataframe thead th {\n",
       "        text-align: right;\n",
       "    }\n",
       "</style>\n",
       "<table border=\"1\" class=\"dataframe\">\n",
       "  <thead>\n",
       "    <tr style=\"text-align: right;\">\n",
       "      <th></th>\n",
       "      <th>country</th>\n",
       "      <th>year</th>\n",
       "    </tr>\n",
       "  </thead>\n",
       "  <tbody>\n",
       "    <tr>\n",
       "      <th>1702</th>\n",
       "      <td>Zimbabwe</td>\n",
       "      <td>2002</td>\n",
       "    </tr>\n",
       "    <tr>\n",
       "      <th>1703</th>\n",
       "      <td>Zimbabwe</td>\n",
       "      <td>2007</td>\n",
       "    </tr>\n",
       "  </tbody>\n",
       "</table>\n",
       "</div>"
      ],
      "text/plain": [
       "       country  year\n",
       "1702  Zimbabwe  2002\n",
       "1703  Zimbabwe  2007"
      ]
     },
     "execution_count": 37,
     "metadata": {},
     "output_type": "execute_result"
    }
   ],
   "source": [
    "df[['country', 'year']].tail(2)"
   ]
  },
  {
   "cell_type": "code",
   "execution_count": 39,
   "id": "81373ea4-7904-4fb1-adec-2d416d4f5605",
=======
   "execution_count": 29,
   "id": "7c0afffe-6dc0-43b9-8d95-21757003c688",
>>>>>>> e458a8ec5db99948286b7523f4b313ac67b972db
   "metadata": {
    "tags": []
   },
   "outputs": [
    {
     "data": {
      "text/plain": [
<<<<<<< HEAD
       "(1704,)"
      ]
     },
     "execution_count": 39,
     "metadata": {},
     "output_type": "execute_result"
    }
   ],
   "source": [
    "df['country'].shape"
   ]
  },
  {
   "cell_type": "code",
   "execution_count": 40,
   "id": "e36cf069-294c-4b4d-81d3-623394277566",
   "metadata": {
    "collapsed": true,
    "jupyter": {
     "outputs_hidden": true
    },
    "tags": []
   },
   "outputs": [
    {
     "data": {
      "text/html": [
       "<div>\n",
       "<style scoped>\n",
       "    .dataframe tbody tr th:only-of-type {\n",
       "        vertical-align: middle;\n",
       "    }\n",
       "\n",
       "    .dataframe tbody tr th {\n",
       "        vertical-align: top;\n",
       "    }\n",
       "\n",
       "    .dataframe thead th {\n",
       "        text-align: right;\n",
       "    }\n",
       "</style>\n",
       "<table border=\"1\" class=\"dataframe\">\n",
       "  <thead>\n",
       "    <tr style=\"text-align: right;\">\n",
       "      <th></th>\n",
       "      <th>country</th>\n",
       "      <th>lifeExp</th>\n",
       "    </tr>\n",
       "  </thead>\n",
       "  <tbody>\n",
       "    <tr>\n",
       "      <th>0</th>\n",
       "      <td>Afghanistan</td>\n",
       "      <td>28.801</td>\n",
       "    </tr>\n",
       "    <tr>\n",
       "      <th>1</th>\n",
       "      <td>Afghanistan</td>\n",
       "      <td>30.332</td>\n",
       "    </tr>\n",
       "    <tr>\n",
       "      <th>2</th>\n",
       "      <td>Afghanistan</td>\n",
       "      <td>31.997</td>\n",
       "    </tr>\n",
       "    <tr>\n",
       "      <th>3</th>\n",
       "      <td>Afghanistan</td>\n",
       "      <td>34.020</td>\n",
       "    </tr>\n",
       "    <tr>\n",
       "      <th>4</th>\n",
       "      <td>Afghanistan</td>\n",
       "      <td>36.088</td>\n",
       "    </tr>\n",
       "    <tr>\n",
       "      <th>...</th>\n",
       "      <td>...</td>\n",
       "      <td>...</td>\n",
       "    </tr>\n",
       "    <tr>\n",
       "      <th>1699</th>\n",
       "      <td>Zimbabwe</td>\n",
       "      <td>62.351</td>\n",
       "    </tr>\n",
       "    <tr>\n",
       "      <th>1700</th>\n",
       "      <td>Zimbabwe</td>\n",
       "      <td>60.377</td>\n",
       "    </tr>\n",
       "    <tr>\n",
       "      <th>1701</th>\n",
       "      <td>Zimbabwe</td>\n",
       "      <td>46.809</td>\n",
       "    </tr>\n",
       "    <tr>\n",
       "      <th>1702</th>\n",
       "      <td>Zimbabwe</td>\n",
       "      <td>39.989</td>\n",
       "    </tr>\n",
       "    <tr>\n",
       "      <th>1703</th>\n",
       "      <td>Zimbabwe</td>\n",
       "      <td>43.487</td>\n",
       "    </tr>\n",
       "  </tbody>\n",
       "</table>\n",
       "<p>1704 rows × 2 columns</p>\n",
       "</div>"
      ],
      "text/plain": [
       "          country  lifeExp\n",
       "0     Afghanistan   28.801\n",
       "1     Afghanistan   30.332\n",
       "2     Afghanistan   31.997\n",
       "3     Afghanistan   34.020\n",
       "4     Afghanistan   36.088\n",
       "...           ...      ...\n",
       "1699     Zimbabwe   62.351\n",
       "1700     Zimbabwe   60.377\n",
       "1701     Zimbabwe   46.809\n",
       "1702     Zimbabwe   39.989\n",
       "1703     Zimbabwe   43.487\n",
       "\n",
       "[1704 rows x 2 columns]"
      ]
     },
     "execution_count": 40,
     "metadata": {},
     "output_type": "execute_result"
    }
   ],
   "source": [
    "df[['country', 'lifeExp']]"
   ]
  },
  {
   "cell_type": "code",
   "execution_count": 44,
   "id": "7b977807-3460-4895-b06e-eb2f9a213c0b",
   "metadata": {
    "tags": []
   },
   "outputs": [
    {
     "data": {
      "text/plain": [
       "1967"
      ]
     },
     "execution_count": 44,
     "metadata": {},
     "output_type": "execute_result"
    }
   ],
   "source": [
    "df.loc[3, 'year']"
   ]
  },
  {
   "cell_type": "code",
   "execution_count": 45,
   "id": "d204069b-9364-45d3-b194-84ae1626f8da",
   "metadata": {
    "tags": []
   },
   "outputs": [
    {
     "data": {
      "text/plain": [
       "0       Afghanistan\n",
       "1       Afghanistan\n",
       "2       Afghanistan\n",
       "3       Afghanistan\n",
       "4       Afghanistan\n",
=======
       "2       Afghanistan\n",
       "3       Afghanistan\n",
       "4       Afghanistan\n",
       "5       Afghanistan\n",
       "6       Afghanistan\n",
>>>>>>> e458a8ec5db99948286b7523f4b313ac67b972db
       "           ...     \n",
       "1699       Zimbabwe\n",
       "1700       Zimbabwe\n",
       "1701       Zimbabwe\n",
       "1702       Zimbabwe\n",
       "1703       Zimbabwe\n",
<<<<<<< HEAD
       "Name: country, Length: 1704, dtype: object"
      ]
     },
     "execution_count": 45,
=======
       "Name: country, Length: 1702, dtype: object"
      ]
     },
     "execution_count": 29,
>>>>>>> e458a8ec5db99948286b7523f4b313ac67b972db
     "metadata": {},
     "output_type": "execute_result"
    }
   ],
   "source": [
<<<<<<< HEAD
    "df.loc[:, 'country']"
=======
    "df.loc[2:1704, 'country']"
>>>>>>> e458a8ec5db99948286b7523f4b313ac67b972db
   ]
  },
  {
   "cell_type": "code",
<<<<<<< HEAD
   "execution_count": 46,
   "id": "34f68bfe-3e0f-4067-ab0b-57478a3ddc8f",
=======
   "execution_count": 31,
   "id": "2d449e94-512e-4ebf-a75a-d0575f9a8a0a",
>>>>>>> e458a8ec5db99948286b7523f4b313ac67b972db
   "metadata": {
    "tags": []
   },
   "outputs": [
    {
     "data": {
<<<<<<< HEAD
      "text/plain": [
       "1     Afghanistan\n",
       "2     Afghanistan\n",
       "3     Afghanistan\n",
       "4     Afghanistan\n",
       "5     Afghanistan\n",
       "6     Afghanistan\n",
       "7     Afghanistan\n",
       "8     Afghanistan\n",
       "9     Afghanistan\n",
       "10    Afghanistan\n",
       "Name: country, dtype: object"
      ]
     },
     "execution_count": 46,
=======
      "text/html": [
       "<div>\n",
       "<style scoped>\n",
       "    .dataframe tbody tr th:only-of-type {\n",
       "        vertical-align: middle;\n",
       "    }\n",
       "\n",
       "    .dataframe tbody tr th {\n",
       "        vertical-align: top;\n",
       "    }\n",
       "\n",
       "    .dataframe thead th {\n",
       "        text-align: right;\n",
       "    }\n",
       "</style>\n",
       "<table border=\"1\" class=\"dataframe\">\n",
       "  <thead>\n",
       "    <tr style=\"text-align: right;\">\n",
       "      <th></th>\n",
       "      <th>country</th>\n",
       "      <th>continent</th>\n",
       "      <th>year</th>\n",
       "    </tr>\n",
       "  </thead>\n",
       "  <tbody>\n",
       "    <tr>\n",
       "      <th>1</th>\n",
       "      <td>Afghanistan</td>\n",
       "      <td>Asia</td>\n",
       "      <td>1957</td>\n",
       "    </tr>\n",
       "    <tr>\n",
       "      <th>2</th>\n",
       "      <td>Afghanistan</td>\n",
       "      <td>Asia</td>\n",
       "      <td>1962</td>\n",
       "    </tr>\n",
       "    <tr>\n",
       "      <th>3</th>\n",
       "      <td>Afghanistan</td>\n",
       "      <td>Asia</td>\n",
       "      <td>1967</td>\n",
       "    </tr>\n",
       "    <tr>\n",
       "      <th>4</th>\n",
       "      <td>Afghanistan</td>\n",
       "      <td>Asia</td>\n",
       "      <td>1972</td>\n",
       "    </tr>\n",
       "    <tr>\n",
       "      <th>5</th>\n",
       "      <td>Afghanistan</td>\n",
       "      <td>Asia</td>\n",
       "      <td>1977</td>\n",
       "    </tr>\n",
       "    <tr>\n",
       "      <th>6</th>\n",
       "      <td>Afghanistan</td>\n",
       "      <td>Asia</td>\n",
       "      <td>1982</td>\n",
       "    </tr>\n",
       "    <tr>\n",
       "      <th>7</th>\n",
       "      <td>Afghanistan</td>\n",
       "      <td>Asia</td>\n",
       "      <td>1987</td>\n",
       "    </tr>\n",
       "    <tr>\n",
       "      <th>8</th>\n",
       "      <td>Afghanistan</td>\n",
       "      <td>Asia</td>\n",
       "      <td>1992</td>\n",
       "    </tr>\n",
       "    <tr>\n",
       "      <th>9</th>\n",
       "      <td>Afghanistan</td>\n",
       "      <td>Asia</td>\n",
       "      <td>1997</td>\n",
       "    </tr>\n",
       "    <tr>\n",
       "      <th>10</th>\n",
       "      <td>Afghanistan</td>\n",
       "      <td>Asia</td>\n",
       "      <td>2002</td>\n",
       "    </tr>\n",
       "  </tbody>\n",
       "</table>\n",
       "</div>"
      ],
      "text/plain": [
       "        country continent  year\n",
       "1   Afghanistan      Asia  1957\n",
       "2   Afghanistan      Asia  1962\n",
       "3   Afghanistan      Asia  1967\n",
       "4   Afghanistan      Asia  1972\n",
       "5   Afghanistan      Asia  1977\n",
       "6   Afghanistan      Asia  1982\n",
       "7   Afghanistan      Asia  1987\n",
       "8   Afghanistan      Asia  1992\n",
       "9   Afghanistan      Asia  1997\n",
       "10  Afghanistan      Asia  2002"
      ]
     },
     "execution_count": 31,
>>>>>>> e458a8ec5db99948286b7523f4b313ac67b972db
     "metadata": {},
     "output_type": "execute_result"
    }
   ],
   "source": [
<<<<<<< HEAD
    "df.loc[1:10, 'country']"
=======
    "df.loc[1:10, 'country':'year']"
>>>>>>> e458a8ec5db99948286b7523f4b313ac67b972db
   ]
  },
  {
   "cell_type": "code",
<<<<<<< HEAD
   "execution_count": 47,
   "id": "5014e7a7-f8ac-4d26-a0b2-2bda8235e90e",
=======
   "execution_count": 32,
   "id": "3398dc55-ef38-45c0-a458-477f50b6108a",
>>>>>>> e458a8ec5db99948286b7523f4b313ac67b972db
   "metadata": {
    "tags": []
   },
   "outputs": [
    {
     "data": {
      "text/html": [
       "<div>\n",
       "<style scoped>\n",
       "    .dataframe tbody tr th:only-of-type {\n",
       "        vertical-align: middle;\n",
       "    }\n",
       "\n",
       "    .dataframe tbody tr th {\n",
       "        vertical-align: top;\n",
       "    }\n",
       "\n",
       "    .dataframe thead th {\n",
       "        text-align: right;\n",
       "    }\n",
       "</style>\n",
       "<table border=\"1\" class=\"dataframe\">\n",
       "  <thead>\n",
       "    <tr style=\"text-align: right;\">\n",
       "      <th></th>\n",
       "      <th>country</th>\n",
       "      <th>continent</th>\n",
       "      <th>year</th>\n",
       "      <th>lifeExp</th>\n",
       "      <th>pop</th>\n",
       "      <th>gdpPercap</th>\n",
       "    </tr>\n",
       "  </thead>\n",
       "  <tbody>\n",
       "    <tr>\n",
       "      <th>0</th>\n",
       "      <td>Afghanistan</td>\n",
       "      <td>Asia</td>\n",
       "      <td>1952</td>\n",
       "      <td>28.801</td>\n",
       "      <td>8425333</td>\n",
       "      <td>779.445314</td>\n",
       "    </tr>\n",
       "    <tr>\n",
       "      <th>1</th>\n",
       "      <td>Afghanistan</td>\n",
       "      <td>Asia</td>\n",
       "      <td>1957</td>\n",
       "      <td>30.332</td>\n",
       "      <td>9240934</td>\n",
       "      <td>820.853030</td>\n",
       "    </tr>\n",
       "    <tr>\n",
       "      <th>2</th>\n",
       "      <td>Afghanistan</td>\n",
       "      <td>Asia</td>\n",
       "      <td>1962</td>\n",
       "      <td>31.997</td>\n",
       "      <td>10267083</td>\n",
       "      <td>853.100710</td>\n",
       "    </tr>\n",
       "    <tr>\n",
       "      <th>3</th>\n",
       "      <td>Afghanistan</td>\n",
       "      <td>Asia</td>\n",
       "      <td>1967</td>\n",
       "      <td>34.020</td>\n",
       "      <td>11537966</td>\n",
       "      <td>836.197138</td>\n",
       "    </tr>\n",
       "    <tr>\n",
       "      <th>4</th>\n",
       "      <td>Afghanistan</td>\n",
       "      <td>Asia</td>\n",
       "      <td>1972</td>\n",
       "      <td>36.088</td>\n",
       "      <td>13079460</td>\n",
       "      <td>739.981106</td>\n",
       "    </tr>\n",
       "    <tr>\n",
       "      <th>...</th>\n",
       "      <td>...</td>\n",
       "      <td>...</td>\n",
       "      <td>...</td>\n",
       "      <td>...</td>\n",
       "      <td>...</td>\n",
       "      <td>...</td>\n",
       "    </tr>\n",
       "    <tr>\n",
       "      <th>1699</th>\n",
       "      <td>Zimbabwe</td>\n",
       "      <td>Africa</td>\n",
       "      <td>1987</td>\n",
       "      <td>62.351</td>\n",
       "      <td>9216418</td>\n",
       "      <td>706.157306</td>\n",
       "    </tr>\n",
       "    <tr>\n",
       "      <th>1700</th>\n",
       "      <td>Zimbabwe</td>\n",
       "      <td>Africa</td>\n",
       "      <td>1992</td>\n",
       "      <td>60.377</td>\n",
       "      <td>10704340</td>\n",
       "      <td>693.420786</td>\n",
       "    </tr>\n",
       "    <tr>\n",
       "      <th>1701</th>\n",
       "      <td>Zimbabwe</td>\n",
       "      <td>Africa</td>\n",
       "      <td>1997</td>\n",
       "      <td>46.809</td>\n",
       "      <td>11404948</td>\n",
       "      <td>792.449960</td>\n",
       "    </tr>\n",
       "    <tr>\n",
       "      <th>1702</th>\n",
       "      <td>Zimbabwe</td>\n",
       "      <td>Africa</td>\n",
       "      <td>2002</td>\n",
       "      <td>39.989</td>\n",
       "      <td>11926563</td>\n",
       "      <td>672.038623</td>\n",
       "    </tr>\n",
       "    <tr>\n",
       "      <th>1703</th>\n",
       "      <td>Zimbabwe</td>\n",
       "      <td>Africa</td>\n",
       "      <td>2007</td>\n",
       "      <td>43.487</td>\n",
       "      <td>12311143</td>\n",
       "      <td>469.709298</td>\n",
       "    </tr>\n",
       "  </tbody>\n",
       "</table>\n",
       "<p>1704 rows × 6 columns</p>\n",
       "</div>"
      ],
      "text/plain": [
       "          country continent  year  lifeExp       pop   gdpPercap\n",
       "0     Afghanistan      Asia  1952   28.801   8425333  779.445314\n",
       "1     Afghanistan      Asia  1957   30.332   9240934  820.853030\n",
       "2     Afghanistan      Asia  1962   31.997  10267083  853.100710\n",
       "3     Afghanistan      Asia  1967   34.020  11537966  836.197138\n",
       "4     Afghanistan      Asia  1972   36.088  13079460  739.981106\n",
       "...           ...       ...   ...      ...       ...         ...\n",
       "1699     Zimbabwe    Africa  1987   62.351   9216418  706.157306\n",
       "1700     Zimbabwe    Africa  1992   60.377  10704340  693.420786\n",
       "1701     Zimbabwe    Africa  1997   46.809  11404948  792.449960\n",
       "1702     Zimbabwe    Africa  2002   39.989  11926563  672.038623\n",
       "1703     Zimbabwe    Africa  2007   43.487  12311143  469.709298\n",
       "\n",
       "[1704 rows x 6 columns]"
      ]
     },
<<<<<<< HEAD
     "execution_count": 47,
=======
     "execution_count": 32,
>>>>>>> e458a8ec5db99948286b7523f4b313ac67b972db
     "metadata": {},
     "output_type": "execute_result"
    }
   ],
   "source": [
<<<<<<< HEAD
    "df.loc[:,:]"
=======
    "df"
>>>>>>> e458a8ec5db99948286b7523f4b313ac67b972db
   ]
  },
  {
   "cell_type": "code",
<<<<<<< HEAD
   "execution_count": 49,
   "id": "628c918e-766a-4b05-905b-bfe13884ff45",
   "metadata": {
    "tags": []
   },
   "outputs": [
    {
     "data": {
      "text/html": [
       "<div>\n",
       "<style scoped>\n",
       "    .dataframe tbody tr th:only-of-type {\n",
       "        vertical-align: middle;\n",
       "    }\n",
       "\n",
       "    .dataframe tbody tr th {\n",
       "        vertical-align: top;\n",
       "    }\n",
       "\n",
       "    .dataframe thead th {\n",
       "        text-align: right;\n",
       "    }\n",
       "</style>\n",
       "<table border=\"1\" class=\"dataframe\">\n",
       "  <thead>\n",
       "    <tr style=\"text-align: right;\">\n",
       "      <th></th>\n",
       "      <th>country</th>\n",
       "      <th>continent</th>\n",
       "      <th>year</th>\n",
       "    </tr>\n",
       "  </thead>\n",
       "  <tbody>\n",
       "    <tr>\n",
       "      <th>2</th>\n",
       "      <td>Afghanistan</td>\n",
       "      <td>Asia</td>\n",
       "      <td>1962</td>\n",
       "    </tr>\n",
       "    <tr>\n",
       "      <th>3</th>\n",
       "      <td>Afghanistan</td>\n",
       "      <td>Asia</td>\n",
       "      <td>1967</td>\n",
       "    </tr>\n",
       "    <tr>\n",
       "      <th>4</th>\n",
       "      <td>Afghanistan</td>\n",
       "      <td>Asia</td>\n",
       "      <td>1972</td>\n",
       "    </tr>\n",
       "    <tr>\n",
       "      <th>5</th>\n",
       "      <td>Afghanistan</td>\n",
       "      <td>Asia</td>\n",
       "      <td>1977</td>\n",
       "    </tr>\n",
       "    <tr>\n",
       "      <th>6</th>\n",
       "      <td>Afghanistan</td>\n",
       "      <td>Asia</td>\n",
       "      <td>1982</td>\n",
       "    </tr>\n",
       "    <tr>\n",
       "      <th>7</th>\n",
       "      <td>Afghanistan</td>\n",
       "      <td>Asia</td>\n",
       "      <td>1987</td>\n",
       "    </tr>\n",
       "    <tr>\n",
       "      <th>8</th>\n",
       "      <td>Afghanistan</td>\n",
       "      <td>Asia</td>\n",
       "      <td>1992</td>\n",
       "    </tr>\n",
       "    <tr>\n",
       "      <th>9</th>\n",
       "      <td>Afghanistan</td>\n",
       "      <td>Asia</td>\n",
       "      <td>1997</td>\n",
       "    </tr>\n",
       "  </tbody>\n",
       "</table>\n",
       "</div>"
      ],
      "text/plain": [
       "       country continent  year\n",
       "2  Afghanistan      Asia  1962\n",
       "3  Afghanistan      Asia  1967\n",
       "4  Afghanistan      Asia  1972\n",
       "5  Afghanistan      Asia  1977\n",
       "6  Afghanistan      Asia  1982\n",
       "7  Afghanistan      Asia  1987\n",
       "8  Afghanistan      Asia  1992\n",
       "9  Afghanistan      Asia  1997"
      ]
     },
     "execution_count": 49,
     "metadata": {},
     "output_type": "execute_result"
    }
   ],
   "source": [
    "df.loc[2:9, 'country':'year']"
   ]
  },
  {
   "cell_type": "code",
   "execution_count": 50,
   "id": "e5d7d4eb-262c-4549-af51-d0a5d3dd99d7",
=======
   "execution_count": 36,
   "id": "2a07e2dc-3e82-49d8-8b4f-edf0d6e148a9",
>>>>>>> e458a8ec5db99948286b7523f4b313ac67b972db
   "metadata": {
    "tags": []
   },
   "outputs": [
    {
     "data": {
      "text/html": [
       "<div>\n",
       "<style scoped>\n",
       "    .dataframe tbody tr th:only-of-type {\n",
       "        vertical-align: middle;\n",
       "    }\n",
       "\n",
       "    .dataframe tbody tr th {\n",
       "        vertical-align: top;\n",
       "    }\n",
       "\n",
       "    .dataframe thead th {\n",
       "        text-align: right;\n",
       "    }\n",
       "</style>\n",
       "<table border=\"1\" class=\"dataframe\">\n",
       "  <thead>\n",
       "    <tr style=\"text-align: right;\">\n",
       "      <th></th>\n",
       "      <th>country</th>\n",
       "      <th>lifeExp</th>\n",
<<<<<<< HEAD
=======
       "      <th>year</th>\n",
>>>>>>> e458a8ec5db99948286b7523f4b313ac67b972db
       "    </tr>\n",
       "  </thead>\n",
       "  <tbody>\n",
       "    <tr>\n",
       "      <th>1</th>\n",
       "      <td>Afghanistan</td>\n",
       "      <td>30.332</td>\n",
<<<<<<< HEAD
=======
       "      <td>1957</td>\n",
>>>>>>> e458a8ec5db99948286b7523f4b313ac67b972db
       "    </tr>\n",
       "    <tr>\n",
       "      <th>2</th>\n",
       "      <td>Afghanistan</td>\n",
       "      <td>31.997</td>\n",
<<<<<<< HEAD
=======
       "      <td>1962</td>\n",
>>>>>>> e458a8ec5db99948286b7523f4b313ac67b972db
       "    </tr>\n",
       "    <tr>\n",
       "      <th>3</th>\n",
       "      <td>Afghanistan</td>\n",
       "      <td>34.020</td>\n",
<<<<<<< HEAD
=======
       "      <td>1967</td>\n",
>>>>>>> e458a8ec5db99948286b7523f4b313ac67b972db
       "    </tr>\n",
       "  </tbody>\n",
       "</table>\n",
       "</div>"
      ],
      "text/plain": [
<<<<<<< HEAD
       "       country  lifeExp\n",
       "1  Afghanistan   30.332\n",
       "2  Afghanistan   31.997\n",
       "3  Afghanistan   34.020"
      ]
     },
     "execution_count": 50,
=======
       "       country  lifeExp  year\n",
       "1  Afghanistan   30.332  1957\n",
       "2  Afghanistan   31.997  1962\n",
       "3  Afghanistan   34.020  1967"
      ]
     },
     "execution_count": 36,
>>>>>>> e458a8ec5db99948286b7523f4b313ac67b972db
     "metadata": {},
     "output_type": "execute_result"
    }
   ],
   "source": [
<<<<<<< HEAD
    "df.loc[[1,2,3],['country','lifeExp']]"
=======
    "df.loc[[1,2,3], ['country', 'lifeExp', 'year']]"
>>>>>>> e458a8ec5db99948286b7523f4b313ac67b972db
   ]
  },
  {
   "cell_type": "code",
<<<<<<< HEAD
   "execution_count": 52,
   "id": "19c6eae9-3741-475d-981c-932e895034c2",
=======
   "execution_count": 39,
   "id": "6d617d90-7d8f-425f-a813-0f8522043a70",
>>>>>>> e458a8ec5db99948286b7523f4b313ac67b972db
   "metadata": {
    "tags": []
   },
   "outputs": [
    {
     "data": {
      "text/html": [
       "<div>\n",
       "<style scoped>\n",
       "    .dataframe tbody tr th:only-of-type {\n",
       "        vertical-align: middle;\n",
       "    }\n",
       "\n",
       "    .dataframe tbody tr th {\n",
       "        vertical-align: top;\n",
       "    }\n",
       "\n",
       "    .dataframe thead th {\n",
       "        text-align: right;\n",
       "    }\n",
       "</style>\n",
       "<table border=\"1\" class=\"dataframe\">\n",
       "  <thead>\n",
       "    <tr style=\"text-align: right;\">\n",
       "      <th></th>\n",
       "      <th>country</th>\n",
<<<<<<< HEAD
=======
       "      <th>continent</th>\n",
       "      <th>year</th>\n",
       "      <th>lifeExp</th>\n",
       "      <th>pop</th>\n",
       "      <th>gdpPercap</th>\n",
       "    </tr>\n",
       "  </thead>\n",
       "  <tbody>\n",
       "    <tr>\n",
       "      <th>0</th>\n",
       "      <td>Afghanistan</td>\n",
       "      <td>Asia</td>\n",
       "      <td>1952</td>\n",
       "      <td>28.801</td>\n",
       "      <td>8425333</td>\n",
       "      <td>779.445314</td>\n",
       "    </tr>\n",
       "    <tr>\n",
       "      <th>1</th>\n",
       "      <td>Afghanistan</td>\n",
       "      <td>Asia</td>\n",
       "      <td>1957</td>\n",
       "      <td>30.332</td>\n",
       "      <td>9240934</td>\n",
       "      <td>820.853030</td>\n",
       "    </tr>\n",
       "    <tr>\n",
       "      <th>2</th>\n",
       "      <td>Afghanistan</td>\n",
       "      <td>Asia</td>\n",
       "      <td>1962</td>\n",
       "      <td>31.997</td>\n",
       "      <td>10267083</td>\n",
       "      <td>853.100710</td>\n",
       "    </tr>\n",
       "    <tr>\n",
       "      <th>3</th>\n",
       "      <td>Afghanistan</td>\n",
       "      <td>Asia</td>\n",
       "      <td>1967</td>\n",
       "      <td>34.020</td>\n",
       "      <td>11537966</td>\n",
       "      <td>836.197138</td>\n",
       "    </tr>\n",
       "    <tr>\n",
       "      <th>4</th>\n",
       "      <td>Afghanistan</td>\n",
       "      <td>Asia</td>\n",
       "      <td>1972</td>\n",
       "      <td>36.088</td>\n",
       "      <td>13079460</td>\n",
       "      <td>739.981106</td>\n",
       "    </tr>\n",
       "    <tr>\n",
       "      <th>...</th>\n",
       "      <td>...</td>\n",
       "      <td>...</td>\n",
       "      <td>...</td>\n",
       "      <td>...</td>\n",
       "      <td>...</td>\n",
       "      <td>...</td>\n",
       "    </tr>\n",
       "    <tr>\n",
       "      <th>1699</th>\n",
       "      <td>Zimbabwe</td>\n",
       "      <td>Africa</td>\n",
       "      <td>1987</td>\n",
       "      <td>62.351</td>\n",
       "      <td>9216418</td>\n",
       "      <td>706.157306</td>\n",
       "    </tr>\n",
       "    <tr>\n",
       "      <th>1700</th>\n",
       "      <td>Zimbabwe</td>\n",
       "      <td>Africa</td>\n",
       "      <td>1992</td>\n",
       "      <td>60.377</td>\n",
       "      <td>10704340</td>\n",
       "      <td>693.420786</td>\n",
       "    </tr>\n",
       "    <tr>\n",
       "      <th>1701</th>\n",
       "      <td>Zimbabwe</td>\n",
       "      <td>Africa</td>\n",
       "      <td>1997</td>\n",
       "      <td>46.809</td>\n",
       "      <td>11404948</td>\n",
       "      <td>792.449960</td>\n",
       "    </tr>\n",
       "    <tr>\n",
       "      <th>1702</th>\n",
       "      <td>Zimbabwe</td>\n",
       "      <td>Africa</td>\n",
       "      <td>2002</td>\n",
       "      <td>39.989</td>\n",
       "      <td>11926563</td>\n",
       "      <td>672.038623</td>\n",
       "    </tr>\n",
       "    <tr>\n",
       "      <th>1703</th>\n",
       "      <td>Zimbabwe</td>\n",
       "      <td>Africa</td>\n",
       "      <td>2007</td>\n",
       "      <td>43.487</td>\n",
       "      <td>12311143</td>\n",
       "      <td>469.709298</td>\n",
       "    </tr>\n",
       "  </tbody>\n",
       "</table>\n",
       "<p>1704 rows × 6 columns</p>\n",
       "</div>"
      ],
      "text/plain": [
       "          country continent  year  lifeExp       pop   gdpPercap\n",
       "0     Afghanistan      Asia  1952   28.801   8425333  779.445314\n",
       "1     Afghanistan      Asia  1957   30.332   9240934  820.853030\n",
       "2     Afghanistan      Asia  1962   31.997  10267083  853.100710\n",
       "3     Afghanistan      Asia  1967   34.020  11537966  836.197138\n",
       "4     Afghanistan      Asia  1972   36.088  13079460  739.981106\n",
       "...           ...       ...   ...      ...       ...         ...\n",
       "1699     Zimbabwe    Africa  1987   62.351   9216418  706.157306\n",
       "1700     Zimbabwe    Africa  1992   60.377  10704340  693.420786\n",
       "1701     Zimbabwe    Africa  1997   46.809  11404948  792.449960\n",
       "1702     Zimbabwe    Africa  2002   39.989  11926563  672.038623\n",
       "1703     Zimbabwe    Africa  2007   43.487  12311143  469.709298\n",
       "\n",
       "[1704 rows x 6 columns]"
      ]
     },
     "execution_count": 39,
     "metadata": {},
     "output_type": "execute_result"
    }
   ],
   "source": [
    "df"
   ]
  },
  {
   "cell_type": "code",
   "execution_count": 43,
   "id": "1400fc2a-4657-449e-ad94-559312d93158",
   "metadata": {
    "collapsed": true,
    "jupyter": {
     "outputs_hidden": true
    },
    "tags": []
   },
   "outputs": [
    {
     "data": {
      "text/html": [
       "<div>\n",
       "<style scoped>\n",
       "    .dataframe tbody tr th:only-of-type {\n",
       "        vertical-align: middle;\n",
       "    }\n",
       "\n",
       "    .dataframe tbody tr th {\n",
       "        vertical-align: top;\n",
       "    }\n",
       "\n",
       "    .dataframe thead th {\n",
       "        text-align: right;\n",
       "    }\n",
       "</style>\n",
       "<table border=\"1\" class=\"dataframe\">\n",
       "  <thead>\n",
       "    <tr style=\"text-align: right;\">\n",
       "      <th></th>\n",
       "      <th>country</th>\n",
       "      <th>continent</th>\n",
>>>>>>> e458a8ec5db99948286b7523f4b313ac67b972db
       "      <th>year</th>\n",
       "    </tr>\n",
       "  </thead>\n",
       "  <tbody>\n",
       "    <tr>\n",
       "      <th>0</th>\n",
       "      <td>Afghanistan</td>\n",
<<<<<<< HEAD
       "      <td>1952</td>\n",
       "    </tr>\n",
       "    <tr>\n",
       "      <th>1</th>\n",
       "      <td>Afghanistan</td>\n",
       "      <td>1957</td>\n",
       "    </tr>\n",
       "    <tr>\n",
       "      <th>2</th>\n",
       "      <td>Afghanistan</td>\n",
       "      <td>1962</td>\n",
       "    </tr>\n",
       "  </tbody>\n",
       "</table>\n",
       "</div>"
      ],
      "text/plain": [
       "       country  year\n",
       "0  Afghanistan  1952\n",
       "1  Afghanistan  1957\n",
       "2  Afghanistan  1962"
      ]
     },
     "execution_count": 52,
=======
       "      <td>Asia</td>\n",
       "      <td>1952</td>\n",
       "    </tr>\n",
       "    <tr>\n",
       "      <th>3</th>\n",
       "      <td>Afghanistan</td>\n",
       "      <td>Asia</td>\n",
       "      <td>1967</td>\n",
       "    </tr>\n",
       "    <tr>\n",
       "      <th>6</th>\n",
       "      <td>Afghanistan</td>\n",
       "      <td>Asia</td>\n",
       "      <td>1982</td>\n",
       "    </tr>\n",
       "    <tr>\n",
       "      <th>9</th>\n",
       "      <td>Afghanistan</td>\n",
       "      <td>Asia</td>\n",
       "      <td>1997</td>\n",
       "    </tr>\n",
       "    <tr>\n",
       "      <th>12</th>\n",
       "      <td>Albania</td>\n",
       "      <td>Europe</td>\n",
       "      <td>1952</td>\n",
       "    </tr>\n",
       "    <tr>\n",
       "      <th>...</th>\n",
       "      <td>...</td>\n",
       "      <td>...</td>\n",
       "      <td>...</td>\n",
       "    </tr>\n",
       "    <tr>\n",
       "      <th>1689</th>\n",
       "      <td>Zambia</td>\n",
       "      <td>Africa</td>\n",
       "      <td>1997</td>\n",
       "    </tr>\n",
       "    <tr>\n",
       "      <th>1692</th>\n",
       "      <td>Zimbabwe</td>\n",
       "      <td>Africa</td>\n",
       "      <td>1952</td>\n",
       "    </tr>\n",
       "    <tr>\n",
       "      <th>1695</th>\n",
       "      <td>Zimbabwe</td>\n",
       "      <td>Africa</td>\n",
       "      <td>1967</td>\n",
       "    </tr>\n",
       "    <tr>\n",
       "      <th>1698</th>\n",
       "      <td>Zimbabwe</td>\n",
       "      <td>Africa</td>\n",
       "      <td>1982</td>\n",
       "    </tr>\n",
       "    <tr>\n",
       "      <th>1701</th>\n",
       "      <td>Zimbabwe</td>\n",
       "      <td>Africa</td>\n",
       "      <td>1997</td>\n",
       "    </tr>\n",
       "  </tbody>\n",
       "</table>\n",
       "<p>568 rows × 3 columns</p>\n",
       "</div>"
      ],
      "text/plain": [
       "          country continent  year\n",
       "0     Afghanistan      Asia  1952\n",
       "3     Afghanistan      Asia  1967\n",
       "6     Afghanistan      Asia  1982\n",
       "9     Afghanistan      Asia  1997\n",
       "12        Albania    Europe  1952\n",
       "...           ...       ...   ...\n",
       "1689       Zambia    Africa  1997\n",
       "1692     Zimbabwe    Africa  1952\n",
       "1695     Zimbabwe    Africa  1967\n",
       "1698     Zimbabwe    Africa  1982\n",
       "1701     Zimbabwe    Africa  1997\n",
       "\n",
       "[568 rows x 3 columns]"
      ]
     },
     "execution_count": 43,
>>>>>>> e458a8ec5db99948286b7523f4b313ac67b972db
     "metadata": {},
     "output_type": "execute_result"
    }
   ],
   "source": [
<<<<<<< HEAD
    "df.iloc[[0,1,2], [0,2]]"
=======
    "df.iloc[:1702:3, :3]"
>>>>>>> e458a8ec5db99948286b7523f4b313ac67b972db
   ]
  },
  {
   "cell_type": "code",
<<<<<<< HEAD
   "execution_count": 53,
   "id": "2b475b54-0b70-4677-bdae-401137e500b4",
=======
   "execution_count": 44,
   "id": "304be592-e4bc-4814-8827-47de541ce44a",
>>>>>>> e458a8ec5db99948286b7523f4b313ac67b972db
   "metadata": {
    "tags": []
   },
   "outputs": [
    {
     "data": {
      "text/html": [
       "<div>\n",
       "<style scoped>\n",
       "    .dataframe tbody tr th:only-of-type {\n",
       "        vertical-align: middle;\n",
       "    }\n",
       "\n",
       "    .dataframe tbody tr th {\n",
       "        vertical-align: top;\n",
       "    }\n",
       "\n",
       "    .dataframe thead th {\n",
       "        text-align: right;\n",
       "    }\n",
       "</style>\n",
       "<table border=\"1\" class=\"dataframe\">\n",
       "  <thead>\n",
       "    <tr style=\"text-align: right;\">\n",
       "      <th></th>\n",
       "      <th>continent</th>\n",
       "      <th>year</th>\n",
<<<<<<< HEAD
=======
       "      <th>lifeExp</th>\n",
       "      <th>pop</th>\n",
>>>>>>> e458a8ec5db99948286b7523f4b313ac67b972db
       "    </tr>\n",
       "  </thead>\n",
       "  <tbody>\n",
       "    <tr>\n",
       "      <th>1</th>\n",
       "      <td>Asia</td>\n",
       "      <td>1957</td>\n",
<<<<<<< HEAD
=======
       "      <td>30.332</td>\n",
       "      <td>9240934</td>\n",
>>>>>>> e458a8ec5db99948286b7523f4b313ac67b972db
       "    </tr>\n",
       "    <tr>\n",
       "      <th>2</th>\n",
       "      <td>Asia</td>\n",
       "      <td>1962</td>\n",
<<<<<<< HEAD
=======
       "      <td>31.997</td>\n",
       "      <td>10267083</td>\n",
>>>>>>> e458a8ec5db99948286b7523f4b313ac67b972db
       "    </tr>\n",
       "    <tr>\n",
       "      <th>3</th>\n",
       "      <td>Asia</td>\n",
       "      <td>1967</td>\n",
<<<<<<< HEAD
=======
       "      <td>34.020</td>\n",
       "      <td>11537966</td>\n",
>>>>>>> e458a8ec5db99948286b7523f4b313ac67b972db
       "    </tr>\n",
       "    <tr>\n",
       "      <th>4</th>\n",
       "      <td>Asia</td>\n",
       "      <td>1972</td>\n",
<<<<<<< HEAD
=======
       "      <td>36.088</td>\n",
       "      <td>13079460</td>\n",
>>>>>>> e458a8ec5db99948286b7523f4b313ac67b972db
       "    </tr>\n",
       "    <tr>\n",
       "      <th>5</th>\n",
       "      <td>Asia</td>\n",
       "      <td>1977</td>\n",
<<<<<<< HEAD
=======
       "      <td>38.438</td>\n",
       "      <td>14880372</td>\n",
>>>>>>> e458a8ec5db99948286b7523f4b313ac67b972db
       "    </tr>\n",
       "    <tr>\n",
       "      <th>6</th>\n",
       "      <td>Asia</td>\n",
       "      <td>1982</td>\n",
<<<<<<< HEAD
=======
       "      <td>39.854</td>\n",
       "      <td>12881816</td>\n",
>>>>>>> e458a8ec5db99948286b7523f4b313ac67b972db
       "    </tr>\n",
       "    <tr>\n",
       "      <th>7</th>\n",
       "      <td>Asia</td>\n",
       "      <td>1987</td>\n",
<<<<<<< HEAD
=======
       "      <td>40.822</td>\n",
       "      <td>13867957</td>\n",
>>>>>>> e458a8ec5db99948286b7523f4b313ac67b972db
       "    </tr>\n",
       "    <tr>\n",
       "      <th>8</th>\n",
       "      <td>Asia</td>\n",
       "      <td>1992</td>\n",
<<<<<<< HEAD
=======
       "      <td>41.674</td>\n",
       "      <td>16317921</td>\n",
>>>>>>> e458a8ec5db99948286b7523f4b313ac67b972db
       "    </tr>\n",
       "    <tr>\n",
       "      <th>9</th>\n",
       "      <td>Asia</td>\n",
       "      <td>1997</td>\n",
<<<<<<< HEAD
=======
       "      <td>41.763</td>\n",
       "      <td>22227415</td>\n",
>>>>>>> e458a8ec5db99948286b7523f4b313ac67b972db
       "    </tr>\n",
       "  </tbody>\n",
       "</table>\n",
       "</div>"
      ],
      "text/plain": [
<<<<<<< HEAD
       "  continent  year\n",
       "1      Asia  1957\n",
       "2      Asia  1962\n",
       "3      Asia  1967\n",
       "4      Asia  1972\n",
       "5      Asia  1977\n",
       "6      Asia  1982\n",
       "7      Asia  1987\n",
       "8      Asia  1992\n",
       "9      Asia  1997"
      ]
     },
     "execution_count": 53,
=======
       "  continent  year  lifeExp       pop\n",
       "1      Asia  1957   30.332   9240934\n",
       "2      Asia  1962   31.997  10267083\n",
       "3      Asia  1967   34.020  11537966\n",
       "4      Asia  1972   36.088  13079460\n",
       "5      Asia  1977   38.438  14880372\n",
       "6      Asia  1982   39.854  12881816\n",
       "7      Asia  1987   40.822  13867957\n",
       "8      Asia  1992   41.674  16317921\n",
       "9      Asia  1997   41.763  22227415"
      ]
     },
     "execution_count": 44,
>>>>>>> e458a8ec5db99948286b7523f4b313ac67b972db
     "metadata": {},
     "output_type": "execute_result"
    }
   ],
   "source": [
<<<<<<< HEAD
    "df.iloc[1:10, 1:3]"
=======
    "df.iloc[1:10, 1:-1]"
>>>>>>> e458a8ec5db99948286b7523f4b313ac67b972db
   ]
  },
  {
   "cell_type": "code",
<<<<<<< HEAD
   "execution_count": 54,
   "id": "c008fb3d-c0e2-439d-ab7e-06c7827b5759",
=======
   "execution_count": 45,
   "id": "13ef23a2-a72e-4cad-874a-3b0e7c3cc504",
>>>>>>> e458a8ec5db99948286b7523f4b313ac67b972db
   "metadata": {
    "tags": []
   },
   "outputs": [
    {
     "data": {
      "text/plain": [
<<<<<<< HEAD
       "country      AfghanistanAfghanistanAfghanistanAfghanistanAf...\n",
       "continent    AsiaAsiaAsiaAsiaAsiaAsiaAsiaAsiaAsiaAsiaAsiaAs...\n",
       "year                                                   3373068\n",
       "lifeExp                                           101344.44468\n",
       "pop                                                50440465801\n",
       "gdpPercap                                      12294917.346386\n",
       "dtype: object"
      ]
     },
     "execution_count": 54,
=======
       "pop        2.960121e+07\n",
       "lifeExp    5.947444e+01\n",
       "dtype: float64"
      ]
     },
     "execution_count": 45,
>>>>>>> e458a8ec5db99948286b7523f4b313ac67b972db
     "metadata": {},
     "output_type": "execute_result"
    }
   ],
   "source": [
<<<<<<< HEAD
    "df.sum()"
   ]
=======
    "df[['pop', 'lifeExp']].mean()"
   ]
  },
  {
   "cell_type": "code",
   "execution_count": null,
   "id": "178f5b0c-d83b-4b9e-a3e8-0327fc3e455e",
   "metadata": {
    "jupyter": {
     "source_hidden": true
    },
    "tags": []
   },
   "outputs": [],
   "source": []
  },
  {
   "cell_type": "code",
   "execution_count": 47,
   "id": "4770a624-6323-489a-8d66-881e6786324f",
   "metadata": {
    "tags": []
   },
   "outputs": [
    {
     "data": {
      "text/plain": [
       "country\n",
       "Afghanistan           37.478833\n",
       "Albania               68.432917\n",
       "Algeria               59.030167\n",
       "Angola                37.883500\n",
       "Argentina             69.060417\n",
       "                        ...    \n",
       "Vietnam               57.479500\n",
       "West Bank and Gaza    60.328667\n",
       "Yemen, Rep.           46.780417\n",
       "Zambia                45.996333\n",
       "Zimbabwe              52.663167\n",
       "Name: lifeExp, Length: 142, dtype: float64"
      ]
     },
     "execution_count": 47,
     "metadata": {},
     "output_type": "execute_result"
    }
   ],
   "source": [
    "df.groupby('country')['lifeExp'].mean()"
   ]
  },
  {
   "cell_type": "code",
   "execution_count": 48,
   "id": "7fade18e-b24f-4e37-bb8f-cf400d9d2170",
   "metadata": {
    "tags": []
   },
   "outputs": [
    {
     "data": {
      "text/plain": [
       "continent\n",
       "Africa      52\n",
       "Americas    25\n",
       "Asia        33\n",
       "Europe      30\n",
       "Oceania      2\n",
       "Name: country, dtype: int64"
      ]
     },
     "execution_count": 48,
     "metadata": {},
     "output_type": "execute_result"
    }
   ],
   "source": [
    "df.groupby('continent')['country'].nunique()"
   ]
  },
  {
   "cell_type": "code",
   "execution_count": 53,
   "id": "932b1c88-0768-476d-8d86-f634dab4226f",
   "metadata": {
    "tags": []
   },
   "outputs": [
    {
     "ename": "ValueError",
     "evalue": "No axis named country for object type DataFrame",
     "output_type": "error",
     "traceback": [
      "\u001b[1;31m------------------------------------------------------------------------\u001b[0m",
      "\u001b[1;31mKeyError\u001b[0m                               Traceback (most recent call last)",
      "File \u001b[1;32m~\\AppData\\Local\\Programs\\Python\\Python311\\Lib\\site-packages\\pandas\\core\\generic.py:513\u001b[0m, in \u001b[0;36mNDFrame._get_axis_number\u001b[1;34m(cls, axis)\u001b[0m\n\u001b[0;32m    512\u001b[0m \u001b[38;5;28;01mtry\u001b[39;00m:\n\u001b[1;32m--> 513\u001b[0m     \u001b[38;5;28;01mreturn\u001b[39;00m \u001b[38;5;28;43mcls\u001b[39;49m\u001b[38;5;241;43m.\u001b[39;49m\u001b[43m_AXIS_TO_AXIS_NUMBER\u001b[49m\u001b[43m[\u001b[49m\u001b[43maxis\u001b[49m\u001b[43m]\u001b[49m\n\u001b[0;32m    514\u001b[0m \u001b[38;5;28;01mexcept\u001b[39;00m \u001b[38;5;167;01mKeyError\u001b[39;00m:\n",
      "\u001b[1;31mKeyError\u001b[0m: 'country'",
      "\nDuring handling of the above exception, another exception occurred:\n",
      "\u001b[1;31mValueError\u001b[0m                             Traceback (most recent call last)",
      "Cell \u001b[1;32mIn[53], line 1\u001b[0m\n\u001b[1;32m----> 1\u001b[0m \u001b[43mdf\u001b[49m\u001b[38;5;241;43m.\u001b[39;49m\u001b[43mgroupby\u001b[49m\u001b[43m(\u001b[49m\u001b[38;5;124;43m'\u001b[39;49m\u001b[38;5;124;43mcontinent\u001b[39;49m\u001b[38;5;124;43m'\u001b[39;49m\u001b[43m,\u001b[49m\u001b[43m \u001b[49m\u001b[38;5;124;43m'\u001b[39;49m\u001b[38;5;124;43mcountry\u001b[39;49m\u001b[38;5;124;43m'\u001b[39;49m\u001b[43m)\u001b[49m\n",
      "File \u001b[1;32m~\\AppData\\Local\\Programs\\Python\\Python311\\Lib\\site-packages\\pandas\\core\\frame.py:8254\u001b[0m, in \u001b[0;36mDataFrame.groupby\u001b[1;34m(self, by, axis, level, as_index, sort, group_keys, observed, dropna)\u001b[0m\n\u001b[0;32m   8252\u001b[0m \u001b[38;5;28;01mif\u001b[39;00m level \u001b[38;5;129;01mis\u001b[39;00m \u001b[38;5;28;01mNone\u001b[39;00m \u001b[38;5;129;01mand\u001b[39;00m by \u001b[38;5;129;01mis\u001b[39;00m \u001b[38;5;28;01mNone\u001b[39;00m:\n\u001b[0;32m   8253\u001b[0m     \u001b[38;5;28;01mraise\u001b[39;00m \u001b[38;5;167;01mTypeError\u001b[39;00m(\u001b[38;5;124m\"\u001b[39m\u001b[38;5;124mYou have to supply one of \u001b[39m\u001b[38;5;124m'\u001b[39m\u001b[38;5;124mby\u001b[39m\u001b[38;5;124m'\u001b[39m\u001b[38;5;124m and \u001b[39m\u001b[38;5;124m'\u001b[39m\u001b[38;5;124mlevel\u001b[39m\u001b[38;5;124m'\u001b[39m\u001b[38;5;124m\"\u001b[39m)\n\u001b[1;32m-> 8254\u001b[0m axis \u001b[38;5;241m=\u001b[39m \u001b[38;5;28;43mself\u001b[39;49m\u001b[38;5;241;43m.\u001b[39;49m\u001b[43m_get_axis_number\u001b[49m\u001b[43m(\u001b[49m\u001b[43maxis\u001b[49m\u001b[43m)\u001b[49m\n\u001b[0;32m   8256\u001b[0m \u001b[38;5;28;01mreturn\u001b[39;00m DataFrameGroupBy(\n\u001b[0;32m   8257\u001b[0m     obj\u001b[38;5;241m=\u001b[39m\u001b[38;5;28mself\u001b[39m,\n\u001b[0;32m   8258\u001b[0m     keys\u001b[38;5;241m=\u001b[39mby,\n\u001b[1;32m   (...)\u001b[0m\n\u001b[0;32m   8265\u001b[0m     dropna\u001b[38;5;241m=\u001b[39mdropna,\n\u001b[0;32m   8266\u001b[0m )\n",
      "File \u001b[1;32m~\\AppData\\Local\\Programs\\Python\\Python311\\Lib\\site-packages\\pandas\\core\\generic.py:515\u001b[0m, in \u001b[0;36mNDFrame._get_axis_number\u001b[1;34m(cls, axis)\u001b[0m\n\u001b[0;32m    513\u001b[0m     \u001b[38;5;28;01mreturn\u001b[39;00m \u001b[38;5;28mcls\u001b[39m\u001b[38;5;241m.\u001b[39m_AXIS_TO_AXIS_NUMBER[axis]\n\u001b[0;32m    514\u001b[0m \u001b[38;5;28;01mexcept\u001b[39;00m \u001b[38;5;167;01mKeyError\u001b[39;00m:\n\u001b[1;32m--> 515\u001b[0m     \u001b[38;5;28;01mraise\u001b[39;00m \u001b[38;5;167;01mValueError\u001b[39;00m(\u001b[38;5;124mf\u001b[39m\u001b[38;5;124m\"\u001b[39m\u001b[38;5;124mNo axis named \u001b[39m\u001b[38;5;132;01m{\u001b[39;00maxis\u001b[38;5;132;01m}\u001b[39;00m\u001b[38;5;124m for object type \u001b[39m\u001b[38;5;132;01m{\u001b[39;00m\u001b[38;5;28mcls\u001b[39m\u001b[38;5;241m.\u001b[39m\u001b[38;5;18m__name__\u001b[39m\u001b[38;5;132;01m}\u001b[39;00m\u001b[38;5;124m\"\u001b[39m)\n",
      "\u001b[1;31mValueError\u001b[0m: No axis named country for object type DataFrame"
     ]
    }
   ],
   "source": [
    "df.groupby('continent', 'country')"
   ]
  },
  {
   "cell_type": "code",
   "execution_count": null,
   "id": "adec5bd4-2bf7-459e-80dc-0e07ff061d6a",
   "metadata": {
    "jupyter": {
     "source_hidden": true
    },
    "tags": []
   },
   "outputs": [],
   "source": []
  },
  {
   "cell_type": "code",
   "execution_count": 55,
   "id": "be5fa214-9242-44b6-890d-989bd7ed54a1",
   "metadata": {
    "tags": []
   },
   "outputs": [
    {
     "data": {
      "text/plain": [
       "<Axes: xlabel='year'>"
      ]
     },
     "execution_count": 55,
     "metadata": {},
     "output_type": "execute_result"
    },
    {
     "data": {
      "image/png": "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\n",
      "text/plain": [
       "<Figure size 640x480 with 1 Axes>"
      ]
     },
     "metadata": {},
     "output_type": "display_data"
    }
   ],
   "source": [
    "data = df.groupby('year')['lifeExp'].mean()\n",
    "data.plot(kind='bar')"
   ]
  },
  {
   "cell_type": "code",
   "execution_count": 56,
   "id": "dfb0e149-d424-4449-8a93-ec6452623688",
   "metadata": {
    "tags": []
   },
   "outputs": [],
   "source": [
    "import pandas as pd"
   ]
  },
  {
   "cell_type": "code",
   "execution_count": 57,
   "id": "395c8352-d74b-4596-8645-6ad217250b3f",
   "metadata": {
    "tags": []
   },
   "outputs": [
    {
     "data": {
      "text/plain": [
       "0    banana\n",
       "1        42\n",
       "dtype: object"
      ]
     },
     "execution_count": 57,
     "metadata": {},
     "output_type": "execute_result"
    }
   ],
   "source": [
    "pd.Series(['banana', 42])"
   ]
  },
  {
   "cell_type": "code",
   "execution_count": 58,
   "id": "a175da49-7d22-4a42-addf-ea5fa4e28a12",
   "metadata": {
    "tags": []
   },
   "outputs": [
    {
     "data": {
      "text/plain": [
       "name     apple\n",
       "age         31\n",
       "name2     test\n",
       "Name: kind, dtype: object"
      ]
     },
     "execution_count": 58,
     "metadata": {},
     "output_type": "execute_result"
    }
   ],
   "source": [
    "pd.Series(['apple', 31, 'test'], index=['name', 'age', 'name2'], name='kind')"
   ]
  },
  {
   "cell_type": "code",
   "execution_count": 59,
   "id": "c70306fd-72ac-47b1-85eb-19d650b2af5b",
   "metadata": {
    "tags": []
   },
   "outputs": [
    {
     "data": {
      "text/html": [
       "<div>\n",
       "<style scoped>\n",
       "    .dataframe tbody tr th:only-of-type {\n",
       "        vertical-align: middle;\n",
       "    }\n",
       "\n",
       "    .dataframe tbody tr th {\n",
       "        vertical-align: top;\n",
       "    }\n",
       "\n",
       "    .dataframe thead th {\n",
       "        text-align: right;\n",
       "    }\n",
       "</style>\n",
       "<table border=\"1\" class=\"dataframe\">\n",
       "  <thead>\n",
       "    <tr style=\"text-align: right;\">\n",
       "      <th></th>\n",
       "      <th>Name</th>\n",
       "      <th>Born</th>\n",
       "      <th>Age</th>\n",
       "    </tr>\n",
       "  </thead>\n",
       "  <tbody>\n",
       "    <tr>\n",
       "      <th>0</th>\n",
       "      <td>Franklin</td>\n",
       "      <td>1920-07-25</td>\n",
       "      <td>37</td>\n",
       "    </tr>\n",
       "    <tr>\n",
       "      <th>1</th>\n",
       "      <td>Gosset</td>\n",
       "      <td>1876-06-03</td>\n",
       "      <td>61</td>\n",
       "    </tr>\n",
       "  </tbody>\n",
       "</table>\n",
       "</div>"
      ],
      "text/plain": [
       "       Name        Born  Age\n",
       "0  Franklin  1920-07-25   37\n",
       "1    Gosset  1876-06-03   61"
      ]
     },
     "execution_count": 59,
     "metadata": {},
     "output_type": "execute_result"
    }
   ],
   "source": [
    "pd.DataFrame({\n",
    "    'Name':['Franklin', 'Gosset'],\n",
    "    'Born':['1920-07-25', '1876-06-03'],\n",
    "    'Age':[37,61]\n",
    "})"
   ]
  },
  {
   "cell_type": "code",
   "execution_count": 60,
   "id": "daf1698c-f3a2-414b-9466-621dc5f9c498",
   "metadata": {
    "tags": []
   },
   "outputs": [
    {
     "data": {
      "text/html": [
       "<div>\n",
       "<style scoped>\n",
       "    .dataframe tbody tr th:only-of-type {\n",
       "        vertical-align: middle;\n",
       "    }\n",
       "\n",
       "    .dataframe tbody tr th {\n",
       "        vertical-align: top;\n",
       "    }\n",
       "\n",
       "    .dataframe thead th {\n",
       "        text-align: right;\n",
       "    }\n",
       "</style>\n",
       "<table border=\"1\" class=\"dataframe\">\n",
       "  <thead>\n",
       "    <tr style=\"text-align: right;\">\n",
       "      <th></th>\n",
       "      <th>a</th>\n",
       "      <th>b</th>\n",
       "      <th>c</th>\n",
       "    </tr>\n",
       "  </thead>\n",
       "  <tbody>\n",
       "    <tr>\n",
       "      <th>0</th>\n",
       "      <td>1</td>\n",
       "      <td>2</td>\n",
       "      <td>3</td>\n",
       "    </tr>\n",
       "    <tr>\n",
       "      <th>1</th>\n",
       "      <td>4</td>\n",
       "      <td>5</td>\n",
       "      <td>6</td>\n",
       "    </tr>\n",
       "    <tr>\n",
       "      <th>2</th>\n",
       "      <td>7</td>\n",
       "      <td>8</td>\n",
       "      <td>9</td>\n",
       "    </tr>\n",
       "  </tbody>\n",
       "</table>\n",
       "</div>"
      ],
      "text/plain": [
       "   a  b  c\n",
       "0  1  2  3\n",
       "1  4  5  6\n",
       "2  7  8  9"
      ]
     },
     "execution_count": 60,
     "metadata": {},
     "output_type": "execute_result"
    }
   ],
   "source": [
    "pd.DataFrame([[1, 2, 3], [4, 5, 6], [7, 8, 9]],\n",
    "             columns=['a', 'b', 'c'])"
   ]
  },
  {
   "cell_type": "code",
   "execution_count": 61,
   "id": "d5fd4244-af29-45d7-8b19-024d0cd2580e",
   "metadata": {
    "tags": []
   },
   "outputs": [],
   "source": [
    "df = pd.read_csv('data/data/scientists.csv')"
   ]
  },
  {
   "cell_type": "code",
   "execution_count": 62,
   "id": "310a49f9-9f94-4afd-be4b-c081052270a9",
   "metadata": {
    "tags": []
   },
   "outputs": [
    {
     "data": {
      "text/plain": [
       "pandas.core.frame.DataFrame"
      ]
     },
     "execution_count": 62,
     "metadata": {},
     "output_type": "execute_result"
    }
   ],
   "source": [
    "type(df)"
   ]
  },
  {
   "cell_type": "code",
   "execution_count": 64,
   "id": "e52a4e6a-eaae-495f-89a4-521d05a86aa1",
   "metadata": {
    "tags": []
   },
   "outputs": [
    {
     "data": {
      "text/html": [
       "<div>\n",
       "<style scoped>\n",
       "    .dataframe tbody tr th:only-of-type {\n",
       "        vertical-align: middle;\n",
       "    }\n",
       "\n",
       "    .dataframe tbody tr th {\n",
       "        vertical-align: top;\n",
       "    }\n",
       "\n",
       "    .dataframe thead th {\n",
       "        text-align: right;\n",
       "    }\n",
       "</style>\n",
       "<table border=\"1\" class=\"dataframe\">\n",
       "  <thead>\n",
       "    <tr style=\"text-align: right;\">\n",
       "      <th></th>\n",
       "      <th>Name</th>\n",
       "      <th>Born</th>\n",
       "      <th>Died</th>\n",
       "      <th>Age</th>\n",
       "      <th>Occupation</th>\n",
       "    </tr>\n",
       "  </thead>\n",
       "  <tbody>\n",
       "    <tr>\n",
       "      <th>0</th>\n",
       "      <td>Rosaline Franklin</td>\n",
       "      <td>1920-07-25</td>\n",
       "      <td>1958-04-16</td>\n",
       "      <td>37</td>\n",
       "      <td>Chemist</td>\n",
       "    </tr>\n",
       "    <tr>\n",
       "      <th>1</th>\n",
       "      <td>William Gosset</td>\n",
       "      <td>1876-06-13</td>\n",
       "      <td>1937-10-16</td>\n",
       "      <td>61</td>\n",
       "      <td>Statistician</td>\n",
       "    </tr>\n",
       "  </tbody>\n",
       "</table>\n",
       "</div>"
      ],
      "text/plain": [
       "                Name        Born        Died  Age    Occupation\n",
       "0  Rosaline Franklin  1920-07-25  1958-04-16   37       Chemist\n",
       "1     William Gosset  1876-06-13  1937-10-16   61  Statistician"
      ]
     },
     "execution_count": 64,
     "metadata": {},
     "output_type": "execute_result"
    }
   ],
   "source": [
    "df.head(2)"
   ]
  },
  {
   "cell_type": "code",
   "execution_count": 65,
   "id": "87171ecb-d12c-413d-be19-ead4fa8beb28",
   "metadata": {
    "tags": []
   },
   "outputs": [
    {
     "name": "stdout",
     "output_type": "stream",
     "text": [
      "Collecting pyperclip\n",
      "  Downloading pyperclip-1.8.2.tar.gz (20 kB)\n",
      "  Preparing metadata (setup.py): started\n",
      "  Preparing metadata (setup.py): finished with status 'done'\n",
      "Installing collected packages: pyperclip\n",
      "  Running setup.py install for pyperclip: started\n",
      "  Running setup.py install for pyperclip: finished with status 'done'\n",
      "Successfully installed pyperclip-1.8.2\n"
     ]
    },
    {
     "name": "stderr",
     "output_type": "stream",
     "text": [
      "  DEPRECATION: pyperclip is being installed using the legacy 'setup.py install' method, because it does not have a 'pyproject.toml' and the 'wheel' package is not installed. pip 23.1 will enforce this behaviour change. A possible replacement is to enable the '--use-pep517' option. Discussion can be found at https://github.com/pypa/pip/issues/8559\n"
     ]
    }
   ],
   "source": [
    "!pip install pyperclip"
   ]
  },
  {
   "cell_type": "code",
   "execution_count": 66,
   "id": "9fd49710-e1b5-441a-83ea-93805b4493ab",
   "metadata": {
    "tags": []
   },
   "outputs": [
    {
     "name": "stdout",
     "output_type": "stream",
     "text": [
      "Collecting selenium\n",
      "  Downloading selenium-4.8.3-py3-none-any.whl (6.5 MB)\n",
      "     ---------------------------------------- 0.0/6.5 MB ? eta -:--:--\n",
      "     - -------------------------------------- 0.3/6.5 MB 7.9 MB/s eta 0:00:01\n",
      "     --- ------------------------------------ 0.6/6.5 MB 7.9 MB/s eta 0:00:01\n",
      "     ------ --------------------------------- 1.1/6.5 MB 7.7 MB/s eta 0:00:01\n",
      "     -------- ------------------------------- 1.4/6.5 MB 8.3 MB/s eta 0:00:01\n",
      "     -------- ------------------------------- 1.4/6.5 MB 8.3 MB/s eta 0:00:01\n",
      "     ----------- ---------------------------- 1.9/6.5 MB 6.6 MB/s eta 0:00:01\n",
      "     ------------- -------------------------- 2.2/6.5 MB 6.6 MB/s eta 0:00:01\n",
      "     ---------------- ----------------------- 2.6/6.5 MB 7.0 MB/s eta 0:00:01\n",
      "     ------------------ --------------------- 3.0/6.5 MB 7.1 MB/s eta 0:00:01\n",
      "     -------------------- ------------------- 3.3/6.5 MB 7.2 MB/s eta 0:00:01\n",
      "     ---------------------- ----------------- 3.6/6.5 MB 7.5 MB/s eta 0:00:01\n",
      "     ------------------------- -------------- 4.1/6.5 MB 7.5 MB/s eta 0:00:01\n",
      "     --------------------------- ------------ 4.5/6.5 MB 7.8 MB/s eta 0:00:01\n",
      "     ----------------------------- ---------- 4.9/6.5 MB 7.8 MB/s eta 0:00:01\n",
      "     -------------------------------- ------- 5.3/6.5 MB 7.9 MB/s eta 0:00:01\n",
      "     ---------------------------------- ----- 5.7/6.5 MB 8.0 MB/s eta 0:00:01\n",
      "     ------------------------------------ --- 6.0/6.5 MB 7.9 MB/s eta 0:00:01\n",
      "     ------------------------------------- -- 6.2/6.5 MB 7.7 MB/s eta 0:00:01\n",
      "     ---------------------------------------  6.5/6.5 MB 8.0 MB/s eta 0:00:01\n",
      "     ---------------------------------------- 6.5/6.5 MB 7.6 MB/s eta 0:00:00\n",
      "Requirement already satisfied: urllib3[socks]~=1.26 in c:\\users\\erbaf\\appdata\\local\\programs\\python\\python311\\lib\\site-packages (from selenium) (1.26.14)\n",
      "Collecting trio~=0.17\n",
      "  Downloading trio-0.22.0-py3-none-any.whl (384 kB)\n",
      "     ---------------------------------------- 0.0/384.9 kB ? eta -:--:--\n",
      "     ------------------------------------- 384.9/384.9 kB 23.4 MB/s eta 0:00:00\n",
      "Collecting trio-websocket~=0.9\n",
      "  Downloading trio_websocket-0.10.2-py3-none-any.whl (17 kB)\n",
      "Requirement already satisfied: certifi>=2021.10.8 in c:\\users\\erbaf\\appdata\\local\\programs\\python\\python311\\lib\\site-packages (from selenium) (2022.12.7)\n",
      "Requirement already satisfied: attrs>=19.2.0 in c:\\users\\erbaf\\appdata\\local\\programs\\python\\python311\\lib\\site-packages (from trio~=0.17->selenium) (22.2.0)\n",
      "Collecting sortedcontainers\n",
      "  Downloading sortedcontainers-2.4.0-py2.py3-none-any.whl (29 kB)\n",
      "Collecting async-generator>=1.9\n",
      "  Downloading async_generator-1.10-py3-none-any.whl (18 kB)\n",
      "Requirement already satisfied: idna in c:\\users\\erbaf\\appdata\\local\\programs\\python\\python311\\lib\\site-packages (from trio~=0.17->selenium) (3.4)\n",
      "Collecting outcome\n",
      "  Downloading outcome-1.2.0-py2.py3-none-any.whl (9.7 kB)\n",
      "Requirement already satisfied: sniffio in c:\\users\\erbaf\\appdata\\local\\programs\\python\\python311\\lib\\site-packages (from trio~=0.17->selenium) (1.3.0)\n",
      "Requirement already satisfied: cffi>=1.14 in c:\\users\\erbaf\\appdata\\local\\programs\\python\\python311\\lib\\site-packages (from trio~=0.17->selenium) (1.15.1)\n",
      "Collecting exceptiongroup\n",
      "  Downloading exceptiongroup-1.1.1-py3-none-any.whl (14 kB)\n",
      "Collecting wsproto>=0.14\n",
      "  Downloading wsproto-1.2.0-py3-none-any.whl (24 kB)\n",
      "Collecting PySocks!=1.5.7,<2.0,>=1.5.6\n",
      "  Downloading PySocks-1.7.1-py3-none-any.whl (16 kB)\n",
      "Requirement already satisfied: pycparser in c:\\users\\erbaf\\appdata\\local\\programs\\python\\python311\\lib\\site-packages (from cffi>=1.14->trio~=0.17->selenium) (2.21)\n",
      "Collecting h11<1,>=0.9.0\n",
      "  Downloading h11-0.14.0-py3-none-any.whl (58 kB)\n",
      "     ---------------------------------------- 0.0/58.3 kB ? eta -:--:--\n",
      "     ---------------------------------------- 58.3/58.3 kB 3.0 MB/s eta 0:00:00\n",
      "Installing collected packages: sortedcontainers, PySocks, outcome, h11, exceptiongroup, async-generator, wsproto, trio, trio-websocket, selenium\n",
      "Successfully installed PySocks-1.7.1 async-generator-1.10 exceptiongroup-1.1.1 h11-0.14.0 outcome-1.2.0 selenium-4.8.3 sortedcontainers-2.4.0 trio-0.22.0 trio-websocket-0.10.2 wsproto-1.2.0\n"
     ]
    }
   ],
   "source": [
    "!pip install selenium"
   ]
  },
  {
   "cell_type": "code",
   "execution_count": 67,
   "id": "15539b27-9997-4adf-91f0-de5b8dcdece7",
   "metadata": {
    "tags": []
   },
   "outputs": [],
   "source": [
    "from selenium import webdriver\n",
    "from selenium.webdriver.common.by import By\n",
    "from selenium.webdriver.common.keys import Keys\n",
    "import time\n",
    "import pyperclip"
   ]
  },
  {
   "cell_type": "code",
   "execution_count": 78,
   "id": "b6672c9b-1bc3-4cc2-b128-23dff3cac96e",
   "metadata": {
    "tags": []
   },
   "outputs": [],
   "source": [
    "id = ''\n",
    "pw = ''"
   ]
  },
  {
   "cell_type": "code",
   "execution_count": 79,
   "id": "3b27fbd8-f34d-4eec-8902-7bacadfdb2b5",
   "metadata": {
    "tags": []
   },
   "outputs": [
    {
     "ename": "NoSuchWindowException",
     "evalue": "Message: no such window: target window already closed\nfrom unknown error: web view not found\n  (Session info: chrome=111.0.5563.147)\nStacktrace:\nBacktrace:\n\t(No symbol) [0x00C6DCE3]\n\t(No symbol) [0x00C039D1]\n\t(No symbol) [0x00B14DA8]\n\t(No symbol) [0x00AFD0D3]\n\t(No symbol) [0x00B5EA8B]\n\t(No symbol) [0x00B6D093]\n\t(No symbol) [0x00B5ACC6]\n\t(No symbol) [0x00B36F68]\n\t(No symbol) [0x00B380CD]\n\tGetHandleVerifier [0x00EE3832+2506274]\n\tGetHandleVerifier [0x00F19794+2727300]\n\tGetHandleVerifier [0x00F1E36C+2746716]\n\tGetHandleVerifier [0x00D16690+617600]\n\t(No symbol) [0x00C0C712]\n\t(No symbol) [0x00C11FF8]\n\t(No symbol) [0x00C120DB]\n\t(No symbol) [0x00C1C63B]\n\tBaseThreadInitThunk [0x76877D69+25]\n\tRtlInitializeExceptionChain [0x77BBB74B+107]\n\tRtlClearBits [0x77BBB6CF+191]\n",
     "output_type": "error",
     "traceback": [
      "\u001b[1;31m------------------------------------------------------------------------\u001b[0m",
      "\u001b[1;31mNoSuchWindowException\u001b[0m                  Traceback (most recent call last)",
      "Cell \u001b[1;32mIn[79], line 3\u001b[0m\n\u001b[0;32m      1\u001b[0m url \u001b[38;5;241m=\u001b[39m \u001b[38;5;124m'\u001b[39m\u001b[38;5;124mhttps://nid.naver.com/nidlogin.login\u001b[39m\u001b[38;5;124m'\u001b[39m\n\u001b[0;32m      2\u001b[0m driver \u001b[38;5;241m=\u001b[39m webdriver\u001b[38;5;241m.\u001b[39mChrome()\n\u001b[1;32m----> 3\u001b[0m \u001b[43mdriver\u001b[49m\u001b[38;5;241;43m.\u001b[39;49m\u001b[43mget\u001b[49m\u001b[43m(\u001b[49m\u001b[43murl\u001b[49m\u001b[43m)\u001b[49m\n\u001b[0;32m      4\u001b[0m time\u001b[38;5;241m.\u001b[39msleep(\u001b[38;5;241m5\u001b[39m)\n\u001b[0;32m      6\u001b[0m \u001b[38;5;66;03m# driver.find_element(By.ID, 'id').send_keys(id)\u001b[39;00m\n\u001b[0;32m      7\u001b[0m \u001b[38;5;66;03m# driver.find_element(By.ID, 'pw').send_keys(pw)\u001b[39;00m\n\u001b[0;32m      8\u001b[0m \n\u001b[0;32m      9\u001b[0m \u001b[38;5;66;03m# 우회방법 (이것도 막혔음)\u001b[39;00m\n",
      "File \u001b[1;32m~\\AppData\\Local\\Programs\\Python\\Python311\\Lib\\site-packages\\selenium\\webdriver\\remote\\webdriver.py:449\u001b[0m, in \u001b[0;36mWebDriver.get\u001b[1;34m(self, url)\u001b[0m\n\u001b[0;32m    447\u001b[0m \u001b[38;5;28;01mdef\u001b[39;00m \u001b[38;5;21mget\u001b[39m(\u001b[38;5;28mself\u001b[39m, url: \u001b[38;5;28mstr\u001b[39m) \u001b[38;5;241m-\u001b[39m\u001b[38;5;241m>\u001b[39m \u001b[38;5;28;01mNone\u001b[39;00m:\n\u001b[0;32m    448\u001b[0m \u001b[38;5;250m    \u001b[39m\u001b[38;5;124;03m\"\"\"Loads a web page in the current browser session.\"\"\"\u001b[39;00m\n\u001b[1;32m--> 449\u001b[0m     \u001b[38;5;28;43mself\u001b[39;49m\u001b[38;5;241;43m.\u001b[39;49m\u001b[43mexecute\u001b[49m\u001b[43m(\u001b[49m\u001b[43mCommand\u001b[49m\u001b[38;5;241;43m.\u001b[39;49m\u001b[43mGET\u001b[49m\u001b[43m,\u001b[49m\u001b[43m \u001b[49m\u001b[43m{\u001b[49m\u001b[38;5;124;43m\"\u001b[39;49m\u001b[38;5;124;43murl\u001b[39;49m\u001b[38;5;124;43m\"\u001b[39;49m\u001b[43m:\u001b[49m\u001b[43m \u001b[49m\u001b[43murl\u001b[49m\u001b[43m}\u001b[49m\u001b[43m)\u001b[49m\n",
      "File \u001b[1;32m~\\AppData\\Local\\Programs\\Python\\Python311\\Lib\\site-packages\\selenium\\webdriver\\remote\\webdriver.py:440\u001b[0m, in \u001b[0;36mWebDriver.execute\u001b[1;34m(self, driver_command, params)\u001b[0m\n\u001b[0;32m    438\u001b[0m response \u001b[38;5;241m=\u001b[39m \u001b[38;5;28mself\u001b[39m\u001b[38;5;241m.\u001b[39mcommand_executor\u001b[38;5;241m.\u001b[39mexecute(driver_command, params)\n\u001b[0;32m    439\u001b[0m \u001b[38;5;28;01mif\u001b[39;00m response:\n\u001b[1;32m--> 440\u001b[0m     \u001b[38;5;28;43mself\u001b[39;49m\u001b[38;5;241;43m.\u001b[39;49m\u001b[43merror_handler\u001b[49m\u001b[38;5;241;43m.\u001b[39;49m\u001b[43mcheck_response\u001b[49m\u001b[43m(\u001b[49m\u001b[43mresponse\u001b[49m\u001b[43m)\u001b[49m\n\u001b[0;32m    441\u001b[0m     response[\u001b[38;5;124m\"\u001b[39m\u001b[38;5;124mvalue\u001b[39m\u001b[38;5;124m\"\u001b[39m] \u001b[38;5;241m=\u001b[39m \u001b[38;5;28mself\u001b[39m\u001b[38;5;241m.\u001b[39m_unwrap_value(response\u001b[38;5;241m.\u001b[39mget(\u001b[38;5;124m\"\u001b[39m\u001b[38;5;124mvalue\u001b[39m\u001b[38;5;124m\"\u001b[39m, \u001b[38;5;28;01mNone\u001b[39;00m))\n\u001b[0;32m    442\u001b[0m     \u001b[38;5;28;01mreturn\u001b[39;00m response\n",
      "File \u001b[1;32m~\\AppData\\Local\\Programs\\Python\\Python311\\Lib\\site-packages\\selenium\\webdriver\\remote\\errorhandler.py:245\u001b[0m, in \u001b[0;36mErrorHandler.check_response\u001b[1;34m(self, response)\u001b[0m\n\u001b[0;32m    243\u001b[0m         alert_text \u001b[38;5;241m=\u001b[39m value[\u001b[38;5;124m\"\u001b[39m\u001b[38;5;124malert\u001b[39m\u001b[38;5;124m\"\u001b[39m]\u001b[38;5;241m.\u001b[39mget(\u001b[38;5;124m\"\u001b[39m\u001b[38;5;124mtext\u001b[39m\u001b[38;5;124m\"\u001b[39m)\n\u001b[0;32m    244\u001b[0m     \u001b[38;5;28;01mraise\u001b[39;00m exception_class(message, screen, stacktrace, alert_text)  \u001b[38;5;66;03m# type: ignore[call-arg]  # mypy is not smart enough here\u001b[39;00m\n\u001b[1;32m--> 245\u001b[0m \u001b[38;5;28;01mraise\u001b[39;00m exception_class(message, screen, stacktrace)\n",
      "\u001b[1;31mNoSuchWindowException\u001b[0m: Message: no such window: target window already closed\nfrom unknown error: web view not found\n  (Session info: chrome=111.0.5563.147)\nStacktrace:\nBacktrace:\n\t(No symbol) [0x00C6DCE3]\n\t(No symbol) [0x00C039D1]\n\t(No symbol) [0x00B14DA8]\n\t(No symbol) [0x00AFD0D3]\n\t(No symbol) [0x00B5EA8B]\n\t(No symbol) [0x00B6D093]\n\t(No symbol) [0x00B5ACC6]\n\t(No symbol) [0x00B36F68]\n\t(No symbol) [0x00B380CD]\n\tGetHandleVerifier [0x00EE3832+2506274]\n\tGetHandleVerifier [0x00F19794+2727300]\n\tGetHandleVerifier [0x00F1E36C+2746716]\n\tGetHandleVerifier [0x00D16690+617600]\n\t(No symbol) [0x00C0C712]\n\t(No symbol) [0x00C11FF8]\n\t(No symbol) [0x00C120DB]\n\t(No symbol) [0x00C1C63B]\n\tBaseThreadInitThunk [0x76877D69+25]\n\tRtlInitializeExceptionChain [0x77BBB74B+107]\n\tRtlClearBits [0x77BBB6CF+191]\n"
     ]
    }
   ],
   "source": [
    "url = 'https://nid.naver.com/nidlogin.login'\n",
    "driver = webdriver.Chrome()\n",
    "driver.get(url)\n",
    "time.sleep(5)\n",
    "\n",
    "# driver.find_element(By.ID, 'id').send_keys(id)\n",
    "# driver.find_element(By.ID, 'pw').send_keys(pw)\n",
    "\n",
    "# 우회방법 (이것도 막혔음)\n",
    "driver.execute_script(\"document.getElementsByName('id')[0].value='\"+id+\"'\")\n",
    "driver.execute_script(\"document.getElementsByName('pw')[0].value='\"+pw+\"'\")\n",
    "\n",
    "# # pyperclip도 막힘힘\n",
    "# ele_id = driver.find_element(By.ID, 'id')\n",
    "# ele_id.click()\n",
    "# pyperclip.copy(id)\n",
    "# ele_id.send_keys(Keys.CONTROL, 'v')\n",
    "# time.sleep(2)\n",
    "\n",
    "# ele_pw = driver.find_element(By.ID, 'pw')\n",
    "# ele_pw.click()\n",
    "# pyperclip.copy(pw)\n",
    "# ele_pw.send_keys(Keys.CONTROL, 'v')\n",
    "# time.sleep(2)\n",
    "\n",
    "\n",
    "\n",
    "# time.sleep(3)\n",
    "\n",
    "driver.find_element(By.CLASS_NAME, 'btn_login').click()\n",
    "# # xpath도 안됨\n",
    "# driver.find_element(By.XPATH, '//*[@id=\"log.login\"]').click()\n"
   ]
  },
  {
   "cell_type": "code",
   "execution_count": null,
   "id": "6563acf2-ed04-47a3-a8b8-a35a7f589fed",
   "metadata": {
    "tags": []
   },
   "outputs": [],
   "source": [
    "text = document.getElementsByName('id')[0]\n",
    "text"
   ]
  },
  {
   "cell_type": "code",
   "execution_count": null,
   "id": "a3e3e57f-d1c7-4855-9934-e1d8f16a31aa",
   "metadata": {},
   "outputs": [],
   "source": []
>>>>>>> e458a8ec5db99948286b7523f4b313ac67b972db
  }
 ],
 "metadata": {
  "kernelspec": {
   "display_name": "Python 3 (ipykernel)",
   "language": "python",
   "name": "python3"
  },
  "language_info": {
   "codemirror_mode": {
    "name": "ipython",
    "version": 3
   },
   "file_extension": ".py",
   "mimetype": "text/x-python",
   "name": "python",
   "nbconvert_exporter": "python",
   "pygments_lexer": "ipython3",
   "version": "3.11.2"
  }
 },
 "nbformat": 4,
 "nbformat_minor": 5
}
