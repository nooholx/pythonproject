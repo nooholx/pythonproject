{
 "cells": [
  {
   "cell_type": "code",
   "execution_count": null,
   "id": "6b101e79-5d05-4756-9f18-305914cee657",
   "metadata": {},
   "outputs": [],
   "source": [
    "import pandas as pd"
   ]
  },
  {
   "cell_type": "code",
   "execution_count": null,
   "id": "5d3e4022-8307-4b36-a9c0-b727ae9f564f",
   "metadata": {
    "tags": []
   },
   "outputs": [],
   "source": [
    "df = pd.read_csv('data/data/gapminder.tsv', sep='\\t')"
   ]
  },
  {
   "cell_type": "code",
   "execution_count": null,
   "id": "1f743d3c-fec3-4b51-bbdf-20b91c70c36b",
   "metadata": {
    "tags": []
   },
   "outputs": [],
   "source": [
    "# df는 DataFrame임\n",
    "type(df)"
   ]
  },
  {
   "cell_type": "code",
   "execution_count": null,
   "id": "b374680b-6d40-4bfa-90ff-39f350194f20",
   "metadata": {
    "tags": []
   },
   "outputs": [],
   "source": [
    "# 조회 갯수를 2개만. 기본값은 5개\n",
    "df.head(2)"
   ]
  },
  {
   "cell_type": "code",
   "execution_count": null,
   "id": "f39f6ffe-6ab0-435b-a8f3-c159b269073c",
   "metadata": {
    "tags": []
   },
   "outputs": [],
   "source": [
    "# default값으로 1개 실행됨. 매 실행때마다 무작위로 1개만 출력됨\n",
    "df.sample()"
   ]
  },
  {
   "cell_type": "code",
   "execution_count": null,
   "id": "b1322234-9727-4aab-9ba0-8360830600b8",
   "metadata": {
    "tags": []
   },
   "outputs": [],
   "source": [
    "# 무작위로 2개 넣기\n",
    "df.sample(2)"
   ]
  },
  {
   "cell_type": "code",
   "execution_count": null,
   "id": "28a63e75-de90-4687-9b3e-905cd23166c4",
   "metadata": {
    "tags": []
   },
   "outputs": [],
   "source": [
    "df.tail(2)"
   ]
  },
  {
   "cell_type": "code",
   "execution_count": null,
   "id": "d4bb9f25-aae6-4934-9be6-7f957e413ac0",
   "metadata": {
    "tags": []
   },
   "outputs": [],
   "source": [
    "# 데이터가 몇행 몇열인지 알려줌\n",
    "df.shape"
   ]
  },
  {
   "cell_type": "code",
   "execution_count": null,
   "id": "fffa72b4-a893-4eb1-b836-f5ec9a387c4f",
   "metadata": {
    "tags": []
   },
   "outputs": [],
   "source": [
    "# column명들 알려줌\n",
    "df.columns"
   ]
  },
  {
   "cell_type": "code",
   "execution_count": null,
   "id": "27af14bf-9d35-4dff-9c1c-c6d06d348eab",
   "metadata": {
    "tags": []
   },
   "outputs": [],
   "source": [
    "# 인덱스명 알려줌. 0~1704까지 1씩 증가한다.\n",
    "df.index"
   ]
  },
  {
   "cell_type": "code",
   "execution_count": null,
   "id": "65881460-3f6f-4e55-ab34-06efef37b7d5",
   "metadata": {
    "tags": []
   },
   "outputs": [],
   "source": [
    "# 배열구조\n",
    "df.values"
   ]
  },
  {
   "cell_type": "code",
   "execution_count": null,
   "id": "a6bd9196-62da-4d82-bc5c-8beabe4be4d6",
   "metadata": {
    "tags": []
   },
   "outputs": [],
   "source": [
    "# 안에 column이 어떤 데이터형태인지 보려고 할때. 정수인지 시룻인지 등등\n",
    "# object = string = str \n",
    "df.dtypes"
   ]
  },
  {
   "cell_type": "code",
   "execution_count": 54,
   "id": "32f800fb-795e-4cdd-8ab1-4ae81021f91f",
   "metadata": {
    "tags": []
   },
   "outputs": [
    {
     "name": "stdout",
     "output_type": "stream",
     "text": [
      "<class 'pandas.core.frame.DataFrame'>\n",
      "RangeIndex: 1704 entries, 0 to 1703\n",
      "Data columns (total 6 columns):\n",
      " #   Column     Non-Null Count  Dtype  \n",
      "---  ------     --------------  -----  \n",
      " 0   country    1704 non-null   object \n",
      " 1   continent  1704 non-null   object \n",
      " 2   year       1704 non-null   int64  \n",
      " 3   lifeExp    1704 non-null   float64\n",
      " 4   pop        1704 non-null   int64  \n",
      " 5   gdpPercap  1704 non-null   float64\n",
      "dtypes: float64(2), int64(2), object(2)\n",
      "memory usage: 80.0+ KB\n"
     ]
    }
   ],
   "source": [
    "df.info()"
   ]
  },
  {
   "cell_type": "code",
   "execution_count": 57,
   "id": "57459195-5dcc-43bd-9bc4-1d73bcd19ad2",
   "metadata": {
    "tags": []
   },
   "outputs": [
    {
     "data": {
      "text/html": [
       "<div>\n",
       "<style scoped>\n",
       "    .dataframe tbody tr th:only-of-type {\n",
       "        vertical-align: middle;\n",
       "    }\n",
       "\n",
       "    .dataframe tbody tr th {\n",
       "        vertical-align: top;\n",
       "    }\n",
       "\n",
       "    .dataframe thead th {\n",
       "        text-align: right;\n",
       "    }\n",
       "</style>\n",
       "<table border=\"1\" class=\"dataframe\">\n",
       "  <thead>\n",
       "    <tr style=\"text-align: right;\">\n",
       "      <th></th>\n",
       "      <th>country</th>\n",
       "      <th>continent</th>\n",
       "      <th>year</th>\n",
       "      <th>lifeExp</th>\n",
       "      <th>pop</th>\n",
       "      <th>gdpPercap</th>\n",
       "    </tr>\n",
       "  </thead>\n",
       "  <tbody>\n",
       "    <tr>\n",
       "      <th>0</th>\n",
       "      <td>Afghanistan</td>\n",
       "      <td>Asia</td>\n",
       "      <td>1952</td>\n",
       "      <td>28.801</td>\n",
       "      <td>8425333</td>\n",
       "      <td>779.445314</td>\n",
       "    </tr>\n",
       "    <tr>\n",
       "      <th>1</th>\n",
       "      <td>Afghanistan</td>\n",
       "      <td>Asia</td>\n",
       "      <td>1957</td>\n",
       "      <td>30.332</td>\n",
       "      <td>9240934</td>\n",
       "      <td>820.853030</td>\n",
       "    </tr>\n",
       "    <tr>\n",
       "      <th>2</th>\n",
       "      <td>Afghanistan</td>\n",
       "      <td>Asia</td>\n",
       "      <td>1962</td>\n",
       "      <td>31.997</td>\n",
       "      <td>10267083</td>\n",
       "      <td>853.100710</td>\n",
       "    </tr>\n",
       "    <tr>\n",
       "      <th>3</th>\n",
       "      <td>Afghanistan</td>\n",
       "      <td>Asia</td>\n",
       "      <td>1967</td>\n",
       "      <td>34.020</td>\n",
       "      <td>11537966</td>\n",
       "      <td>836.197138</td>\n",
       "    </tr>\n",
       "    <tr>\n",
       "      <th>4</th>\n",
       "      <td>Afghanistan</td>\n",
       "      <td>Asia</td>\n",
       "      <td>1972</td>\n",
       "      <td>36.088</td>\n",
       "      <td>13079460</td>\n",
       "      <td>739.981106</td>\n",
       "    </tr>\n",
       "    <tr>\n",
       "      <th>...</th>\n",
       "      <td>...</td>\n",
       "      <td>...</td>\n",
       "      <td>...</td>\n",
       "      <td>...</td>\n",
       "      <td>...</td>\n",
       "      <td>...</td>\n",
       "    </tr>\n",
       "    <tr>\n",
       "      <th>1699</th>\n",
       "      <td>Zimbabwe</td>\n",
       "      <td>Africa</td>\n",
       "      <td>1987</td>\n",
       "      <td>62.351</td>\n",
       "      <td>9216418</td>\n",
       "      <td>706.157306</td>\n",
       "    </tr>\n",
       "    <tr>\n",
       "      <th>1700</th>\n",
       "      <td>Zimbabwe</td>\n",
       "      <td>Africa</td>\n",
       "      <td>1992</td>\n",
       "      <td>60.377</td>\n",
       "      <td>10704340</td>\n",
       "      <td>693.420786</td>\n",
       "    </tr>\n",
       "    <tr>\n",
       "      <th>1701</th>\n",
       "      <td>Zimbabwe</td>\n",
       "      <td>Africa</td>\n",
       "      <td>1997</td>\n",
       "      <td>46.809</td>\n",
       "      <td>11404948</td>\n",
       "      <td>792.449960</td>\n",
       "    </tr>\n",
       "    <tr>\n",
       "      <th>1702</th>\n",
       "      <td>Zimbabwe</td>\n",
       "      <td>Africa</td>\n",
       "      <td>2002</td>\n",
       "      <td>39.989</td>\n",
       "      <td>11926563</td>\n",
       "      <td>672.038623</td>\n",
       "    </tr>\n",
       "    <tr>\n",
       "      <th>1703</th>\n",
       "      <td>Zimbabwe</td>\n",
       "      <td>Africa</td>\n",
       "      <td>2007</td>\n",
       "      <td>43.487</td>\n",
       "      <td>12311143</td>\n",
       "      <td>469.709298</td>\n",
       "    </tr>\n",
       "  </tbody>\n",
       "</table>\n",
       "<p>1704 rows × 6 columns</p>\n",
       "</div>"
      ],
      "text/plain": [
       "          country continent  year  lifeExp       pop   gdpPercap\n",
       "0     Afghanistan      Asia  1952   28.801   8425333  779.445314\n",
       "1     Afghanistan      Asia  1957   30.332   9240934  820.853030\n",
       "2     Afghanistan      Asia  1962   31.997  10267083  853.100710\n",
       "3     Afghanistan      Asia  1967   34.020  11537966  836.197138\n",
       "4     Afghanistan      Asia  1972   36.088  13079460  739.981106\n",
       "...           ...       ...   ...      ...       ...         ...\n",
       "1699     Zimbabwe    Africa  1987   62.351   9216418  706.157306\n",
       "1700     Zimbabwe    Africa  1992   60.377  10704340  693.420786\n",
       "1701     Zimbabwe    Africa  1997   46.809  11404948  792.449960\n",
       "1702     Zimbabwe    Africa  2002   39.989  11926563  672.038623\n",
       "1703     Zimbabwe    Africa  2007   43.487  12311143  469.709298\n",
       "\n",
       "[1704 rows x 6 columns]"
      ]
     },
     "execution_count": 57,
     "metadata": {},
     "output_type": "execute_result"
    }
   ],
   "source": [
    "df"
   ]
  },
  {
   "cell_type": "code",
   "execution_count": 55,
   "id": "ecad6709-0974-45ce-a2d0-8ad5f9b5b07c",
   "metadata": {
    "tags": []
   },
   "outputs": [
    {
     "data": {
      "text/plain": [
       "Index(['country', 'continent', 'year', 'lifeExp', 'pop', 'gdpPercap'], dtype='object')"
      ]
     },
     "execution_count": 55,
     "metadata": {},
     "output_type": "execute_result"
    }
   ],
   "source": [
    "df.columns"
   ]
  },
  {
   "cell_type": "code",
   "execution_count": 83,
   "id": "2fad1978-bd7e-4e07-9e32-1319602e9bfb",
   "metadata": {
    "tags": []
   },
   "outputs": [
    {
     "data": {
      "text/plain": [
       "0       Afghanistan\n",
       "1       Afghanistan\n",
       "2       Afghanistan\n",
       "3       Afghanistan\n",
       "4       Afghanistan\n",
       "           ...     \n",
       "1699       Zimbabwe\n",
       "1700       Zimbabwe\n",
       "1701       Zimbabwe\n",
       "1702       Zimbabwe\n",
       "1703       Zimbabwe\n",
       "Name: country, Length: 1704, dtype: object"
      ]
     },
     "execution_count": 83,
     "metadata": {},
     "output_type": "execute_result"
    }
   ],
   "source": [
    "df['country']"
   ]
  },
  {
   "cell_type": "code",
   "execution_count": 59,
   "id": "53d25ae9-a34d-444d-9aac-493bf4328c64",
   "metadata": {
    "tags": []
   },
   "outputs": [
    {
     "data": {
      "text/plain": [
       "pandas.core.series.Series"
      ]
     },
     "execution_count": 59,
     "metadata": {},
     "output_type": "execute_result"
    }
   ],
   "source": [
    "# column단위가 series : 하나의 컬럼만 추출할 때 사용\n",
    "type(df['country'])"
   ]
  },
  {
   "cell_type": "code",
   "execution_count": 60,
   "id": "563ec4c5-30aa-4f43-ac19-20de70a15390",
   "metadata": {
    "tags": []
   },
   "outputs": [
    {
     "data": {
      "text/plain": [
       "0    Afghanistan\n",
       "1    Afghanistan\n",
       "2    Afghanistan\n",
       "3    Afghanistan\n",
       "4    Afghanistan\n",
       "Name: country, dtype: object"
      ]
     },
     "execution_count": 60,
     "metadata": {},
     "output_type": "execute_result"
    }
   ],
   "source": [
    "# head는 데이터프레임에서도 지원하고 시리즈에서도 지원한다고.\n",
    "df['country'].head()"
   ]
  },
  {
   "cell_type": "code",
   "execution_count": 82,
   "id": "a3cc8232-ffdf-4fb6-b6c3-fcfec0583edb",
   "metadata": {
    "tags": []
   },
   "outputs": [
    {
     "data": {
      "text/plain": [
       "(1704,)"
      ]
     },
     "execution_count": 82,
     "metadata": {},
     "output_type": "execute_result"
    }
   ],
   "source": [
    "# df에서 지원하지만 시리즈에서는 지원안할 수도 있음\n",
    "# \n",
    "df['country'].shape"
   ]
  },
  {
   "cell_type": "code",
   "execution_count": null,
   "id": "1e515986-c7d6-4b2e-8b19-9c821c289490",
   "metadata": {
    "tags": []
   },
   "outputs": [],
   "source": [
    "# key가 1개이상일 경우 대괄호를 한번 더 감싸서 묶어줘야함\n",
    "df[['country','lifeExp']]"
   ]
  },
  {
   "cell_type": "code",
   "execution_count": 68,
   "id": "c2d81e48-79b2-49e7-b3f5-8556fdf5e204",
   "metadata": {
    "tags": []
   },
   "outputs": [],
   "source": [
    "# loc는 자기가 갖고있는 이름(부여된 이름)으로 추출할 때 쓴다\n",
    "# iloc는 무조건 인덱스로 추출할 때 쓴다."
   ]
  },
  {
   "cell_type": "code",
   "execution_count": 70,
   "id": "d420985a-1f89-4aeb-8643-6fd6a619d058",
   "metadata": {
    "tags": []
   },
   "outputs": [
    {
     "data": {
      "text/html": [
       "<div>\n",
       "<style scoped>\n",
       "    .dataframe tbody tr th:only-of-type {\n",
       "        vertical-align: middle;\n",
       "    }\n",
       "\n",
       "    .dataframe tbody tr th {\n",
       "        vertical-align: top;\n",
       "    }\n",
       "\n",
       "    .dataframe thead th {\n",
       "        text-align: right;\n",
       "    }\n",
       "</style>\n",
       "<table border=\"1\" class=\"dataframe\">\n",
       "  <thead>\n",
       "    <tr style=\"text-align: right;\">\n",
       "      <th></th>\n",
       "      <th>country</th>\n",
       "      <th>continent</th>\n",
       "      <th>year</th>\n",
       "      <th>lifeExp</th>\n",
       "      <th>pop</th>\n",
       "      <th>gdpPercap</th>\n",
       "    </tr>\n",
       "  </thead>\n",
       "  <tbody>\n",
       "    <tr>\n",
       "      <th>0</th>\n",
       "      <td>Afghanistan</td>\n",
       "      <td>Asia</td>\n",
       "      <td>1952</td>\n",
       "      <td>28.801</td>\n",
       "      <td>8425333</td>\n",
       "      <td>779.445314</td>\n",
       "    </tr>\n",
       "    <tr>\n",
       "      <th>1</th>\n",
       "      <td>Afghanistan</td>\n",
       "      <td>Asia</td>\n",
       "      <td>1957</td>\n",
       "      <td>30.332</td>\n",
       "      <td>9240934</td>\n",
       "      <td>820.853030</td>\n",
       "    </tr>\n",
       "  </tbody>\n",
       "</table>\n",
       "</div>"
      ],
      "text/plain": [
       "       country continent  year  lifeExp      pop   gdpPercap\n",
       "0  Afghanistan      Asia  1952   28.801  8425333  779.445314\n",
       "1  Afghanistan      Asia  1957   30.332  9240934  820.853030"
      ]
     },
     "execution_count": 70,
     "metadata": {},
     "output_type": "execute_result"
    }
   ],
   "source": [
    "# 데이터 2개만 뽑아오기\n",
    "df.head(2)"
   ]
  },
  {
   "cell_type": "code",
   "execution_count": 71,
   "id": "5e02362c-3d73-41d4-8b85-98a9d4b970e1",
   "metadata": {
    "tags": []
   },
   "outputs": [
    {
     "data": {
      "text/plain": [
       "country      Afghanistan\n",
       "continent           Asia\n",
       "year                1957\n",
       "lifeExp           30.332\n",
       "pop              9240934\n",
       "gdpPercap      820.85303\n",
       "Name: 1, dtype: object"
      ]
     },
     "execution_count": 71,
     "metadata": {},
     "output_type": "execute_result"
    }
   ],
   "source": [
    "# df.loc[행(index), 열(column)]\n",
    "df.loc[1]"
   ]
  },
  {
   "cell_type": "code",
   "execution_count": 73,
   "id": "a127c8bd-502a-4ffd-81f6-b7cab4cf226f",
   "metadata": {
    "tags": []
   },
   "outputs": [
    {
     "data": {
      "text/plain": [
       "1957"
      ]
     },
     "execution_count": 73,
     "metadata": {},
     "output_type": "execute_result"
    }
   ],
   "source": [
    "df.loc[1, 'year']"
   ]
  },
  {
   "cell_type": "code",
   "execution_count": 79,
   "id": "ab23fcd1-bfa6-44b7-b0a5-6afa67993600",
   "metadata": {
    "tags": []
   },
   "outputs": [
    {
     "data": {
      "text/plain": [
       "0       Afghanistan\n",
       "1       Afghanistan\n",
       "2       Afghanistan\n",
       "3       Afghanistan\n",
       "4       Afghanistan\n",
       "           ...     \n",
       "1699       Zimbabwe\n",
       "1700       Zimbabwe\n",
       "1701       Zimbabwe\n",
       "1702       Zimbabwe\n",
       "1703       Zimbabwe\n",
       "Name: country, Length: 1704, dtype: object"
      ]
     },
     "execution_count": 79,
     "metadata": {},
     "output_type": "execute_result"
    }
   ],
   "source": [
    "# 모든행의 country값을 가져와라\n",
    "df.loc[:, 'country']"
   ]
  },
  {
   "cell_type": "code",
   "execution_count": 81,
   "id": "91699a23-6ed1-4f61-814f-80d2bdd45ab3",
   "metadata": {
    "tags": []
   },
   "outputs": [
    {
     "data": {
      "text/html": [
       "<div>\n",
       "<style scoped>\n",
       "    .dataframe tbody tr th:only-of-type {\n",
       "        vertical-align: middle;\n",
       "    }\n",
       "\n",
       "    .dataframe tbody tr th {\n",
       "        vertical-align: top;\n",
       "    }\n",
       "\n",
       "    .dataframe thead th {\n",
       "        text-align: right;\n",
       "    }\n",
       "</style>\n",
       "<table border=\"1\" class=\"dataframe\">\n",
       "  <thead>\n",
       "    <tr style=\"text-align: right;\">\n",
       "      <th></th>\n",
       "      <th>country</th>\n",
       "      <th>continent</th>\n",
       "      <th>year</th>\n",
       "      <th>lifeExp</th>\n",
       "      <th>pop</th>\n",
       "      <th>gdpPercap</th>\n",
       "    </tr>\n",
       "  </thead>\n",
       "  <tbody>\n",
       "    <tr>\n",
       "      <th>0</th>\n",
       "      <td>Afghanistan</td>\n",
       "      <td>Asia</td>\n",
       "      <td>1952</td>\n",
       "      <td>28.801</td>\n",
       "      <td>8425333</td>\n",
       "      <td>779.445314</td>\n",
       "    </tr>\n",
       "    <tr>\n",
       "      <th>1</th>\n",
       "      <td>Afghanistan</td>\n",
       "      <td>Asia</td>\n",
       "      <td>1957</td>\n",
       "      <td>30.332</td>\n",
       "      <td>9240934</td>\n",
       "      <td>820.853030</td>\n",
       "    </tr>\n",
       "    <tr>\n",
       "      <th>2</th>\n",
       "      <td>Afghanistan</td>\n",
       "      <td>Asia</td>\n",
       "      <td>1962</td>\n",
       "      <td>31.997</td>\n",
       "      <td>10267083</td>\n",
       "      <td>853.100710</td>\n",
       "    </tr>\n",
       "    <tr>\n",
       "      <th>3</th>\n",
       "      <td>Afghanistan</td>\n",
       "      <td>Asia</td>\n",
       "      <td>1967</td>\n",
       "      <td>34.020</td>\n",
       "      <td>11537966</td>\n",
       "      <td>836.197138</td>\n",
       "    </tr>\n",
       "    <tr>\n",
       "      <th>4</th>\n",
       "      <td>Afghanistan</td>\n",
       "      <td>Asia</td>\n",
       "      <td>1972</td>\n",
       "      <td>36.088</td>\n",
       "      <td>13079460</td>\n",
       "      <td>739.981106</td>\n",
       "    </tr>\n",
       "    <tr>\n",
       "      <th>...</th>\n",
       "      <td>...</td>\n",
       "      <td>...</td>\n",
       "      <td>...</td>\n",
       "      <td>...</td>\n",
       "      <td>...</td>\n",
       "      <td>...</td>\n",
       "    </tr>\n",
       "    <tr>\n",
       "      <th>1699</th>\n",
       "      <td>Zimbabwe</td>\n",
       "      <td>Africa</td>\n",
       "      <td>1987</td>\n",
       "      <td>62.351</td>\n",
       "      <td>9216418</td>\n",
       "      <td>706.157306</td>\n",
       "    </tr>\n",
       "    <tr>\n",
       "      <th>1700</th>\n",
       "      <td>Zimbabwe</td>\n",
       "      <td>Africa</td>\n",
       "      <td>1992</td>\n",
       "      <td>60.377</td>\n",
       "      <td>10704340</td>\n",
       "      <td>693.420786</td>\n",
       "    </tr>\n",
       "    <tr>\n",
       "      <th>1701</th>\n",
       "      <td>Zimbabwe</td>\n",
       "      <td>Africa</td>\n",
       "      <td>1997</td>\n",
       "      <td>46.809</td>\n",
       "      <td>11404948</td>\n",
       "      <td>792.449960</td>\n",
       "    </tr>\n",
       "    <tr>\n",
       "      <th>1702</th>\n",
       "      <td>Zimbabwe</td>\n",
       "      <td>Africa</td>\n",
       "      <td>2002</td>\n",
       "      <td>39.989</td>\n",
       "      <td>11926563</td>\n",
       "      <td>672.038623</td>\n",
       "    </tr>\n",
       "    <tr>\n",
       "      <th>1703</th>\n",
       "      <td>Zimbabwe</td>\n",
       "      <td>Africa</td>\n",
       "      <td>2007</td>\n",
       "      <td>43.487</td>\n",
       "      <td>12311143</td>\n",
       "      <td>469.709298</td>\n",
       "    </tr>\n",
       "  </tbody>\n",
       "</table>\n",
       "<p>1704 rows × 6 columns</p>\n",
       "</div>"
      ],
      "text/plain": [
       "          country continent  year  lifeExp       pop   gdpPercap\n",
       "0     Afghanistan      Asia  1952   28.801   8425333  779.445314\n",
       "1     Afghanistan      Asia  1957   30.332   9240934  820.853030\n",
       "2     Afghanistan      Asia  1962   31.997  10267083  853.100710\n",
       "3     Afghanistan      Asia  1967   34.020  11537966  836.197138\n",
       "4     Afghanistan      Asia  1972   36.088  13079460  739.981106\n",
       "...           ...       ...   ...      ...       ...         ...\n",
       "1699     Zimbabwe    Africa  1987   62.351   9216418  706.157306\n",
       "1700     Zimbabwe    Africa  1992   60.377  10704340  693.420786\n",
       "1701     Zimbabwe    Africa  1997   46.809  11404948  792.449960\n",
       "1702     Zimbabwe    Africa  2002   39.989  11926563  672.038623\n",
       "1703     Zimbabwe    Africa  2007   43.487  12311143  469.709298\n",
       "\n",
       "[1704 rows x 6 columns]"
      ]
     },
     "execution_count": 81,
     "metadata": {},
     "output_type": "execute_result"
    }
   ],
   "source": [
    "# 모든행, 모든열의 값을 가져와라\n",
    "df.loc[:,:]"
   ]
  },
  {
   "cell_type": "code",
   "execution_count": 84,
   "id": "3dbc5270-8979-4855-8e73-70f8f1e63332",
   "metadata": {
    "tags": []
   },
   "outputs": [
    {
     "data": {
      "text/html": [
       "<div>\n",
       "<style scoped>\n",
       "    .dataframe tbody tr th:only-of-type {\n",
       "        vertical-align: middle;\n",
       "    }\n",
       "\n",
       "    .dataframe tbody tr th {\n",
       "        vertical-align: top;\n",
       "    }\n",
       "\n",
       "    .dataframe thead th {\n",
       "        text-align: right;\n",
       "    }\n",
       "</style>\n",
       "<table border=\"1\" class=\"dataframe\">\n",
       "  <thead>\n",
       "    <tr style=\"text-align: right;\">\n",
       "      <th></th>\n",
       "      <th>country</th>\n",
       "      <th>continent</th>\n",
       "      <th>year</th>\n",
       "    </tr>\n",
       "  </thead>\n",
       "  <tbody>\n",
       "    <tr>\n",
       "      <th>1</th>\n",
       "      <td>Afghanistan</td>\n",
       "      <td>Asia</td>\n",
       "      <td>1957</td>\n",
       "    </tr>\n",
       "    <tr>\n",
       "      <th>2</th>\n",
       "      <td>Afghanistan</td>\n",
       "      <td>Asia</td>\n",
       "      <td>1962</td>\n",
       "    </tr>\n",
       "    <tr>\n",
       "      <th>3</th>\n",
       "      <td>Afghanistan</td>\n",
       "      <td>Asia</td>\n",
       "      <td>1967</td>\n",
       "    </tr>\n",
       "    <tr>\n",
       "      <th>4</th>\n",
       "      <td>Afghanistan</td>\n",
       "      <td>Asia</td>\n",
       "      <td>1972</td>\n",
       "    </tr>\n",
       "    <tr>\n",
       "      <th>5</th>\n",
       "      <td>Afghanistan</td>\n",
       "      <td>Asia</td>\n",
       "      <td>1977</td>\n",
       "    </tr>\n",
       "    <tr>\n",
       "      <th>6</th>\n",
       "      <td>Afghanistan</td>\n",
       "      <td>Asia</td>\n",
       "      <td>1982</td>\n",
       "    </tr>\n",
       "    <tr>\n",
       "      <th>7</th>\n",
       "      <td>Afghanistan</td>\n",
       "      <td>Asia</td>\n",
       "      <td>1987</td>\n",
       "    </tr>\n",
       "    <tr>\n",
       "      <th>8</th>\n",
       "      <td>Afghanistan</td>\n",
       "      <td>Asia</td>\n",
       "      <td>1992</td>\n",
       "    </tr>\n",
       "    <tr>\n",
       "      <th>9</th>\n",
       "      <td>Afghanistan</td>\n",
       "      <td>Asia</td>\n",
       "      <td>1997</td>\n",
       "    </tr>\n",
       "    <tr>\n",
       "      <th>10</th>\n",
       "      <td>Afghanistan</td>\n",
       "      <td>Asia</td>\n",
       "      <td>2002</td>\n",
       "    </tr>\n",
       "  </tbody>\n",
       "</table>\n",
       "</div>"
      ],
      "text/plain": [
       "        country continent  year\n",
       "1   Afghanistan      Asia  1957\n",
       "2   Afghanistan      Asia  1962\n",
       "3   Afghanistan      Asia  1967\n",
       "4   Afghanistan      Asia  1972\n",
       "5   Afghanistan      Asia  1977\n",
       "6   Afghanistan      Asia  1982\n",
       "7   Afghanistan      Asia  1987\n",
       "8   Afghanistan      Asia  1992\n",
       "9   Afghanistan      Asia  1997\n",
       "10  Afghanistan      Asia  2002"
      ]
     },
     "execution_count": 84,
     "metadata": {},
     "output_type": "execute_result"
    }
   ],
   "source": [
    "df.loc[1:10, 'country':'year']"
   ]
  },
  {
   "cell_type": "code",
   "execution_count": 89,
   "id": "946d0657-4347-4257-9bbb-ba8ef0c9901a",
   "metadata": {
    "tags": []
   },
   "outputs": [
    {
     "data": {
      "text/html": [
       "<div>\n",
       "<style scoped>\n",
       "    .dataframe tbody tr th:only-of-type {\n",
       "        vertical-align: middle;\n",
       "    }\n",
       "\n",
       "    .dataframe tbody tr th {\n",
       "        vertical-align: top;\n",
       "    }\n",
       "\n",
       "    .dataframe thead th {\n",
       "        text-align: right;\n",
       "    }\n",
       "</style>\n",
       "<table border=\"1\" class=\"dataframe\">\n",
       "  <thead>\n",
       "    <tr style=\"text-align: right;\">\n",
       "      <th></th>\n",
       "      <th>country</th>\n",
       "      <th>lifeExp</th>\n",
       "    </tr>\n",
       "  </thead>\n",
       "  <tbody>\n",
       "    <tr>\n",
       "      <th>1</th>\n",
       "      <td>Afghanistan</td>\n",
       "      <td>30.332</td>\n",
       "    </tr>\n",
       "    <tr>\n",
       "      <th>2</th>\n",
       "      <td>Afghanistan</td>\n",
       "      <td>31.997</td>\n",
       "    </tr>\n",
       "    <tr>\n",
       "      <th>3</th>\n",
       "      <td>Afghanistan</td>\n",
       "      <td>34.020</td>\n",
       "    </tr>\n",
       "  </tbody>\n",
       "</table>\n",
       "</div>"
      ],
      "text/plain": [
       "       country  lifeExp\n",
       "1  Afghanistan   30.332\n",
       "2  Afghanistan   31.997\n",
       "3  Afghanistan   34.020"
      ]
     },
     "execution_count": 89,
     "metadata": {},
     "output_type": "execute_result"
    }
   ],
   "source": [
    "# ,로 묶을 때는 같이 묶어줘야한다.\n",
    "df.loc[[1,2,3],['country','lifeExp']]"
   ]
  },
  {
   "cell_type": "code",
   "execution_count": 90,
   "id": "9c524196-03d4-4254-a2fe-27547c70b781",
   "metadata": {
    "tags": []
   },
   "outputs": [
    {
     "data": {
      "text/html": [
       "<div>\n",
       "<style scoped>\n",
       "    .dataframe tbody tr th:only-of-type {\n",
       "        vertical-align: middle;\n",
       "    }\n",
       "\n",
       "    .dataframe tbody tr th {\n",
       "        vertical-align: top;\n",
       "    }\n",
       "\n",
       "    .dataframe thead th {\n",
       "        text-align: right;\n",
       "    }\n",
       "</style>\n",
       "<table border=\"1\" class=\"dataframe\">\n",
       "  <thead>\n",
       "    <tr style=\"text-align: right;\">\n",
       "      <th></th>\n",
       "      <th>country</th>\n",
       "      <th>year</th>\n",
       "    </tr>\n",
       "  </thead>\n",
       "  <tbody>\n",
       "    <tr>\n",
       "      <th>0</th>\n",
       "      <td>Afghanistan</td>\n",
       "      <td>1952</td>\n",
       "    </tr>\n",
       "    <tr>\n",
       "      <th>1</th>\n",
       "      <td>Afghanistan</td>\n",
       "      <td>1957</td>\n",
       "    </tr>\n",
       "    <tr>\n",
       "      <th>2</th>\n",
       "      <td>Afghanistan</td>\n",
       "      <td>1962</td>\n",
       "    </tr>\n",
       "  </tbody>\n",
       "</table>\n",
       "</div>"
      ],
      "text/plain": [
       "       country  year\n",
       "0  Afghanistan  1952\n",
       "1  Afghanistan  1957\n",
       "2  Afghanistan  1962"
      ]
     },
     "execution_count": 90,
     "metadata": {},
     "output_type": "execute_result"
    }
   ],
   "source": [
    "# \n",
    "df.iloc[[0,1,2], [0,2]]"
   ]
  },
  {
   "cell_type": "code",
   "execution_count": 92,
   "id": "20024cc1-cb55-463c-be4a-f3c60fd9e090",
   "metadata": {
    "tags": []
   },
   "outputs": [
    {
     "data": {
      "text/html": [
       "<div>\n",
       "<style scoped>\n",
       "    .dataframe tbody tr th:only-of-type {\n",
       "        vertical-align: middle;\n",
       "    }\n",
       "\n",
       "    .dataframe tbody tr th {\n",
       "        vertical-align: top;\n",
       "    }\n",
       "\n",
       "    .dataframe thead th {\n",
       "        text-align: right;\n",
       "    }\n",
       "</style>\n",
       "<table border=\"1\" class=\"dataframe\">\n",
       "  <thead>\n",
       "    <tr style=\"text-align: right;\">\n",
       "      <th></th>\n",
       "      <th>continent</th>\n",
       "      <th>year</th>\n",
       "    </tr>\n",
       "  </thead>\n",
       "  <tbody>\n",
       "    <tr>\n",
       "      <th>1</th>\n",
       "      <td>Asia</td>\n",
       "      <td>1957</td>\n",
       "    </tr>\n",
       "    <tr>\n",
       "      <th>2</th>\n",
       "      <td>Asia</td>\n",
       "      <td>1962</td>\n",
       "    </tr>\n",
       "    <tr>\n",
       "      <th>3</th>\n",
       "      <td>Asia</td>\n",
       "      <td>1967</td>\n",
       "    </tr>\n",
       "    <tr>\n",
       "      <th>4</th>\n",
       "      <td>Asia</td>\n",
       "      <td>1972</td>\n",
       "    </tr>\n",
       "    <tr>\n",
       "      <th>5</th>\n",
       "      <td>Asia</td>\n",
       "      <td>1977</td>\n",
       "    </tr>\n",
       "    <tr>\n",
       "      <th>6</th>\n",
       "      <td>Asia</td>\n",
       "      <td>1982</td>\n",
       "    </tr>\n",
       "    <tr>\n",
       "      <th>7</th>\n",
       "      <td>Asia</td>\n",
       "      <td>1987</td>\n",
       "    </tr>\n",
       "    <tr>\n",
       "      <th>8</th>\n",
       "      <td>Asia</td>\n",
       "      <td>1992</td>\n",
       "    </tr>\n",
       "    <tr>\n",
       "      <th>9</th>\n",
       "      <td>Asia</td>\n",
       "      <td>1997</td>\n",
       "    </tr>\n",
       "  </tbody>\n",
       "</table>\n",
       "</div>"
      ],
      "text/plain": [
       "  continent  year\n",
       "1      Asia  1957\n",
       "2      Asia  1962\n",
       "3      Asia  1967\n",
       "4      Asia  1972\n",
       "5      Asia  1977\n",
       "6      Asia  1982\n",
       "7      Asia  1987\n",
       "8      Asia  1992\n",
       "9      Asia  1997"
      ]
     },
     "execution_count": 92,
     "metadata": {},
     "output_type": "execute_result"
    }
   ],
   "source": [
    "# loc에서 1:10은 1~10까지 다 나왔지만 iloc는 1:9까지 나옴\n",
    "df.iloc[1:10, 1:3]"
   ]
  },
  {
   "cell_type": "code",
   "execution_count": 96,
   "id": "525d469e-1c81-4803-89a2-af5f66aede26",
   "metadata": {
    "tags": []
   },
   "outputs": [
    {
     "data": {
      "text/html": [
       "<div>\n",
       "<style scoped>\n",
       "    .dataframe tbody tr th:only-of-type {\n",
       "        vertical-align: middle;\n",
       "    }\n",
       "\n",
       "    .dataframe tbody tr th {\n",
       "        vertical-align: top;\n",
       "    }\n",
       "\n",
       "    .dataframe thead th {\n",
       "        text-align: right;\n",
       "    }\n",
       "</style>\n",
       "<table border=\"1\" class=\"dataframe\">\n",
       "  <thead>\n",
       "    <tr style=\"text-align: right;\">\n",
       "      <th></th>\n",
       "      <th>continent</th>\n",
       "      <th>year</th>\n",
       "      <th>lifeExp</th>\n",
       "      <th>pop</th>\n",
       "    </tr>\n",
       "  </thead>\n",
       "  <tbody>\n",
       "    <tr>\n",
       "      <th>1</th>\n",
       "      <td>Asia</td>\n",
       "      <td>1957</td>\n",
       "      <td>30.332</td>\n",
       "      <td>9240934</td>\n",
       "    </tr>\n",
       "    <tr>\n",
       "      <th>2</th>\n",
       "      <td>Asia</td>\n",
       "      <td>1962</td>\n",
       "      <td>31.997</td>\n",
       "      <td>10267083</td>\n",
       "    </tr>\n",
       "    <tr>\n",
       "      <th>3</th>\n",
       "      <td>Asia</td>\n",
       "      <td>1967</td>\n",
       "      <td>34.020</td>\n",
       "      <td>11537966</td>\n",
       "    </tr>\n",
       "    <tr>\n",
       "      <th>4</th>\n",
       "      <td>Asia</td>\n",
       "      <td>1972</td>\n",
       "      <td>36.088</td>\n",
       "      <td>13079460</td>\n",
       "    </tr>\n",
       "    <tr>\n",
       "      <th>5</th>\n",
       "      <td>Asia</td>\n",
       "      <td>1977</td>\n",
       "      <td>38.438</td>\n",
       "      <td>14880372</td>\n",
       "    </tr>\n",
       "    <tr>\n",
       "      <th>6</th>\n",
       "      <td>Asia</td>\n",
       "      <td>1982</td>\n",
       "      <td>39.854</td>\n",
       "      <td>12881816</td>\n",
       "    </tr>\n",
       "    <tr>\n",
       "      <th>7</th>\n",
       "      <td>Asia</td>\n",
       "      <td>1987</td>\n",
       "      <td>40.822</td>\n",
       "      <td>13867957</td>\n",
       "    </tr>\n",
       "    <tr>\n",
       "      <th>8</th>\n",
       "      <td>Asia</td>\n",
       "      <td>1992</td>\n",
       "      <td>41.674</td>\n",
       "      <td>16317921</td>\n",
       "    </tr>\n",
       "    <tr>\n",
       "      <th>9</th>\n",
       "      <td>Asia</td>\n",
       "      <td>1997</td>\n",
       "      <td>41.763</td>\n",
       "      <td>22227415</td>\n",
       "    </tr>\n",
       "  </tbody>\n",
       "</table>\n",
       "</div>"
      ],
      "text/plain": [
       "  continent  year  lifeExp       pop\n",
       "1      Asia  1957   30.332   9240934\n",
       "2      Asia  1962   31.997  10267083\n",
       "3      Asia  1967   34.020  11537966\n",
       "4      Asia  1972   36.088  13079460\n",
       "5      Asia  1977   38.438  14880372\n",
       "6      Asia  1982   39.854  12881816\n",
       "7      Asia  1987   40.822  13867957\n",
       "8      Asia  1992   41.674  16317921\n",
       "9      Asia  1997   41.763  22227415"
      ]
     },
     "execution_count": 96,
     "metadata": {},
     "output_type": "execute_result"
    }
   ],
   "source": [
    "# loc는 이름이기 때문에 -1, -2이렇게 안됨.\n",
    "# iloc는 가능\n",
    "df.iloc[1:10, 1:-1]"
   ]
  },
  {
   "cell_type": "code",
   "execution_count": 97,
   "id": "7c6d6401-36f7-4d83-9d34-ebd42a115b60",
   "metadata": {
    "tags": []
   },
   "outputs": [
    {
     "data": {
      "text/plain": [
       "country      AfghanistanAfghanistanAfghanistanAfghanistanAf...\n",
       "continent    AsiaAsiaAsiaAsiaAsiaAsiaAsiaAsiaAsiaAsiaAsiaAs...\n",
       "year                                                   3373068\n",
       "lifeExp                                           101344.44468\n",
       "pop                                                50440465801\n",
       "gdpPercap                                      12294917.346386\n",
       "dtype: object"
      ]
     },
     "execution_count": 97,
     "metadata": {},
     "output_type": "execute_result"
    }
   ],
   "source": [
    "df.sum()"
   ]
  },
  {
   "cell_type": "code",
   "execution_count": 99,
   "id": "5a5146b2-bbd8-4d9b-ba7c-c2f7707a901f",
   "metadata": {
    "collapsed": true,
    "jupyter": {
     "outputs_hidden": true
    },
    "tags": []
   },
   "outputs": [
    {
     "ename": "TypeError",
     "evalue": "Could not convert [\"AfghanistanAfghanistanAfghanistanAfghanistanAfghanistanAfghanistanAfghanistanAfghanistanAfghanistanAfghanistanAfghanistanAfghanistanAlbaniaAlbaniaAlbaniaAlbaniaAlbaniaAlbaniaAlbaniaAlbaniaAlbaniaAlbaniaAlbaniaAlbaniaAlgeriaAlgeriaAlgeriaAlgeriaAlgeriaAlgeriaAlgeriaAlgeriaAlgeriaAlgeriaAlgeriaAlgeriaAngolaAngolaAngolaAngolaAngolaAngolaAngolaAngolaAngolaAngolaAngolaAngolaArgentinaArgentinaArgentinaArgentinaArgentinaArgentinaArgentinaArgentinaArgentinaArgentinaArgentinaArgentinaAustraliaAustraliaAustraliaAustraliaAustraliaAustraliaAustraliaAustraliaAustraliaAustraliaAustraliaAustraliaAustriaAustriaAustriaAustriaAustriaAustriaAustriaAustriaAustriaAustriaAustriaAustriaBahrainBahrainBahrainBahrainBahrainBahrainBahrainBahrainBahrainBahrainBahrainBahrainBangladeshBangladeshBangladeshBangladeshBangladeshBangladeshBangladeshBangladeshBangladeshBangladeshBangladeshBangladeshBelgiumBelgiumBelgiumBelgiumBelgiumBelgiumBelgiumBelgiumBelgiumBelgiumBelgiumBelgiumBeninBeninBeninBeninBeninBeninBeninBeninBeninBeninBeninBeninBoliviaBoliviaBoliviaBoliviaBoliviaBoliviaBoliviaBoliviaBoliviaBoliviaBoliviaBoliviaBosnia and HerzegovinaBosnia and HerzegovinaBosnia and HerzegovinaBosnia and HerzegovinaBosnia and HerzegovinaBosnia and HerzegovinaBosnia and HerzegovinaBosnia and HerzegovinaBosnia and HerzegovinaBosnia and HerzegovinaBosnia and HerzegovinaBosnia and HerzegovinaBotswanaBotswanaBotswanaBotswanaBotswanaBotswanaBotswanaBotswanaBotswanaBotswanaBotswanaBotswanaBrazilBrazilBrazilBrazilBrazilBrazilBrazilBrazilBrazilBrazilBrazilBrazilBulgariaBulgariaBulgariaBulgariaBulgariaBulgariaBulgariaBulgariaBulgariaBulgariaBulgariaBulgariaBurkina FasoBurkina FasoBurkina FasoBurkina FasoBurkina FasoBurkina FasoBurkina FasoBurkina FasoBurkina FasoBurkina FasoBurkina FasoBurkina FasoBurundiBurundiBurundiBurundiBurundiBurundiBurundiBurundiBurundiBurundiBurundiBurundiCambodiaCambodiaCambodiaCambodiaCambodiaCambodiaCambodiaCambodiaCambodiaCambodiaCambodiaCambodiaCameroonCameroonCameroonCameroonCameroonCameroonCameroonCameroonCameroonCameroonCameroonCameroonCanadaCanadaCanadaCanadaCanadaCanadaCanadaCanadaCanadaCanadaCanadaCanadaCentral African RepublicCentral African RepublicCentral African RepublicCentral African RepublicCentral African RepublicCentral African RepublicCentral African RepublicCentral African RepublicCentral African RepublicCentral African RepublicCentral African RepublicCentral African RepublicChadChadChadChadChadChadChadChadChadChadChadChadChileChileChileChileChileChileChileChileChileChileChileChileChinaChinaChinaChinaChinaChinaChinaChinaChinaChinaChinaChinaColombiaColombiaColombiaColombiaColombiaColombiaColombiaColombiaColombiaColombiaColombiaColombiaComorosComorosComorosComorosComorosComorosComorosComorosComorosComorosComorosComorosCongo, Dem. Rep.Congo, Dem. Rep.Congo, Dem. Rep.Congo, Dem. Rep.Congo, Dem. Rep.Congo, Dem. Rep.Congo, Dem. Rep.Congo, Dem. Rep.Congo, Dem. Rep.Congo, Dem. Rep.Congo, Dem. Rep.Congo, Dem. Rep.Congo, Rep.Congo, Rep.Congo, Rep.Congo, Rep.Congo, Rep.Congo, Rep.Congo, Rep.Congo, Rep.Congo, Rep.Congo, Rep.Congo, Rep.Congo, Rep.Costa RicaCosta RicaCosta RicaCosta RicaCosta RicaCosta RicaCosta RicaCosta RicaCosta RicaCosta RicaCosta RicaCosta RicaCote d'IvoireCote d'IvoireCote d'IvoireCote d'IvoireCote d'IvoireCote d'IvoireCote d'IvoireCote d'IvoireCote d'IvoireCote d'IvoireCote d'IvoireCote d'IvoireCroatiaCroatiaCroatiaCroatiaCroatiaCroatiaCroatiaCroatiaCroatiaCroatiaCroatiaCroatiaCubaCubaCubaCubaCubaCubaCubaCubaCubaCubaCubaCubaCzech RepublicCzech RepublicCzech RepublicCzech RepublicCzech RepublicCzech RepublicCzech RepublicCzech RepublicCzech RepublicCzech RepublicCzech RepublicCzech RepublicDenmarkDenmarkDenmarkDenmarkDenmarkDenmarkDenmarkDenmarkDenmarkDenmarkDenmarkDenmarkDjiboutiDjiboutiDjiboutiDjiboutiDjiboutiDjiboutiDjiboutiDjiboutiDjiboutiDjiboutiDjiboutiDjiboutiDominican RepublicDominican RepublicDominican RepublicDominican RepublicDominican RepublicDominican RepublicDominican RepublicDominican RepublicDominican RepublicDominican RepublicDominican RepublicDominican RepublicEcuadorEcuadorEcuadorEcuadorEcuadorEcuadorEcuadorEcuadorEcuadorEcuadorEcuadorEcuadorEgyptEgyptEgyptEgyptEgyptEgyptEgyptEgyptEgyptEgyptEgyptEgyptEl SalvadorEl SalvadorEl SalvadorEl SalvadorEl SalvadorEl SalvadorEl SalvadorEl SalvadorEl SalvadorEl SalvadorEl SalvadorEl SalvadorEquatorial GuineaEquatorial GuineaEquatorial GuineaEquatorial GuineaEquatorial GuineaEquatorial GuineaEquatorial GuineaEquatorial GuineaEquatorial GuineaEquatorial GuineaEquatorial GuineaEquatorial GuineaEritreaEritreaEritreaEritreaEritreaEritreaEritreaEritreaEritreaEritreaEritreaEritreaEthiopiaEthiopiaEthiopiaEthiopiaEthiopiaEthiopiaEthiopiaEthiopiaEthiopiaEthiopiaEthiopiaEthiopiaFinlandFinlandFinlandFinlandFinlandFinlandFinlandFinlandFinlandFinlandFinlandFinlandFranceFranceFranceFranceFranceFranceFranceFranceFranceFranceFranceFranceGabonGabonGabonGabonGabonGabonGabonGabonGabonGabonGabonGabonGambiaGambiaGambiaGambiaGambiaGambiaGambiaGambiaGambiaGambiaGambiaGambiaGermanyGermanyGermanyGermanyGermanyGermanyGermanyGermanyGermanyGermanyGermanyGermanyGhanaGhanaGhanaGhanaGhanaGhanaGhanaGhanaGhanaGhanaGhanaGhanaGreeceGreeceGreeceGreeceGreeceGreeceGreeceGreeceGreeceGreeceGreeceGreeceGuatemalaGuatemalaGuatemalaGuatemalaGuatemalaGuatemalaGuatemalaGuatemalaGuatemalaGuatemalaGuatemalaGuatemalaGuineaGuineaGuineaGuineaGuineaGuineaGuineaGuineaGuineaGuineaGuineaGuineaGuinea-BissauGuinea-BissauGuinea-BissauGuinea-BissauGuinea-BissauGuinea-BissauGuinea-BissauGuinea-BissauGuinea-BissauGuinea-BissauGuinea-BissauGuinea-BissauHaitiHaitiHaitiHaitiHaitiHaitiHaitiHaitiHaitiHaitiHaitiHaitiHondurasHondurasHondurasHondurasHondurasHondurasHondurasHondurasHondurasHondurasHondurasHondurasHong Kong, ChinaHong Kong, ChinaHong Kong, ChinaHong Kong, ChinaHong Kong, ChinaHong Kong, ChinaHong Kong, ChinaHong Kong, ChinaHong Kong, ChinaHong Kong, ChinaHong Kong, ChinaHong Kong, ChinaHungaryHungaryHungaryHungaryHungaryHungaryHungaryHungaryHungaryHungaryHungaryHungaryIcelandIcelandIcelandIcelandIcelandIcelandIcelandIcelandIcelandIcelandIcelandIcelandIndiaIndiaIndiaIndiaIndiaIndiaIndiaIndiaIndiaIndiaIndiaIndiaIndonesiaIndonesiaIndonesiaIndonesiaIndonesiaIndonesiaIndonesiaIndonesiaIndonesiaIndonesiaIndonesiaIndonesiaIranIranIranIranIranIranIranIranIranIranIranIranIraqIraqIraqIraqIraqIraqIraqIraqIraqIraqIraqIraqIrelandIrelandIrelandIrelandIrelandIrelandIrelandIrelandIrelandIrelandIrelandIrelandIsraelIsraelIsraelIsraelIsraelIsraelIsraelIsraelIsraelIsraelIsraelIsraelItalyItalyItalyItalyItalyItalyItalyItalyItalyItalyItalyItalyJamaicaJamaicaJamaicaJamaicaJamaicaJamaicaJamaicaJamaicaJamaicaJamaicaJamaicaJamaicaJapanJapanJapanJapanJapanJapanJapanJapanJapanJapanJapanJapanJordanJordanJordanJordanJordanJordanJordanJordanJordanJordanJordanJordanKenyaKenyaKenyaKenyaKenyaKenyaKenyaKenyaKenyaKenyaKenyaKenyaKorea, Dem. Rep.Korea, Dem. Rep.Korea, Dem. Rep.Korea, Dem. Rep.Korea, Dem. Rep.Korea, Dem. Rep.Korea, Dem. Rep.Korea, Dem. Rep.Korea, Dem. Rep.Korea, Dem. Rep.Korea, Dem. Rep.Korea, Dem. Rep.Korea, Rep.Korea, Rep.Korea, Rep.Korea, Rep.Korea, Rep.Korea, Rep.Korea, Rep.Korea, Rep.Korea, Rep.Korea, Rep.Korea, Rep.Korea, Rep.KuwaitKuwaitKuwaitKuwaitKuwaitKuwaitKuwaitKuwaitKuwaitKuwaitKuwaitKuwaitLebanonLebanonLebanonLebanonLebanonLebanonLebanonLebanonLebanonLebanonLebanonLebanonLesothoLesothoLesothoLesothoLesothoLesothoLesothoLesothoLesothoLesothoLesothoLesothoLiberiaLiberiaLiberiaLiberiaLiberiaLiberiaLiberiaLiberiaLiberiaLiberiaLiberiaLiberiaLibyaLibyaLibyaLibyaLibyaLibyaLibyaLibyaLibyaLibyaLibyaLibyaMadagascarMadagascarMadagascarMadagascarMadagascarMadagascarMadagascarMadagascarMadagascarMadagascarMadagascarMadagascarMalawiMalawiMalawiMalawiMalawiMalawiMalawiMalawiMalawiMalawiMalawiMalawiMalaysiaMalaysiaMalaysiaMalaysiaMalaysiaMalaysiaMalaysiaMalaysiaMalaysiaMalaysiaMalaysiaMalaysiaMaliMaliMaliMaliMaliMaliMaliMaliMaliMaliMaliMaliMauritaniaMauritaniaMauritaniaMauritaniaMauritaniaMauritaniaMauritaniaMauritaniaMauritaniaMauritaniaMauritaniaMauritaniaMauritiusMauritiusMauritiusMauritiusMauritiusMauritiusMauritiusMauritiusMauritiusMauritiusMauritiusMauritiusMexicoMexicoMexicoMexicoMexicoMexicoMexicoMexicoMexicoMexicoMexicoMexicoMongoliaMongoliaMongoliaMongoliaMongoliaMongoliaMongoliaMongoliaMongoliaMongoliaMongoliaMongoliaMontenegroMontenegroMontenegroMontenegroMontenegroMontenegroMontenegroMontenegroMontenegroMontenegroMontenegroMontenegroMoroccoMoroccoMoroccoMoroccoMoroccoMoroccoMoroccoMoroccoMoroccoMoroccoMoroccoMoroccoMozambiqueMozambiqueMozambiqueMozambiqueMozambiqueMozambiqueMozambiqueMozambiqueMozambiqueMozambiqueMozambiqueMozambiqueMyanmarMyanmarMyanmarMyanmarMyanmarMyanmarMyanmarMyanmarMyanmarMyanmarMyanmarMyanmarNamibiaNamibiaNamibiaNamibiaNamibiaNamibiaNamibiaNamibiaNamibiaNamibiaNamibiaNamibiaNepalNepalNepalNepalNepalNepalNepalNepalNepalNepalNepalNepalNetherlandsNetherlandsNetherlandsNetherlandsNetherlandsNetherlandsNetherlandsNetherlandsNetherlandsNetherlandsNetherlandsNetherlandsNew ZealandNew ZealandNew ZealandNew ZealandNew ZealandNew ZealandNew ZealandNew ZealandNew ZealandNew ZealandNew ZealandNew ZealandNicaraguaNicaraguaNicaraguaNicaraguaNicaraguaNicaraguaNicaraguaNicaraguaNicaraguaNicaraguaNicaraguaNicaraguaNigerNigerNigerNigerNigerNigerNigerNigerNigerNigerNigerNigerNigeriaNigeriaNigeriaNigeriaNigeriaNigeriaNigeriaNigeriaNigeriaNigeriaNigeriaNigeriaNorwayNorwayNorwayNorwayNorwayNorwayNorwayNorwayNorwayNorwayNorwayNorwayOmanOmanOmanOmanOmanOmanOmanOmanOmanOmanOmanOmanPakistanPakistanPakistanPakistanPakistanPakistanPakistanPakistanPakistanPakistanPakistanPakistanPanamaPanamaPanamaPanamaPanamaPanamaPanamaPanamaPanamaPanamaPanamaPanamaParaguayParaguayParaguayParaguayParaguayParaguayParaguayParaguayParaguayParaguayParaguayParaguayPeruPeruPeruPeruPeruPeruPeruPeruPeruPeruPeruPeruPhilippinesPhilippinesPhilippinesPhilippinesPhilippinesPhilippinesPhilippinesPhilippinesPhilippinesPhilippinesPhilippinesPhilippinesPolandPolandPolandPolandPolandPolandPolandPolandPolandPolandPolandPolandPortugalPortugalPortugalPortugalPortugalPortugalPortugalPortugalPortugalPortugalPortugalPortugalPuerto RicoPuerto RicoPuerto RicoPuerto RicoPuerto RicoPuerto RicoPuerto RicoPuerto RicoPuerto RicoPuerto RicoPuerto RicoPuerto RicoReunionReunionReunionReunionReunionReunionReunionReunionReunionReunionReunionReunionRomaniaRomaniaRomaniaRomaniaRomaniaRomaniaRomaniaRomaniaRomaniaRomaniaRomaniaRomaniaRwandaRwandaRwandaRwandaRwandaRwandaRwandaRwandaRwandaRwandaRwandaRwandaSao Tome and PrincipeSao Tome and PrincipeSao Tome and PrincipeSao Tome and PrincipeSao Tome and PrincipeSao Tome and PrincipeSao Tome and PrincipeSao Tome and PrincipeSao Tome and PrincipeSao Tome and PrincipeSao Tome and PrincipeSao Tome and PrincipeSaudi ArabiaSaudi ArabiaSaudi ArabiaSaudi ArabiaSaudi ArabiaSaudi ArabiaSaudi ArabiaSaudi ArabiaSaudi ArabiaSaudi ArabiaSaudi ArabiaSaudi ArabiaSenegalSenegalSenegalSenegalSenegalSenegalSenegalSenegalSenegalSenegalSenegalSenegalSerbiaSerbiaSerbiaSerbiaSerbiaSerbiaSerbiaSerbiaSerbiaSerbiaSerbiaSerbiaSierra LeoneSierra LeoneSierra LeoneSierra LeoneSierra LeoneSierra LeoneSierra LeoneSierra LeoneSierra LeoneSierra LeoneSierra LeoneSierra LeoneSingaporeSingaporeSingaporeSingaporeSingaporeSingaporeSingaporeSingaporeSingaporeSingaporeSingaporeSingaporeSlovak RepublicSlovak RepublicSlovak RepublicSlovak RepublicSlovak RepublicSlovak RepublicSlovak RepublicSlovak RepublicSlovak RepublicSlovak RepublicSlovak RepublicSlovak RepublicSloveniaSloveniaSloveniaSloveniaSloveniaSloveniaSloveniaSloveniaSloveniaSloveniaSloveniaSloveniaSomaliaSomaliaSomaliaSomaliaSomaliaSomaliaSomaliaSomaliaSomaliaSomaliaSomaliaSomaliaSouth AfricaSouth AfricaSouth AfricaSouth AfricaSouth AfricaSouth AfricaSouth AfricaSouth AfricaSouth AfricaSouth AfricaSouth AfricaSouth AfricaSpainSpainSpainSpainSpainSpainSpainSpainSpainSpainSpainSpainSri LankaSri LankaSri LankaSri LankaSri LankaSri LankaSri LankaSri LankaSri LankaSri LankaSri LankaSri LankaSudanSudanSudanSudanSudanSudanSudanSudanSudanSudanSudanSudanSwazilandSwazilandSwazilandSwazilandSwazilandSwazilandSwazilandSwazilandSwazilandSwazilandSwazilandSwazilandSwedenSwedenSwedenSwedenSwedenSwedenSwedenSwedenSwedenSwedenSwedenSwedenSwitzerlandSwitzerlandSwitzerlandSwitzerlandSwitzerlandSwitzerlandSwitzerlandSwitzerlandSwitzerlandSwitzerlandSwitzerlandSwitzerlandSyriaSyriaSyriaSyriaSyriaSyriaSyriaSyriaSyriaSyriaSyriaSyriaTaiwanTaiwanTaiwanTaiwanTaiwanTaiwanTaiwanTaiwanTaiwanTaiwanTaiwanTaiwanTanzaniaTanzaniaTanzaniaTanzaniaTanzaniaTanzaniaTanzaniaTanzaniaTanzaniaTanzaniaTanzaniaTanzaniaThailandThailandThailandThailandThailandThailandThailandThailandThailandThailandThailandThailandTogoTogoTogoTogoTogoTogoTogoTogoTogoTogoTogoTogoTrinidad and TobagoTrinidad and TobagoTrinidad and TobagoTrinidad and TobagoTrinidad and TobagoTrinidad and TobagoTrinidad and TobagoTrinidad and TobagoTrinidad and TobagoTrinidad and TobagoTrinidad and TobagoTrinidad and TobagoTunisiaTunisiaTunisiaTunisiaTunisiaTunisiaTunisiaTunisiaTunisiaTunisiaTunisiaTunisiaTurkeyTurkeyTurkeyTurkeyTurkeyTurkeyTurkeyTurkeyTurkeyTurkeyTurkeyTurkeyUgandaUgandaUgandaUgandaUgandaUgandaUgandaUgandaUgandaUgandaUgandaUgandaUnited KingdomUnited KingdomUnited KingdomUnited KingdomUnited KingdomUnited KingdomUnited KingdomUnited KingdomUnited KingdomUnited KingdomUnited KingdomUnited KingdomUnited StatesUnited StatesUnited StatesUnited StatesUnited StatesUnited StatesUnited StatesUnited StatesUnited StatesUnited StatesUnited StatesUnited StatesUruguayUruguayUruguayUruguayUruguayUruguayUruguayUruguayUruguayUruguayUruguayUruguayVenezuelaVenezuelaVenezuelaVenezuelaVenezuelaVenezuelaVenezuelaVenezuelaVenezuelaVenezuelaVenezuelaVenezuelaVietnamVietnamVietnamVietnamVietnamVietnamVietnamVietnamVietnamVietnamVietnamVietnamWest Bank and GazaWest Bank and GazaWest Bank and GazaWest Bank and GazaWest Bank and GazaWest Bank and GazaWest Bank and GazaWest Bank and GazaWest Bank and GazaWest Bank and GazaWest Bank and GazaWest Bank and GazaYemen, Rep.Yemen, Rep.Yemen, Rep.Yemen, Rep.Yemen, Rep.Yemen, Rep.Yemen, Rep.Yemen, Rep.Yemen, Rep.Yemen, Rep.Yemen, Rep.Yemen, Rep.ZambiaZambiaZambiaZambiaZambiaZambiaZambiaZambiaZambiaZambiaZambiaZambiaZimbabweZimbabweZimbabweZimbabweZimbabweZimbabweZimbabweZimbabweZimbabweZimbabweZimbabweZimbabwe\"\n 'AsiaAsiaAsiaAsiaAsiaAsiaAsiaAsiaAsiaAsiaAsiaAsiaEuropeEuropeEuropeEuropeEuropeEuropeEuropeEuropeEuropeEuropeEuropeEuropeAfricaAfricaAfricaAfricaAfricaAfricaAfricaAfricaAfricaAfricaAfricaAfricaAfricaAfricaAfricaAfricaAfricaAfricaAfricaAfricaAfricaAfricaAfricaAfricaAmericasAmericasAmericasAmericasAmericasAmericasAmericasAmericasAmericasAmericasAmericasAmericasOceaniaOceaniaOceaniaOceaniaOceaniaOceaniaOceaniaOceaniaOceaniaOceaniaOceaniaOceaniaEuropeEuropeEuropeEuropeEuropeEuropeEuropeEuropeEuropeEuropeEuropeEuropeAsiaAsiaAsiaAsiaAsiaAsiaAsiaAsiaAsiaAsiaAsiaAsiaAsiaAsiaAsiaAsiaAsiaAsiaAsiaAsiaAsiaAsiaAsiaAsiaEuropeEuropeEuropeEuropeEuropeEuropeEuropeEuropeEuropeEuropeEuropeEuropeAfricaAfricaAfricaAfricaAfricaAfricaAfricaAfricaAfricaAfricaAfricaAfricaAmericasAmericasAmericasAmericasAmericasAmericasAmericasAmericasAmericasAmericasAmericasAmericasEuropeEuropeEuropeEuropeEuropeEuropeEuropeEuropeEuropeEuropeEuropeEuropeAfricaAfricaAfricaAfricaAfricaAfricaAfricaAfricaAfricaAfricaAfricaAfricaAmericasAmericasAmericasAmericasAmericasAmericasAmericasAmericasAmericasAmericasAmericasAmericasEuropeEuropeEuropeEuropeEuropeEuropeEuropeEuropeEuropeEuropeEuropeEuropeAfricaAfricaAfricaAfricaAfricaAfricaAfricaAfricaAfricaAfricaAfricaAfricaAfricaAfricaAfricaAfricaAfricaAfricaAfricaAfricaAfricaAfricaAfricaAfricaAsiaAsiaAsiaAsiaAsiaAsiaAsiaAsiaAsiaAsiaAsiaAsiaAfricaAfricaAfricaAfricaAfricaAfricaAfricaAfricaAfricaAfricaAfricaAfricaAmericasAmericasAmericasAmericasAmericasAmericasAmericasAmericasAmericasAmericasAmericasAmericasAfricaAfricaAfricaAfricaAfricaAfricaAfricaAfricaAfricaAfricaAfricaAfricaAfricaAfricaAfricaAfricaAfricaAfricaAfricaAfricaAfricaAfricaAfricaAfricaAmericasAmericasAmericasAmericasAmericasAmericasAmericasAmericasAmericasAmericasAmericasAmericasAsiaAsiaAsiaAsiaAsiaAsiaAsiaAsiaAsiaAsiaAsiaAsiaAmericasAmericasAmericasAmericasAmericasAmericasAmericasAmericasAmericasAmericasAmericasAmericasAfricaAfricaAfricaAfricaAfricaAfricaAfricaAfricaAfricaAfricaAfricaAfricaAfricaAfricaAfricaAfricaAfricaAfricaAfricaAfricaAfricaAfricaAfricaAfricaAfricaAfricaAfricaAfricaAfricaAfricaAfricaAfricaAfricaAfricaAfricaAfricaAmericasAmericasAmericasAmericasAmericasAmericasAmericasAmericasAmericasAmericasAmericasAmericasAfricaAfricaAfricaAfricaAfricaAfricaAfricaAfricaAfricaAfricaAfricaAfricaEuropeEuropeEuropeEuropeEuropeEuropeEuropeEuropeEuropeEuropeEuropeEuropeAmericasAmericasAmericasAmericasAmericasAmericasAmericasAmericasAmericasAmericasAmericasAmericasEuropeEuropeEuropeEuropeEuropeEuropeEuropeEuropeEuropeEuropeEuropeEuropeEuropeEuropeEuropeEuropeEuropeEuropeEuropeEuropeEuropeEuropeEuropeEuropeAfricaAfricaAfricaAfricaAfricaAfricaAfricaAfricaAfricaAfricaAfricaAfricaAmericasAmericasAmericasAmericasAmericasAmericasAmericasAmericasAmericasAmericasAmericasAmericasAmericasAmericasAmericasAmericasAmericasAmericasAmericasAmericasAmericasAmericasAmericasAmericasAfricaAfricaAfricaAfricaAfricaAfricaAfricaAfricaAfricaAfricaAfricaAfricaAmericasAmericasAmericasAmericasAmericasAmericasAmericasAmericasAmericasAmericasAmericasAmericasAfricaAfricaAfricaAfricaAfricaAfricaAfricaAfricaAfricaAfricaAfricaAfricaAfricaAfricaAfricaAfricaAfricaAfricaAfricaAfricaAfricaAfricaAfricaAfricaAfricaAfricaAfricaAfricaAfricaAfricaAfricaAfricaAfricaAfricaAfricaAfricaEuropeEuropeEuropeEuropeEuropeEuropeEuropeEuropeEuropeEuropeEuropeEuropeEuropeEuropeEuropeEuropeEuropeEuropeEuropeEuropeEuropeEuropeEuropeEuropeAfricaAfricaAfricaAfricaAfricaAfricaAfricaAfricaAfricaAfricaAfricaAfricaAfricaAfricaAfricaAfricaAfricaAfricaAfricaAfricaAfricaAfricaAfricaAfricaEuropeEuropeEuropeEuropeEuropeEuropeEuropeEuropeEuropeEuropeEuropeEuropeAfricaAfricaAfricaAfricaAfricaAfricaAfricaAfricaAfricaAfricaAfricaAfricaEuropeEuropeEuropeEuropeEuropeEuropeEuropeEuropeEuropeEuropeEuropeEuropeAmericasAmericasAmericasAmericasAmericasAmericasAmericasAmericasAmericasAmericasAmericasAmericasAfricaAfricaAfricaAfricaAfricaAfricaAfricaAfricaAfricaAfricaAfricaAfricaAfricaAfricaAfricaAfricaAfricaAfricaAfricaAfricaAfricaAfricaAfricaAfricaAmericasAmericasAmericasAmericasAmericasAmericasAmericasAmericasAmericasAmericasAmericasAmericasAmericasAmericasAmericasAmericasAmericasAmericasAmericasAmericasAmericasAmericasAmericasAmericasAsiaAsiaAsiaAsiaAsiaAsiaAsiaAsiaAsiaAsiaAsiaAsiaEuropeEuropeEuropeEuropeEuropeEuropeEuropeEuropeEuropeEuropeEuropeEuropeEuropeEuropeEuropeEuropeEuropeEuropeEuropeEuropeEuropeEuropeEuropeEuropeAsiaAsiaAsiaAsiaAsiaAsiaAsiaAsiaAsiaAsiaAsiaAsiaAsiaAsiaAsiaAsiaAsiaAsiaAsiaAsiaAsiaAsiaAsiaAsiaAsiaAsiaAsiaAsiaAsiaAsiaAsiaAsiaAsiaAsiaAsiaAsiaAsiaAsiaAsiaAsiaAsiaAsiaAsiaAsiaAsiaAsiaAsiaAsiaEuropeEuropeEuropeEuropeEuropeEuropeEuropeEuropeEuropeEuropeEuropeEuropeAsiaAsiaAsiaAsiaAsiaAsiaAsiaAsiaAsiaAsiaAsiaAsiaEuropeEuropeEuropeEuropeEuropeEuropeEuropeEuropeEuropeEuropeEuropeEuropeAmericasAmericasAmericasAmericasAmericasAmericasAmericasAmericasAmericasAmericasAmericasAmericasAsiaAsiaAsiaAsiaAsiaAsiaAsiaAsiaAsiaAsiaAsiaAsiaAsiaAsiaAsiaAsiaAsiaAsiaAsiaAsiaAsiaAsiaAsiaAsiaAfricaAfricaAfricaAfricaAfricaAfricaAfricaAfricaAfricaAfricaAfricaAfricaAsiaAsiaAsiaAsiaAsiaAsiaAsiaAsiaAsiaAsiaAsiaAsiaAsiaAsiaAsiaAsiaAsiaAsiaAsiaAsiaAsiaAsiaAsiaAsiaAsiaAsiaAsiaAsiaAsiaAsiaAsiaAsiaAsiaAsiaAsiaAsiaAsiaAsiaAsiaAsiaAsiaAsiaAsiaAsiaAsiaAsiaAsiaAsiaAfricaAfricaAfricaAfricaAfricaAfricaAfricaAfricaAfricaAfricaAfricaAfricaAfricaAfricaAfricaAfricaAfricaAfricaAfricaAfricaAfricaAfricaAfricaAfricaAfricaAfricaAfricaAfricaAfricaAfricaAfricaAfricaAfricaAfricaAfricaAfricaAfricaAfricaAfricaAfricaAfricaAfricaAfricaAfricaAfricaAfricaAfricaAfricaAfricaAfricaAfricaAfricaAfricaAfricaAfricaAfricaAfricaAfricaAfricaAfricaAsiaAsiaAsiaAsiaAsiaAsiaAsiaAsiaAsiaAsiaAsiaAsiaAfricaAfricaAfricaAfricaAfricaAfricaAfricaAfricaAfricaAfricaAfricaAfricaAfricaAfricaAfricaAfricaAfricaAfricaAfricaAfricaAfricaAfricaAfricaAfricaAfricaAfricaAfricaAfricaAfricaAfricaAfricaAfricaAfricaAfricaAfricaAfricaAmericasAmericasAmericasAmericasAmericasAmericasAmericasAmericasAmericasAmericasAmericasAmericasAsiaAsiaAsiaAsiaAsiaAsiaAsiaAsiaAsiaAsiaAsiaAsiaEuropeEuropeEuropeEuropeEuropeEuropeEuropeEuropeEuropeEuropeEuropeEuropeAfricaAfricaAfricaAfricaAfricaAfricaAfricaAfricaAfricaAfricaAfricaAfricaAfricaAfricaAfricaAfricaAfricaAfricaAfricaAfricaAfricaAfricaAfricaAfricaAsiaAsiaAsiaAsiaAsiaAsiaAsiaAsiaAsiaAsiaAsiaAsiaAfricaAfricaAfricaAfricaAfricaAfricaAfricaAfricaAfricaAfricaAfricaAfricaAsiaAsiaAsiaAsiaAsiaAsiaAsiaAsiaAsiaAsiaAsiaAsiaEuropeEuropeEuropeEuropeEuropeEuropeEuropeEuropeEuropeEuropeEuropeEuropeOceaniaOceaniaOceaniaOceaniaOceaniaOceaniaOceaniaOceaniaOceaniaOceaniaOceaniaOceaniaAmericasAmericasAmericasAmericasAmericasAmericasAmericasAmericasAmericasAmericasAmericasAmericasAfricaAfricaAfricaAfricaAfricaAfricaAfricaAfricaAfricaAfricaAfricaAfricaAfricaAfricaAfricaAfricaAfricaAfricaAfricaAfricaAfricaAfricaAfricaAfricaEuropeEuropeEuropeEuropeEuropeEuropeEuropeEuropeEuropeEuropeEuropeEuropeAsiaAsiaAsiaAsiaAsiaAsiaAsiaAsiaAsiaAsiaAsiaAsiaAsiaAsiaAsiaAsiaAsiaAsiaAsiaAsiaAsiaAsiaAsiaAsiaAmericasAmericasAmericasAmericasAmericasAmericasAmericasAmericasAmericasAmericasAmericasAmericasAmericasAmericasAmericasAmericasAmericasAmericasAmericasAmericasAmericasAmericasAmericasAmericasAmericasAmericasAmericasAmericasAmericasAmericasAmericasAmericasAmericasAmericasAmericasAmericasAsiaAsiaAsiaAsiaAsiaAsiaAsiaAsiaAsiaAsiaAsiaAsiaEuropeEuropeEuropeEuropeEuropeEuropeEuropeEuropeEuropeEuropeEuropeEuropeEuropeEuropeEuropeEuropeEuropeEuropeEuropeEuropeEuropeEuropeEuropeEuropeAmericasAmericasAmericasAmericasAmericasAmericasAmericasAmericasAmericasAmericasAmericasAmericasAfricaAfricaAfricaAfricaAfricaAfricaAfricaAfricaAfricaAfricaAfricaAfricaEuropeEuropeEuropeEuropeEuropeEuropeEuropeEuropeEuropeEuropeEuropeEuropeAfricaAfricaAfricaAfricaAfricaAfricaAfricaAfricaAfricaAfricaAfricaAfricaAfricaAfricaAfricaAfricaAfricaAfricaAfricaAfricaAfricaAfricaAfricaAfricaAsiaAsiaAsiaAsiaAsiaAsiaAsiaAsiaAsiaAsiaAsiaAsiaAfricaAfricaAfricaAfricaAfricaAfricaAfricaAfricaAfricaAfricaAfricaAfricaEuropeEuropeEuropeEuropeEuropeEuropeEuropeEuropeEuropeEuropeEuropeEuropeAfricaAfricaAfricaAfricaAfricaAfricaAfricaAfricaAfricaAfricaAfricaAfricaAsiaAsiaAsiaAsiaAsiaAsiaAsiaAsiaAsiaAsiaAsiaAsiaEuropeEuropeEuropeEuropeEuropeEuropeEuropeEuropeEuropeEuropeEuropeEuropeEuropeEuropeEuropeEuropeEuropeEuropeEuropeEuropeEuropeEuropeEuropeEuropeAfricaAfricaAfricaAfricaAfricaAfricaAfricaAfricaAfricaAfricaAfricaAfricaAfricaAfricaAfricaAfricaAfricaAfricaAfricaAfricaAfricaAfricaAfricaAfricaEuropeEuropeEuropeEuropeEuropeEuropeEuropeEuropeEuropeEuropeEuropeEuropeAsiaAsiaAsiaAsiaAsiaAsiaAsiaAsiaAsiaAsiaAsiaAsiaAfricaAfricaAfricaAfricaAfricaAfricaAfricaAfricaAfricaAfricaAfricaAfricaAfricaAfricaAfricaAfricaAfricaAfricaAfricaAfricaAfricaAfricaAfricaAfricaEuropeEuropeEuropeEuropeEuropeEuropeEuropeEuropeEuropeEuropeEuropeEuropeEuropeEuropeEuropeEuropeEuropeEuropeEuropeEuropeEuropeEuropeEuropeEuropeAsiaAsiaAsiaAsiaAsiaAsiaAsiaAsiaAsiaAsiaAsiaAsiaAsiaAsiaAsiaAsiaAsiaAsiaAsiaAsiaAsiaAsiaAsiaAsiaAfricaAfricaAfricaAfricaAfricaAfricaAfricaAfricaAfricaAfricaAfricaAfricaAsiaAsiaAsiaAsiaAsiaAsiaAsiaAsiaAsiaAsiaAsiaAsiaAfricaAfricaAfricaAfricaAfricaAfricaAfricaAfricaAfricaAfricaAfricaAfricaAmericasAmericasAmericasAmericasAmericasAmericasAmericasAmericasAmericasAmericasAmericasAmericasAfricaAfricaAfricaAfricaAfricaAfricaAfricaAfricaAfricaAfricaAfricaAfricaEuropeEuropeEuropeEuropeEuropeEuropeEuropeEuropeEuropeEuropeEuropeEuropeAfricaAfricaAfricaAfricaAfricaAfricaAfricaAfricaAfricaAfricaAfricaAfricaEuropeEuropeEuropeEuropeEuropeEuropeEuropeEuropeEuropeEuropeEuropeEuropeAmericasAmericasAmericasAmericasAmericasAmericasAmericasAmericasAmericasAmericasAmericasAmericasAmericasAmericasAmericasAmericasAmericasAmericasAmericasAmericasAmericasAmericasAmericasAmericasAmericasAmericasAmericasAmericasAmericasAmericasAmericasAmericasAmericasAmericasAmericasAmericasAsiaAsiaAsiaAsiaAsiaAsiaAsiaAsiaAsiaAsiaAsiaAsiaAsiaAsiaAsiaAsiaAsiaAsiaAsiaAsiaAsiaAsiaAsiaAsiaAsiaAsiaAsiaAsiaAsiaAsiaAsiaAsiaAsiaAsiaAsiaAsiaAfricaAfricaAfricaAfricaAfricaAfricaAfricaAfricaAfricaAfricaAfricaAfricaAfricaAfricaAfricaAfricaAfricaAfricaAfricaAfricaAfricaAfricaAfricaAfrica'] to numeric",
     "output_type": "error",
     "traceback": [
      "\u001b[1;31m---------------------------------------------------------------------------\u001b[0m",
      "\u001b[1;31mValueError\u001b[0m                                Traceback (most recent call last)",
      "File \u001b[1;32mC:\\venv\\venv_pandas\\Lib\\site-packages\\pandas\\core\\nanops.py:1680\u001b[0m, in \u001b[0;36m_ensure_numeric\u001b[1;34m(x)\u001b[0m\n\u001b[0;32m   1679\u001b[0m \u001b[38;5;28;01mtry\u001b[39;00m:\n\u001b[1;32m-> 1680\u001b[0m     x \u001b[38;5;241m=\u001b[39m \u001b[43mx\u001b[49m\u001b[38;5;241;43m.\u001b[39;49m\u001b[43mastype\u001b[49m\u001b[43m(\u001b[49m\u001b[43mnp\u001b[49m\u001b[38;5;241;43m.\u001b[39;49m\u001b[43mcomplex128\u001b[49m\u001b[43m)\u001b[49m\n\u001b[0;32m   1681\u001b[0m \u001b[38;5;28;01mexcept\u001b[39;00m (\u001b[38;5;167;01mTypeError\u001b[39;00m, \u001b[38;5;167;01mValueError\u001b[39;00m):\n",
      "\u001b[1;31mValueError\u001b[0m: complex() arg is a malformed string",
      "\nDuring handling of the above exception, another exception occurred:\n",
      "\u001b[1;31mValueError\u001b[0m                                Traceback (most recent call last)",
      "File \u001b[1;32mC:\\venv\\venv_pandas\\Lib\\site-packages\\pandas\\core\\nanops.py:1683\u001b[0m, in \u001b[0;36m_ensure_numeric\u001b[1;34m(x)\u001b[0m\n\u001b[0;32m   1682\u001b[0m \u001b[38;5;28;01mtry\u001b[39;00m:\n\u001b[1;32m-> 1683\u001b[0m     x \u001b[38;5;241m=\u001b[39m \u001b[43mx\u001b[49m\u001b[38;5;241;43m.\u001b[39;49m\u001b[43mastype\u001b[49m\u001b[43m(\u001b[49m\u001b[43mnp\u001b[49m\u001b[38;5;241;43m.\u001b[39;49m\u001b[43mfloat64\u001b[49m\u001b[43m)\u001b[49m\n\u001b[0;32m   1684\u001b[0m \u001b[38;5;28;01mexcept\u001b[39;00m \u001b[38;5;167;01mValueError\u001b[39;00m \u001b[38;5;28;01mas\u001b[39;00m err:\n\u001b[0;32m   1685\u001b[0m     \u001b[38;5;66;03m# GH#29941 we get here with object arrays containing strs\u001b[39;00m\n",
      "\u001b[1;31mValueError\u001b[0m: could not convert string to float: \"AfghanistanAfghanistanAfghanistanAfghanistanAfghanistanAfghanistanAfghanistanAfghanistanAfghanistanAfghanistanAfghanistanAfghanistanAlbaniaAlbaniaAlbaniaAlbaniaAlbaniaAlbaniaAlbaniaAlbaniaAlbaniaAlbaniaAlbaniaAlbaniaAlgeriaAlgeriaAlgeriaAlgeriaAlgeriaAlgeriaAlgeriaAlgeriaAlgeriaAlgeriaAlgeriaAlgeriaAngolaAngolaAngolaAngolaAngolaAngolaAngolaAngolaAngolaAngolaAngolaAngolaArgentinaArgentinaArgentinaArgentinaArgentinaArgentinaArgentinaArgentinaArgentinaArgentinaArgentinaArgentinaAustraliaAustraliaAustraliaAustraliaAustraliaAustraliaAustraliaAustraliaAustraliaAustraliaAustraliaAustraliaAustriaAustriaAustriaAustriaAustriaAustriaAustriaAustriaAustriaAustriaAustriaAustriaBahrainBahrainBahrainBahrainBahrainBahrainBahrainBahrainBahrainBahrainBahrainBahrainBangladeshBangladeshBangladeshBangladeshBangladeshBangladeshBangladeshBangladeshBangladeshBangladeshBangladeshBangladeshBelgiumBelgiumBelgiumBelgiumBelgiumBelgiumBelgiumBelgiumBelgiumBelgiumBelgiumBelgiumBeninBeninBeninBeninBeninBeninBeninBeninBeninBeninBeninBeninBoliviaBoliviaBoliviaBoliviaBoliviaBoliviaBoliviaBoliviaBoliviaBoliviaBoliviaBoliviaBosnia and HerzegovinaBosnia and HerzegovinaBosnia and HerzegovinaBosnia and HerzegovinaBosnia and HerzegovinaBosnia and HerzegovinaBosnia and HerzegovinaBosnia and HerzegovinaBosnia and HerzegovinaBosnia and HerzegovinaBosnia and HerzegovinaBosnia and HerzegovinaBotswanaBotswanaBotswanaBotswanaBotswanaBotswanaBotswanaBotswanaBotswanaBotswanaBotswanaBotswanaBrazilBrazilBrazilBrazilBrazilBrazilBrazilBrazilBrazilBrazilBrazilBrazilBulgariaBulgariaBulgariaBulgariaBulgariaBulgariaBulgariaBulgariaBulgariaBulgariaBulgariaBulgariaBurkina FasoBurkina FasoBurkina FasoBurkina FasoBurkina FasoBurkina FasoBurkina FasoBurkina FasoBurkina FasoBurkina FasoBurkina FasoBurkina FasoBurundiBurundiBurundiBurundiBurundiBurundiBurundiBurundiBurundiBurundiBurundiBurundiCambodiaCambodiaCambodiaCambodiaCambodiaCambodiaCambodiaCambodiaCambodiaCambodiaCambodiaCambodiaCameroonCameroonCameroonCameroonCameroonCameroonCameroonCameroonCameroonCameroonCameroonCameroonCanadaCanadaCanadaCanadaCanadaCanadaCanadaCanadaCanadaCanadaCanadaCanadaCentral African RepublicCentral African RepublicCentral African RepublicCentral African RepublicCentral African RepublicCentral African RepublicCentral African RepublicCentral African RepublicCentral African RepublicCentral African RepublicCentral African RepublicCentral African RepublicChadChadChadChadChadChadChadChadChadChadChadChadChileChileChileChileChileChileChileChileChileChileChileChileChinaChinaChinaChinaChinaChinaChinaChinaChinaChinaChinaChinaColombiaColombiaColombiaColombiaColombiaColombiaColombiaColombiaColombiaColombiaColombiaColombiaComorosComorosComorosComorosComorosComorosComorosComorosComorosComorosComorosComorosCongo, Dem. Rep.Congo, Dem. Rep.Congo, Dem. Rep.Congo, Dem. Rep.Congo, Dem. Rep.Congo, Dem. Rep.Congo, Dem. Rep.Congo, Dem. Rep.Congo, Dem. Rep.Congo, Dem. Rep.Congo, Dem. Rep.Congo, Dem. Rep.Congo, Rep.Congo, Rep.Congo, Rep.Congo, Rep.Congo, Rep.Congo, Rep.Congo, Rep.Congo, Rep.Congo, Rep.Congo, Rep.Congo, Rep.Congo, Rep.Costa RicaCosta RicaCosta RicaCosta RicaCosta RicaCosta RicaCosta RicaCosta RicaCosta RicaCosta RicaCosta RicaCosta RicaCote d'IvoireCote d'IvoireCote d'IvoireCote d'IvoireCote d'IvoireCote d'IvoireCote d'IvoireCote d'IvoireCote d'IvoireCote d'IvoireCote d'IvoireCote d'IvoireCroatiaCroatiaCroatiaCroatiaCroatiaCroatiaCroatiaCroatiaCroatiaCroatiaCroatiaCroatiaCubaCubaCubaCubaCubaCubaCubaCubaCubaCubaCubaCubaCzech RepublicCzech RepublicCzech RepublicCzech RepublicCzech RepublicCzech RepublicCzech RepublicCzech RepublicCzech RepublicCzech RepublicCzech RepublicCzech RepublicDenmarkDenmarkDenmarkDenmarkDenmarkDenmarkDenmarkDenmarkDenmarkDenmarkDenmarkDenmarkDjiboutiDjiboutiDjiboutiDjiboutiDjiboutiDjiboutiDjiboutiDjiboutiDjiboutiDjiboutiDjiboutiDjiboutiDominican RepublicDominican RepublicDominican RepublicDominican RepublicDominican RepublicDominican RepublicDominican RepublicDominican RepublicDominican RepublicDominican RepublicDominican RepublicDominican RepublicEcuadorEcuadorEcuadorEcuadorEcuadorEcuadorEcuadorEcuadorEcuadorEcuadorEcuadorEcuadorEgyptEgyptEgyptEgyptEgyptEgyptEgyptEgyptEgyptEgyptEgyptEgyptEl SalvadorEl SalvadorEl SalvadorEl SalvadorEl SalvadorEl SalvadorEl SalvadorEl SalvadorEl SalvadorEl SalvadorEl SalvadorEl SalvadorEquatorial GuineaEquatorial GuineaEquatorial GuineaEquatorial GuineaEquatorial GuineaEquatorial GuineaEquatorial GuineaEquatorial GuineaEquatorial GuineaEquatorial GuineaEquatorial GuineaEquatorial GuineaEritreaEritreaEritreaEritreaEritreaEritreaEritreaEritreaEritreaEritreaEritreaEritreaEthiopiaEthiopiaEthiopiaEthiopiaEthiopiaEthiopiaEthiopiaEthiopiaEthiopiaEthiopiaEthiopiaEthiopiaFinlandFinlandFinlandFinlandFinlandFinlandFinlandFinlandFinlandFinlandFinlandFinlandFranceFranceFranceFranceFranceFranceFranceFranceFranceFranceFranceFranceGabonGabonGabonGabonGabonGabonGabonGabonGabonGabonGabonGabonGambiaGambiaGambiaGambiaGambiaGambiaGambiaGambiaGambiaGambiaGambiaGambiaGermanyGermanyGermanyGermanyGermanyGermanyGermanyGermanyGermanyGermanyGermanyGermanyGhanaGhanaGhanaGhanaGhanaGhanaGhanaGhanaGhanaGhanaGhanaGhanaGreeceGreeceGreeceGreeceGreeceGreeceGreeceGreeceGreeceGreeceGreeceGreeceGuatemalaGuatemalaGuatemalaGuatemalaGuatemalaGuatemalaGuatemalaGuatemalaGuatemalaGuatemalaGuatemalaGuatemalaGuineaGuineaGuineaGuineaGuineaGuineaGuineaGuineaGuineaGuineaGuineaGuineaGuinea-BissauGuinea-BissauGuinea-BissauGuinea-BissauGuinea-BissauGuinea-BissauGuinea-BissauGuinea-BissauGuinea-BissauGuinea-BissauGuinea-BissauGuinea-BissauHaitiHaitiHaitiHaitiHaitiHaitiHaitiHaitiHaitiHaitiHaitiHaitiHondurasHondurasHondurasHondurasHondurasHondurasHondurasHondurasHondurasHondurasHondurasHondurasHong Kong, ChinaHong Kong, ChinaHong Kong, ChinaHong Kong, ChinaHong Kong, ChinaHong Kong, ChinaHong Kong, ChinaHong Kong, ChinaHong Kong, ChinaHong Kong, ChinaHong Kong, ChinaHong Kong, ChinaHungaryHungaryHungaryHungaryHungaryHungaryHungaryHungaryHungaryHungaryHungaryHungaryIcelandIcelandIcelandIcelandIcelandIcelandIcelandIcelandIcelandIcelandIcelandIcelandIndiaIndiaIndiaIndiaIndiaIndiaIndiaIndiaIndiaIndiaIndiaIndiaIndonesiaIndonesiaIndonesiaIndonesiaIndonesiaIndonesiaIndonesiaIndonesiaIndonesiaIndonesiaIndonesiaIndonesiaIranIranIranIranIranIranIranIranIranIranIranIranIraqIraqIraqIraqIraqIraqIraqIraqIraqIraqIraqIraqIrelandIrelandIrelandIrelandIrelandIrelandIrelandIrelandIrelandIrelandIrelandIrelandIsraelIsraelIsraelIsraelIsraelIsraelIsraelIsraelIsraelIsraelIsraelIsraelItalyItalyItalyItalyItalyItalyItalyItalyItalyItalyItalyItalyJamaicaJamaicaJamaicaJamaicaJamaicaJamaicaJamaicaJamaicaJamaicaJamaicaJamaicaJamaicaJapanJapanJapanJapanJapanJapanJapanJapanJapanJapanJapanJapanJordanJordanJordanJordanJordanJordanJordanJordanJordanJordanJordanJordanKenyaKenyaKenyaKenyaKenyaKenyaKenyaKenyaKenyaKenyaKenyaKenyaKorea, Dem. Rep.Korea, Dem. Rep.Korea, Dem. Rep.Korea, Dem. Rep.Korea, Dem. Rep.Korea, Dem. Rep.Korea, Dem. Rep.Korea, Dem. Rep.Korea, Dem. Rep.Korea, Dem. Rep.Korea, Dem. Rep.Korea, Dem. Rep.Korea, Rep.Korea, Rep.Korea, Rep.Korea, Rep.Korea, Rep.Korea, Rep.Korea, Rep.Korea, Rep.Korea, Rep.Korea, Rep.Korea, Rep.Korea, Rep.KuwaitKuwaitKuwaitKuwaitKuwaitKuwaitKuwaitKuwaitKuwaitKuwaitKuwaitKuwaitLebanonLebanonLebanonLebanonLebanonLebanonLebanonLebanonLebanonLebanonLebanonLebanonLesothoLesothoLesothoLesothoLesothoLesothoLesothoLesothoLesothoLesothoLesothoLesothoLiberiaLiberiaLiberiaLiberiaLiberiaLiberiaLiberiaLiberiaLiberiaLiberiaLiberiaLiberiaLibyaLibyaLibyaLibyaLibyaLibyaLibyaLibyaLibyaLibyaLibyaLibyaMadagascarMadagascarMadagascarMadagascarMadagascarMadagascarMadagascarMadagascarMadagascarMadagascarMadagascarMadagascarMalawiMalawiMalawiMalawiMalawiMalawiMalawiMalawiMalawiMalawiMalawiMalawiMalaysiaMalaysiaMalaysiaMalaysiaMalaysiaMalaysiaMalaysiaMalaysiaMalaysiaMalaysiaMalaysiaMalaysiaMaliMaliMaliMaliMaliMaliMaliMaliMaliMaliMaliMaliMauritaniaMauritaniaMauritaniaMauritaniaMauritaniaMauritaniaMauritaniaMauritaniaMauritaniaMauritaniaMauritaniaMauritaniaMauritiusMauritiusMauritiusMauritiusMauritiusMauritiusMauritiusMauritiusMauritiusMauritiusMauritiusMauritiusMexicoMexicoMexicoMexicoMexicoMexicoMexicoMexicoMexicoMexicoMexicoMexicoMongoliaMongoliaMongoliaMongoliaMongoliaMongoliaMongoliaMongoliaMongoliaMongoliaMongoliaMongoliaMontenegroMontenegroMontenegroMontenegroMontenegroMontenegroMontenegroMontenegroMontenegroMontenegroMontenegroMontenegroMoroccoMoroccoMoroccoMoroccoMoroccoMoroccoMoroccoMoroccoMoroccoMoroccoMoroccoMoroccoMozambiqueMozambiqueMozambiqueMozambiqueMozambiqueMozambiqueMozambiqueMozambiqueMozambiqueMozambiqueMozambiqueMozambiqueMyanmarMyanmarMyanmarMyanmarMyanmarMyanmarMyanmarMyanmarMyanmarMyanmarMyanmarMyanmarNamibiaNamibiaNamibiaNamibiaNamibiaNamibiaNamibiaNamibiaNamibiaNamibiaNamibiaNamibiaNepalNepalNepalNepalNepalNepalNepalNepalNepalNepalNepalNepalNetherlandsNetherlandsNetherlandsNetherlandsNetherlandsNetherlandsNetherlandsNetherlandsNetherlandsNetherlandsNetherlandsNetherlandsNew ZealandNew ZealandNew ZealandNew ZealandNew ZealandNew ZealandNew ZealandNew ZealandNew ZealandNew ZealandNew ZealandNew ZealandNicaraguaNicaraguaNicaraguaNicaraguaNicaraguaNicaraguaNicaraguaNicaraguaNicaraguaNicaraguaNicaraguaNicaraguaNigerNigerNigerNigerNigerNigerNigerNigerNigerNigerNigerNigerNigeriaNigeriaNigeriaNigeriaNigeriaNigeriaNigeriaNigeriaNigeriaNigeriaNigeriaNigeriaNorwayNorwayNorwayNorwayNorwayNorwayNorwayNorwayNorwayNorwayNorwayNorwayOmanOmanOmanOmanOmanOmanOmanOmanOmanOmanOmanOmanPakistanPakistanPakistanPakistanPakistanPakistanPakistanPakistanPakistanPakistanPakistanPakistanPanamaPanamaPanamaPanamaPanamaPanamaPanamaPanamaPanamaPanamaPanamaPanamaParaguayParaguayParaguayParaguayParaguayParaguayParaguayParaguayParaguayParaguayParaguayParaguayPeruPeruPeruPeruPeruPeruPeruPeruPeruPeruPeruPeruPhilippinesPhilippinesPhilippinesPhilippinesPhilippinesPhilippinesPhilippinesPhilippinesPhilippinesPhilippinesPhilippinesPhilippinesPolandPolandPolandPolandPolandPolandPolandPolandPolandPolandPolandPolandPortugalPortugalPortugalPortugalPortugalPortugalPortugalPortugalPortugalPortugalPortugalPortugalPuerto RicoPuerto RicoPuerto RicoPuerto RicoPuerto RicoPuerto RicoPuerto RicoPuerto RicoPuerto RicoPuerto RicoPuerto RicoPuerto RicoReunionReunionReunionReunionReunionReunionReunionReunionReunionReunionReunionReunionRomaniaRomaniaRomaniaRomaniaRomaniaRomaniaRomaniaRomaniaRomaniaRomaniaRomaniaRomaniaRwandaRwandaRwandaRwandaRwandaRwandaRwandaRwandaRwandaRwandaRwandaRwandaSao Tome and PrincipeSao Tome and PrincipeSao Tome and PrincipeSao Tome and PrincipeSao Tome and PrincipeSao Tome and PrincipeSao Tome and PrincipeSao Tome and PrincipeSao Tome and PrincipeSao Tome and PrincipeSao Tome and PrincipeSao Tome and PrincipeSaudi ArabiaSaudi ArabiaSaudi ArabiaSaudi ArabiaSaudi ArabiaSaudi ArabiaSaudi ArabiaSaudi ArabiaSaudi ArabiaSaudi ArabiaSaudi ArabiaSaudi ArabiaSenegalSenegalSenegalSenegalSenegalSenegalSenegalSenegalSenegalSenegalSenegalSenegalSerbiaSerbiaSerbiaSerbiaSerbiaSerbiaSerbiaSerbiaSerbiaSerbiaSerbiaSerbiaSierra LeoneSierra LeoneSierra LeoneSierra LeoneSierra LeoneSierra LeoneSierra LeoneSierra LeoneSierra LeoneSierra LeoneSierra LeoneSierra LeoneSingaporeSingaporeSingaporeSingaporeSingaporeSingaporeSingaporeSingaporeSingaporeSingaporeSingaporeSingaporeSlovak RepublicSlovak RepublicSlovak RepublicSlovak RepublicSlovak RepublicSlovak RepublicSlovak RepublicSlovak RepublicSlovak RepublicSlovak RepublicSlovak RepublicSlovak RepublicSloveniaSloveniaSloveniaSloveniaSloveniaSloveniaSloveniaSloveniaSloveniaSloveniaSloveniaSloveniaSomaliaSomaliaSomaliaSomaliaSomaliaSomaliaSomaliaSomaliaSomaliaSomaliaSomaliaSomaliaSouth AfricaSouth AfricaSouth AfricaSouth AfricaSouth AfricaSouth AfricaSouth AfricaSouth AfricaSouth AfricaSouth AfricaSouth AfricaSouth AfricaSpainSpainSpainSpainSpainSpainSpainSpainSpainSpainSpainSpainSri LankaSri LankaSri LankaSri LankaSri LankaSri LankaSri LankaSri LankaSri LankaSri LankaSri LankaSri LankaSudanSudanSudanSudanSudanSudanSudanSudanSudanSudanSudanSudanSwazilandSwazilandSwazilandSwazilandSwazilandSwazilandSwazilandSwazilandSwazilandSwazilandSwazilandSwazilandSwedenSwedenSwedenSwedenSwedenSwedenSwedenSwedenSwedenSwedenSwedenSwedenSwitzerlandSwitzerlandSwitzerlandSwitzerlandSwitzerlandSwitzerlandSwitzerlandSwitzerlandSwitzerlandSwitzerlandSwitzerlandSwitzerlandSyriaSyriaSyriaSyriaSyriaSyriaSyriaSyriaSyriaSyriaSyriaSyriaTaiwanTaiwanTaiwanTaiwanTaiwanTaiwanTaiwanTaiwanTaiwanTaiwanTaiwanTaiwanTanzaniaTanzaniaTanzaniaTanzaniaTanzaniaTanzaniaTanzaniaTanzaniaTanzaniaTanzaniaTanzaniaTanzaniaThailandThailandThailandThailandThailandThailandThailandThailandThailandThailandThailandThailandTogoTogoTogoTogoTogoTogoTogoTogoTogoTogoTogoTogoTrinidad and TobagoTrinidad and TobagoTrinidad and TobagoTrinidad and TobagoTrinidad and TobagoTrinidad and TobagoTrinidad and TobagoTrinidad and TobagoTrinidad and TobagoTrinidad and TobagoTrinidad and TobagoTrinidad and TobagoTunisiaTunisiaTunisiaTunisiaTunisiaTunisiaTunisiaTunisiaTunisiaTunisiaTunisiaTunisiaTurkeyTurkeyTurkeyTurkeyTurkeyTurkeyTurkeyTurkeyTurkeyTurkeyTurkeyTurkeyUgandaUgandaUgandaUgandaUgandaUgandaUgandaUgandaUgandaUgandaUgandaUgandaUnited KingdomUnited KingdomUnited KingdomUnited KingdomUnited KingdomUnited KingdomUnited KingdomUnited KingdomUnited KingdomUnited KingdomUnited KingdomUnited KingdomUnited StatesUnited StatesUnited StatesUnited StatesUnited StatesUnited StatesUnited StatesUnited StatesUnited StatesUnited StatesUnited StatesUnited StatesUruguayUruguayUruguayUruguayUruguayUruguayUruguayUruguayUruguayUruguayUruguayUruguayVenezuelaVenezuelaVenezuelaVenezuelaVenezuelaVenezuelaVenezuelaVenezuelaVenezuelaVenezuelaVenezuelaVenezuelaVietnamVietnamVietnamVietnamVietnamVietnamVietnamVietnamVietnamVietnamVietnamVietnamWest Bank and GazaWest Bank and GazaWest Bank and GazaWest Bank and GazaWest Bank and GazaWest Bank and GazaWest Bank and GazaWest Bank and GazaWest Bank and GazaWest Bank and GazaWest Bank and GazaWest Bank and GazaYemen, Rep.Yemen, Rep.Yemen, Rep.Yemen, Rep.Yemen, Rep.Yemen, Rep.Yemen, Rep.Yemen, Rep.Yemen, Rep.Yemen, Rep.Yemen, Rep.Yemen, Rep.ZambiaZambiaZambiaZambiaZambiaZambiaZambiaZambiaZambiaZambiaZambiaZambiaZimbabweZimbabweZimbabweZimbabweZimbabweZimbabweZimbabweZimbabweZimbabweZimbabweZimbabweZimbabwe\"",
      "\nThe above exception was the direct cause of the following exception:\n",
      "\u001b[1;31mTypeError\u001b[0m                                 Traceback (most recent call last)",
      "Cell \u001b[1;32mIn[99], line 2\u001b[0m\n\u001b[0;32m      1\u001b[0m \u001b[38;5;66;03m#문자열은 평균을 구할 수 없으니까 에러\u001b[39;00m\n\u001b[1;32m----> 2\u001b[0m \u001b[43mdf\u001b[49m\u001b[38;5;241;43m.\u001b[39;49m\u001b[43mmean\u001b[49m\u001b[43m(\u001b[49m\u001b[43m)\u001b[49m\n",
      "File \u001b[1;32mC:\\venv\\venv_pandas\\Lib\\site-packages\\pandas\\core\\generic.py:11563\u001b[0m, in \u001b[0;36mNDFrame._add_numeric_operations.<locals>.mean\u001b[1;34m(self, axis, skipna, numeric_only, **kwargs)\u001b[0m\n\u001b[0;32m  11546\u001b[0m \u001b[38;5;129m@doc\u001b[39m(\n\u001b[0;32m  11547\u001b[0m     _num_doc,\n\u001b[0;32m  11548\u001b[0m     desc\u001b[38;5;241m=\u001b[39m\u001b[38;5;124m\"\u001b[39m\u001b[38;5;124mReturn the mean of the values over the requested axis.\u001b[39m\u001b[38;5;124m\"\u001b[39m,\n\u001b[1;32m   (...)\u001b[0m\n\u001b[0;32m  11561\u001b[0m     \u001b[38;5;241m*\u001b[39m\u001b[38;5;241m*\u001b[39mkwargs,\n\u001b[0;32m  11562\u001b[0m ):\n\u001b[1;32m> 11563\u001b[0m     \u001b[38;5;28;01mreturn\u001b[39;00m \u001b[43mNDFrame\u001b[49m\u001b[38;5;241;43m.\u001b[39;49m\u001b[43mmean\u001b[49m\u001b[43m(\u001b[49m\u001b[38;5;28;43mself\u001b[39;49m\u001b[43m,\u001b[49m\u001b[43m \u001b[49m\u001b[43maxis\u001b[49m\u001b[43m,\u001b[49m\u001b[43m \u001b[49m\u001b[43mskipna\u001b[49m\u001b[43m,\u001b[49m\u001b[43m \u001b[49m\u001b[43mnumeric_only\u001b[49m\u001b[43m,\u001b[49m\u001b[43m \u001b[49m\u001b[38;5;241;43m*\u001b[39;49m\u001b[38;5;241;43m*\u001b[39;49m\u001b[43mkwargs\u001b[49m\u001b[43m)\u001b[49m\n",
      "File \u001b[1;32mC:\\venv\\venv_pandas\\Lib\\site-packages\\pandas\\core\\generic.py:11208\u001b[0m, in \u001b[0;36mNDFrame.mean\u001b[1;34m(self, axis, skipna, numeric_only, **kwargs)\u001b[0m\n\u001b[0;32m  11201\u001b[0m \u001b[38;5;28;01mdef\u001b[39;00m \u001b[38;5;21mmean\u001b[39m(\n\u001b[0;32m  11202\u001b[0m     \u001b[38;5;28mself\u001b[39m,\n\u001b[0;32m  11203\u001b[0m     axis: Axis \u001b[38;5;241m|\u001b[39m \u001b[38;5;28;01mNone\u001b[39;00m \u001b[38;5;241m=\u001b[39m \u001b[38;5;241m0\u001b[39m,\n\u001b[1;32m   (...)\u001b[0m\n\u001b[0;32m  11206\u001b[0m     \u001b[38;5;241m*\u001b[39m\u001b[38;5;241m*\u001b[39mkwargs,\n\u001b[0;32m  11207\u001b[0m ) \u001b[38;5;241m-\u001b[39m\u001b[38;5;241m>\u001b[39m Series \u001b[38;5;241m|\u001b[39m \u001b[38;5;28mfloat\u001b[39m:\n\u001b[1;32m> 11208\u001b[0m     \u001b[38;5;28;01mreturn\u001b[39;00m \u001b[38;5;28;43mself\u001b[39;49m\u001b[38;5;241;43m.\u001b[39;49m\u001b[43m_stat_function\u001b[49m\u001b[43m(\u001b[49m\n\u001b[0;32m  11209\u001b[0m \u001b[43m        \u001b[49m\u001b[38;5;124;43m\"\u001b[39;49m\u001b[38;5;124;43mmean\u001b[39;49m\u001b[38;5;124;43m\"\u001b[39;49m\u001b[43m,\u001b[49m\u001b[43m \u001b[49m\u001b[43mnanops\u001b[49m\u001b[38;5;241;43m.\u001b[39;49m\u001b[43mnanmean\u001b[49m\u001b[43m,\u001b[49m\u001b[43m \u001b[49m\u001b[43maxis\u001b[49m\u001b[43m,\u001b[49m\u001b[43m \u001b[49m\u001b[43mskipna\u001b[49m\u001b[43m,\u001b[49m\u001b[43m \u001b[49m\u001b[43mnumeric_only\u001b[49m\u001b[43m,\u001b[49m\u001b[43m \u001b[49m\u001b[38;5;241;43m*\u001b[39;49m\u001b[38;5;241;43m*\u001b[39;49m\u001b[43mkwargs\u001b[49m\n\u001b[0;32m  11210\u001b[0m \u001b[43m    \u001b[49m\u001b[43m)\u001b[49m\n",
      "File \u001b[1;32mC:\\venv\\venv_pandas\\Lib\\site-packages\\pandas\\core\\generic.py:11165\u001b[0m, in \u001b[0;36mNDFrame._stat_function\u001b[1;34m(self, name, func, axis, skipna, numeric_only, **kwargs)\u001b[0m\n\u001b[0;32m  11161\u001b[0m     nv\u001b[38;5;241m.\u001b[39mvalidate_stat_func((), kwargs, fname\u001b[38;5;241m=\u001b[39mname)\n\u001b[0;32m  11163\u001b[0m validate_bool_kwarg(skipna, \u001b[38;5;124m\"\u001b[39m\u001b[38;5;124mskipna\u001b[39m\u001b[38;5;124m\"\u001b[39m, none_allowed\u001b[38;5;241m=\u001b[39m\u001b[38;5;28;01mFalse\u001b[39;00m)\n\u001b[1;32m> 11165\u001b[0m \u001b[38;5;28;01mreturn\u001b[39;00m \u001b[38;5;28;43mself\u001b[39;49m\u001b[38;5;241;43m.\u001b[39;49m\u001b[43m_reduce\u001b[49m\u001b[43m(\u001b[49m\n\u001b[0;32m  11166\u001b[0m \u001b[43m    \u001b[49m\u001b[43mfunc\u001b[49m\u001b[43m,\u001b[49m\u001b[43m \u001b[49m\u001b[43mname\u001b[49m\u001b[38;5;241;43m=\u001b[39;49m\u001b[43mname\u001b[49m\u001b[43m,\u001b[49m\u001b[43m \u001b[49m\u001b[43maxis\u001b[49m\u001b[38;5;241;43m=\u001b[39;49m\u001b[43maxis\u001b[49m\u001b[43m,\u001b[49m\u001b[43m \u001b[49m\u001b[43mskipna\u001b[49m\u001b[38;5;241;43m=\u001b[39;49m\u001b[43mskipna\u001b[49m\u001b[43m,\u001b[49m\u001b[43m \u001b[49m\u001b[43mnumeric_only\u001b[49m\u001b[38;5;241;43m=\u001b[39;49m\u001b[43mnumeric_only\u001b[49m\n\u001b[0;32m  11167\u001b[0m \u001b[43m\u001b[49m\u001b[43m)\u001b[49m\n",
      "File \u001b[1;32mC:\\venv\\venv_pandas\\Lib\\site-packages\\pandas\\core\\frame.py:10519\u001b[0m, in \u001b[0;36mDataFrame._reduce\u001b[1;34m(self, op, name, axis, skipna, numeric_only, filter_type, **kwds)\u001b[0m\n\u001b[0;32m  10515\u001b[0m     df \u001b[38;5;241m=\u001b[39m df\u001b[38;5;241m.\u001b[39mT\n\u001b[0;32m  10517\u001b[0m \u001b[38;5;66;03m# After possibly _get_data and transposing, we are now in the\u001b[39;00m\n\u001b[0;32m  10518\u001b[0m \u001b[38;5;66;03m#  simple case where we can use BlockManager.reduce\u001b[39;00m\n\u001b[1;32m> 10519\u001b[0m res \u001b[38;5;241m=\u001b[39m \u001b[43mdf\u001b[49m\u001b[38;5;241;43m.\u001b[39;49m\u001b[43m_mgr\u001b[49m\u001b[38;5;241;43m.\u001b[39;49m\u001b[43mreduce\u001b[49m\u001b[43m(\u001b[49m\u001b[43mblk_func\u001b[49m\u001b[43m)\u001b[49m\n\u001b[0;32m  10520\u001b[0m out \u001b[38;5;241m=\u001b[39m df\u001b[38;5;241m.\u001b[39m_constructor(res)\u001b[38;5;241m.\u001b[39miloc[\u001b[38;5;241m0\u001b[39m]\n\u001b[0;32m  10521\u001b[0m \u001b[38;5;28;01mif\u001b[39;00m out_dtype \u001b[38;5;129;01mis\u001b[39;00m \u001b[38;5;129;01mnot\u001b[39;00m \u001b[38;5;28;01mNone\u001b[39;00m:\n",
      "File \u001b[1;32mC:\\venv\\venv_pandas\\Lib\\site-packages\\pandas\\core\\internals\\managers.py:1534\u001b[0m, in \u001b[0;36mBlockManager.reduce\u001b[1;34m(self, func)\u001b[0m\n\u001b[0;32m   1532\u001b[0m res_blocks: \u001b[38;5;28mlist\u001b[39m[Block] \u001b[38;5;241m=\u001b[39m []\n\u001b[0;32m   1533\u001b[0m \u001b[38;5;28;01mfor\u001b[39;00m blk \u001b[38;5;129;01min\u001b[39;00m \u001b[38;5;28mself\u001b[39m\u001b[38;5;241m.\u001b[39mblocks:\n\u001b[1;32m-> 1534\u001b[0m     nbs \u001b[38;5;241m=\u001b[39m \u001b[43mblk\u001b[49m\u001b[38;5;241;43m.\u001b[39;49m\u001b[43mreduce\u001b[49m\u001b[43m(\u001b[49m\u001b[43mfunc\u001b[49m\u001b[43m)\u001b[49m\n\u001b[0;32m   1535\u001b[0m     res_blocks\u001b[38;5;241m.\u001b[39mextend(nbs)\n\u001b[0;32m   1537\u001b[0m index \u001b[38;5;241m=\u001b[39m Index([\u001b[38;5;28;01mNone\u001b[39;00m])  \u001b[38;5;66;03m# placeholder\u001b[39;00m\n",
      "File \u001b[1;32mC:\\venv\\venv_pandas\\Lib\\site-packages\\pandas\\core\\internals\\blocks.py:339\u001b[0m, in \u001b[0;36mBlock.reduce\u001b[1;34m(self, func)\u001b[0m\n\u001b[0;32m    333\u001b[0m \u001b[38;5;129m@final\u001b[39m\n\u001b[0;32m    334\u001b[0m \u001b[38;5;28;01mdef\u001b[39;00m \u001b[38;5;21mreduce\u001b[39m(\u001b[38;5;28mself\u001b[39m, func) \u001b[38;5;241m-\u001b[39m\u001b[38;5;241m>\u001b[39m \u001b[38;5;28mlist\u001b[39m[Block]:\n\u001b[0;32m    335\u001b[0m     \u001b[38;5;66;03m# We will apply the function and reshape the result into a single-row\u001b[39;00m\n\u001b[0;32m    336\u001b[0m     \u001b[38;5;66;03m#  Block with the same mgr_locs; squeezing will be done at a higher level\u001b[39;00m\n\u001b[0;32m    337\u001b[0m     \u001b[38;5;28;01massert\u001b[39;00m \u001b[38;5;28mself\u001b[39m\u001b[38;5;241m.\u001b[39mndim \u001b[38;5;241m==\u001b[39m \u001b[38;5;241m2\u001b[39m\n\u001b[1;32m--> 339\u001b[0m     result \u001b[38;5;241m=\u001b[39m \u001b[43mfunc\u001b[49m\u001b[43m(\u001b[49m\u001b[38;5;28;43mself\u001b[39;49m\u001b[38;5;241;43m.\u001b[39;49m\u001b[43mvalues\u001b[49m\u001b[43m)\u001b[49m\n\u001b[0;32m    341\u001b[0m     \u001b[38;5;28;01mif\u001b[39;00m \u001b[38;5;28mself\u001b[39m\u001b[38;5;241m.\u001b[39mvalues\u001b[38;5;241m.\u001b[39mndim \u001b[38;5;241m==\u001b[39m \u001b[38;5;241m1\u001b[39m:\n\u001b[0;32m    342\u001b[0m         \u001b[38;5;66;03m# TODO(EA2D): special case not needed with 2D EAs\u001b[39;00m\n\u001b[0;32m    343\u001b[0m         res_values \u001b[38;5;241m=\u001b[39m np\u001b[38;5;241m.\u001b[39marray([[result]])\n",
      "File \u001b[1;32mC:\\venv\\venv_pandas\\Lib\\site-packages\\pandas\\core\\frame.py:10482\u001b[0m, in \u001b[0;36mDataFrame._reduce.<locals>.blk_func\u001b[1;34m(values, axis)\u001b[0m\n\u001b[0;32m  10480\u001b[0m     \u001b[38;5;28;01mreturn\u001b[39;00m values\u001b[38;5;241m.\u001b[39m_reduce(name, skipna\u001b[38;5;241m=\u001b[39mskipna, \u001b[38;5;241m*\u001b[39m\u001b[38;5;241m*\u001b[39mkwds)\n\u001b[0;32m  10481\u001b[0m \u001b[38;5;28;01melse\u001b[39;00m:\n\u001b[1;32m> 10482\u001b[0m     \u001b[38;5;28;01mreturn\u001b[39;00m \u001b[43mop\u001b[49m\u001b[43m(\u001b[49m\u001b[43mvalues\u001b[49m\u001b[43m,\u001b[49m\u001b[43m \u001b[49m\u001b[43maxis\u001b[49m\u001b[38;5;241;43m=\u001b[39;49m\u001b[43maxis\u001b[49m\u001b[43m,\u001b[49m\u001b[43m \u001b[49m\u001b[43mskipna\u001b[49m\u001b[38;5;241;43m=\u001b[39;49m\u001b[43mskipna\u001b[49m\u001b[43m,\u001b[49m\u001b[43m \u001b[49m\u001b[38;5;241;43m*\u001b[39;49m\u001b[38;5;241;43m*\u001b[39;49m\u001b[43mkwds\u001b[49m\u001b[43m)\u001b[49m\n",
      "File \u001b[1;32mC:\\venv\\venv_pandas\\Lib\\site-packages\\pandas\\core\\nanops.py:96\u001b[0m, in \u001b[0;36mdisallow.__call__.<locals>._f\u001b[1;34m(*args, **kwargs)\u001b[0m\n\u001b[0;32m     94\u001b[0m \u001b[38;5;28;01mtry\u001b[39;00m:\n\u001b[0;32m     95\u001b[0m     \u001b[38;5;28;01mwith\u001b[39;00m np\u001b[38;5;241m.\u001b[39merrstate(invalid\u001b[38;5;241m=\u001b[39m\u001b[38;5;124m\"\u001b[39m\u001b[38;5;124mignore\u001b[39m\u001b[38;5;124m\"\u001b[39m):\n\u001b[1;32m---> 96\u001b[0m         \u001b[38;5;28;01mreturn\u001b[39;00m \u001b[43mf\u001b[49m\u001b[43m(\u001b[49m\u001b[38;5;241;43m*\u001b[39;49m\u001b[43margs\u001b[49m\u001b[43m,\u001b[49m\u001b[43m \u001b[49m\u001b[38;5;241;43m*\u001b[39;49m\u001b[38;5;241;43m*\u001b[39;49m\u001b[43mkwargs\u001b[49m\u001b[43m)\u001b[49m\n\u001b[0;32m     97\u001b[0m \u001b[38;5;28;01mexcept\u001b[39;00m \u001b[38;5;167;01mValueError\u001b[39;00m \u001b[38;5;28;01mas\u001b[39;00m e:\n\u001b[0;32m     98\u001b[0m     \u001b[38;5;66;03m# we want to transform an object array\u001b[39;00m\n\u001b[0;32m     99\u001b[0m     \u001b[38;5;66;03m# ValueError message to the more typical TypeError\u001b[39;00m\n\u001b[0;32m    100\u001b[0m     \u001b[38;5;66;03m# e.g. this is normally a disallowed function on\u001b[39;00m\n\u001b[0;32m    101\u001b[0m     \u001b[38;5;66;03m# object arrays that contain strings\u001b[39;00m\n\u001b[0;32m    102\u001b[0m     \u001b[38;5;28;01mif\u001b[39;00m is_object_dtype(args[\u001b[38;5;241m0\u001b[39m]):\n",
      "File \u001b[1;32mC:\\venv\\venv_pandas\\Lib\\site-packages\\pandas\\core\\nanops.py:158\u001b[0m, in \u001b[0;36mbottleneck_switch.__call__.<locals>.f\u001b[1;34m(values, axis, skipna, **kwds)\u001b[0m\n\u001b[0;32m    156\u001b[0m         result \u001b[38;5;241m=\u001b[39m alt(values, axis\u001b[38;5;241m=\u001b[39maxis, skipna\u001b[38;5;241m=\u001b[39mskipna, \u001b[38;5;241m*\u001b[39m\u001b[38;5;241m*\u001b[39mkwds)\n\u001b[0;32m    157\u001b[0m \u001b[38;5;28;01melse\u001b[39;00m:\n\u001b[1;32m--> 158\u001b[0m     result \u001b[38;5;241m=\u001b[39m \u001b[43malt\u001b[49m\u001b[43m(\u001b[49m\u001b[43mvalues\u001b[49m\u001b[43m,\u001b[49m\u001b[43m \u001b[49m\u001b[43maxis\u001b[49m\u001b[38;5;241;43m=\u001b[39;49m\u001b[43maxis\u001b[49m\u001b[43m,\u001b[49m\u001b[43m \u001b[49m\u001b[43mskipna\u001b[49m\u001b[38;5;241;43m=\u001b[39;49m\u001b[43mskipna\u001b[49m\u001b[43m,\u001b[49m\u001b[43m \u001b[49m\u001b[38;5;241;43m*\u001b[39;49m\u001b[38;5;241;43m*\u001b[39;49m\u001b[43mkwds\u001b[49m\u001b[43m)\u001b[49m\n\u001b[0;32m    160\u001b[0m \u001b[38;5;28;01mreturn\u001b[39;00m result\n",
      "File \u001b[1;32mC:\\venv\\venv_pandas\\Lib\\site-packages\\pandas\\core\\nanops.py:421\u001b[0m, in \u001b[0;36m_datetimelike_compat.<locals>.new_func\u001b[1;34m(values, axis, skipna, mask, **kwargs)\u001b[0m\n\u001b[0;32m    418\u001b[0m \u001b[38;5;28;01mif\u001b[39;00m datetimelike \u001b[38;5;129;01mand\u001b[39;00m mask \u001b[38;5;129;01mis\u001b[39;00m \u001b[38;5;28;01mNone\u001b[39;00m:\n\u001b[0;32m    419\u001b[0m     mask \u001b[38;5;241m=\u001b[39m isna(values)\n\u001b[1;32m--> 421\u001b[0m result \u001b[38;5;241m=\u001b[39m \u001b[43mfunc\u001b[49m\u001b[43m(\u001b[49m\u001b[43mvalues\u001b[49m\u001b[43m,\u001b[49m\u001b[43m \u001b[49m\u001b[43maxis\u001b[49m\u001b[38;5;241;43m=\u001b[39;49m\u001b[43maxis\u001b[49m\u001b[43m,\u001b[49m\u001b[43m \u001b[49m\u001b[43mskipna\u001b[49m\u001b[38;5;241;43m=\u001b[39;49m\u001b[43mskipna\u001b[49m\u001b[43m,\u001b[49m\u001b[43m \u001b[49m\u001b[43mmask\u001b[49m\u001b[38;5;241;43m=\u001b[39;49m\u001b[43mmask\u001b[49m\u001b[43m,\u001b[49m\u001b[43m \u001b[49m\u001b[38;5;241;43m*\u001b[39;49m\u001b[38;5;241;43m*\u001b[39;49m\u001b[43mkwargs\u001b[49m\u001b[43m)\u001b[49m\n\u001b[0;32m    423\u001b[0m \u001b[38;5;28;01mif\u001b[39;00m datetimelike:\n\u001b[0;32m    424\u001b[0m     result \u001b[38;5;241m=\u001b[39m _wrap_results(result, orig_values\u001b[38;5;241m.\u001b[39mdtype, fill_value\u001b[38;5;241m=\u001b[39miNaT)\n",
      "File \u001b[1;32mC:\\venv\\venv_pandas\\Lib\\site-packages\\pandas\\core\\nanops.py:727\u001b[0m, in \u001b[0;36mnanmean\u001b[1;34m(values, axis, skipna, mask)\u001b[0m\n\u001b[0;32m    724\u001b[0m     dtype_count \u001b[38;5;241m=\u001b[39m dtype\n\u001b[0;32m    726\u001b[0m count \u001b[38;5;241m=\u001b[39m _get_counts(values\u001b[38;5;241m.\u001b[39mshape, mask, axis, dtype\u001b[38;5;241m=\u001b[39mdtype_count)\n\u001b[1;32m--> 727\u001b[0m the_sum \u001b[38;5;241m=\u001b[39m \u001b[43m_ensure_numeric\u001b[49m\u001b[43m(\u001b[49m\u001b[43mvalues\u001b[49m\u001b[38;5;241;43m.\u001b[39;49m\u001b[43msum\u001b[49m\u001b[43m(\u001b[49m\u001b[43maxis\u001b[49m\u001b[43m,\u001b[49m\u001b[43m \u001b[49m\u001b[43mdtype\u001b[49m\u001b[38;5;241;43m=\u001b[39;49m\u001b[43mdtype_sum\u001b[49m\u001b[43m)\u001b[49m\u001b[43m)\u001b[49m\n\u001b[0;32m    729\u001b[0m \u001b[38;5;28;01mif\u001b[39;00m axis \u001b[38;5;129;01mis\u001b[39;00m \u001b[38;5;129;01mnot\u001b[39;00m \u001b[38;5;28;01mNone\u001b[39;00m \u001b[38;5;129;01mand\u001b[39;00m \u001b[38;5;28mgetattr\u001b[39m(the_sum, \u001b[38;5;124m\"\u001b[39m\u001b[38;5;124mndim\u001b[39m\u001b[38;5;124m\"\u001b[39m, \u001b[38;5;28;01mFalse\u001b[39;00m):\n\u001b[0;32m    730\u001b[0m     count \u001b[38;5;241m=\u001b[39m cast(np\u001b[38;5;241m.\u001b[39mndarray, count)\n",
      "File \u001b[1;32mC:\\venv\\venv_pandas\\Lib\\site-packages\\pandas\\core\\nanops.py:1686\u001b[0m, in \u001b[0;36m_ensure_numeric\u001b[1;34m(x)\u001b[0m\n\u001b[0;32m   1683\u001b[0m         x \u001b[38;5;241m=\u001b[39m x\u001b[38;5;241m.\u001b[39mastype(np\u001b[38;5;241m.\u001b[39mfloat64)\n\u001b[0;32m   1684\u001b[0m     \u001b[38;5;28;01mexcept\u001b[39;00m \u001b[38;5;167;01mValueError\u001b[39;00m \u001b[38;5;28;01mas\u001b[39;00m err:\n\u001b[0;32m   1685\u001b[0m         \u001b[38;5;66;03m# GH#29941 we get here with object arrays containing strs\u001b[39;00m\n\u001b[1;32m-> 1686\u001b[0m         \u001b[38;5;28;01mraise\u001b[39;00m \u001b[38;5;167;01mTypeError\u001b[39;00m(\u001b[38;5;124mf\u001b[39m\u001b[38;5;124m\"\u001b[39m\u001b[38;5;124mCould not convert \u001b[39m\u001b[38;5;132;01m{\u001b[39;00mx\u001b[38;5;132;01m}\u001b[39;00m\u001b[38;5;124m to numeric\u001b[39m\u001b[38;5;124m\"\u001b[39m) \u001b[38;5;28;01mfrom\u001b[39;00m \u001b[38;5;21;01merr\u001b[39;00m\n\u001b[0;32m   1687\u001b[0m \u001b[38;5;28;01melse\u001b[39;00m:\n\u001b[0;32m   1688\u001b[0m     \u001b[38;5;28;01mif\u001b[39;00m \u001b[38;5;129;01mnot\u001b[39;00m np\u001b[38;5;241m.\u001b[39many(np\u001b[38;5;241m.\u001b[39mimag(x)):\n",
      "\u001b[1;31mTypeError\u001b[0m: Could not convert [\"AfghanistanAfghanistanAfghanistanAfghanistanAfghanistanAfghanistanAfghanistanAfghanistanAfghanistanAfghanistanAfghanistanAfghanistanAlbaniaAlbaniaAlbaniaAlbaniaAlbaniaAlbaniaAlbaniaAlbaniaAlbaniaAlbaniaAlbaniaAlbaniaAlgeriaAlgeriaAlgeriaAlgeriaAlgeriaAlgeriaAlgeriaAlgeriaAlgeriaAlgeriaAlgeriaAlgeriaAngolaAngolaAngolaAngolaAngolaAngolaAngolaAngolaAngolaAngolaAngolaAngolaArgentinaArgentinaArgentinaArgentinaArgentinaArgentinaArgentinaArgentinaArgentinaArgentinaArgentinaArgentinaAustraliaAustraliaAustraliaAustraliaAustraliaAustraliaAustraliaAustraliaAustraliaAustraliaAustraliaAustraliaAustriaAustriaAustriaAustriaAustriaAustriaAustriaAustriaAustriaAustriaAustriaAustriaBahrainBahrainBahrainBahrainBahrainBahrainBahrainBahrainBahrainBahrainBahrainBahrainBangladeshBangladeshBangladeshBangladeshBangladeshBangladeshBangladeshBangladeshBangladeshBangladeshBangladeshBangladeshBelgiumBelgiumBelgiumBelgiumBelgiumBelgiumBelgiumBelgiumBelgiumBelgiumBelgiumBelgiumBeninBeninBeninBeninBeninBeninBeninBeninBeninBeninBeninBeninBoliviaBoliviaBoliviaBoliviaBoliviaBoliviaBoliviaBoliviaBoliviaBoliviaBoliviaBoliviaBosnia and HerzegovinaBosnia and HerzegovinaBosnia and HerzegovinaBosnia and HerzegovinaBosnia and HerzegovinaBosnia and HerzegovinaBosnia and HerzegovinaBosnia and HerzegovinaBosnia and HerzegovinaBosnia and HerzegovinaBosnia and HerzegovinaBosnia and HerzegovinaBotswanaBotswanaBotswanaBotswanaBotswanaBotswanaBotswanaBotswanaBotswanaBotswanaBotswanaBotswanaBrazilBrazilBrazilBrazilBrazilBrazilBrazilBrazilBrazilBrazilBrazilBrazilBulgariaBulgariaBulgariaBulgariaBulgariaBulgariaBulgariaBulgariaBulgariaBulgariaBulgariaBulgariaBurkina FasoBurkina FasoBurkina FasoBurkina FasoBurkina FasoBurkina FasoBurkina FasoBurkina FasoBurkina FasoBurkina FasoBurkina FasoBurkina FasoBurundiBurundiBurundiBurundiBurundiBurundiBurundiBurundiBurundiBurundiBurundiBurundiCambodiaCambodiaCambodiaCambodiaCambodiaCambodiaCambodiaCambodiaCambodiaCambodiaCambodiaCambodiaCameroonCameroonCameroonCameroonCameroonCameroonCameroonCameroonCameroonCameroonCameroonCameroonCanadaCanadaCanadaCanadaCanadaCanadaCanadaCanadaCanadaCanadaCanadaCanadaCentral African RepublicCentral African RepublicCentral African RepublicCentral African RepublicCentral African RepublicCentral African RepublicCentral African RepublicCentral African RepublicCentral African RepublicCentral African RepublicCentral African RepublicCentral African RepublicChadChadChadChadChadChadChadChadChadChadChadChadChileChileChileChileChileChileChileChileChileChileChileChileChinaChinaChinaChinaChinaChinaChinaChinaChinaChinaChinaChinaColombiaColombiaColombiaColombiaColombiaColombiaColombiaColombiaColombiaColombiaColombiaColombiaComorosComorosComorosComorosComorosComorosComorosComorosComorosComorosComorosComorosCongo, Dem. Rep.Congo, Dem. Rep.Congo, Dem. Rep.Congo, Dem. Rep.Congo, Dem. Rep.Congo, Dem. Rep.Congo, Dem. Rep.Congo, Dem. Rep.Congo, Dem. Rep.Congo, Dem. Rep.Congo, Dem. Rep.Congo, Dem. Rep.Congo, Rep.Congo, Rep.Congo, Rep.Congo, Rep.Congo, Rep.Congo, Rep.Congo, Rep.Congo, Rep.Congo, Rep.Congo, Rep.Congo, Rep.Congo, Rep.Costa RicaCosta RicaCosta RicaCosta RicaCosta RicaCosta RicaCosta RicaCosta RicaCosta RicaCosta RicaCosta RicaCosta RicaCote d'IvoireCote d'IvoireCote d'IvoireCote d'IvoireCote d'IvoireCote d'IvoireCote d'IvoireCote d'IvoireCote d'IvoireCote d'IvoireCote d'IvoireCote d'IvoireCroatiaCroatiaCroatiaCroatiaCroatiaCroatiaCroatiaCroatiaCroatiaCroatiaCroatiaCroatiaCubaCubaCubaCubaCubaCubaCubaCubaCubaCubaCubaCubaCzech RepublicCzech RepublicCzech RepublicCzech RepublicCzech RepublicCzech RepublicCzech RepublicCzech RepublicCzech RepublicCzech RepublicCzech RepublicCzech RepublicDenmarkDenmarkDenmarkDenmarkDenmarkDenmarkDenmarkDenmarkDenmarkDenmarkDenmarkDenmarkDjiboutiDjiboutiDjiboutiDjiboutiDjiboutiDjiboutiDjiboutiDjiboutiDjiboutiDjiboutiDjiboutiDjiboutiDominican RepublicDominican RepublicDominican RepublicDominican RepublicDominican RepublicDominican RepublicDominican RepublicDominican RepublicDominican RepublicDominican RepublicDominican RepublicDominican RepublicEcuadorEcuadorEcuadorEcuadorEcuadorEcuadorEcuadorEcuadorEcuadorEcuadorEcuadorEcuadorEgyptEgyptEgyptEgyptEgyptEgyptEgyptEgyptEgyptEgyptEgyptEgyptEl SalvadorEl SalvadorEl SalvadorEl SalvadorEl SalvadorEl SalvadorEl SalvadorEl SalvadorEl SalvadorEl SalvadorEl SalvadorEl SalvadorEquatorial GuineaEquatorial GuineaEquatorial GuineaEquatorial GuineaEquatorial GuineaEquatorial GuineaEquatorial GuineaEquatorial GuineaEquatorial GuineaEquatorial GuineaEquatorial GuineaEquatorial GuineaEritreaEritreaEritreaEritreaEritreaEritreaEritreaEritreaEritreaEritreaEritreaEritreaEthiopiaEthiopiaEthiopiaEthiopiaEthiopiaEthiopiaEthiopiaEthiopiaEthiopiaEthiopiaEthiopiaEthiopiaFinlandFinlandFinlandFinlandFinlandFinlandFinlandFinlandFinlandFinlandFinlandFinlandFranceFranceFranceFranceFranceFranceFranceFranceFranceFranceFranceFranceGabonGabonGabonGabonGabonGabonGabonGabonGabonGabonGabonGabonGambiaGambiaGambiaGambiaGambiaGambiaGambiaGambiaGambiaGambiaGambiaGambiaGermanyGermanyGermanyGermanyGermanyGermanyGermanyGermanyGermanyGermanyGermanyGermanyGhanaGhanaGhanaGhanaGhanaGhanaGhanaGhanaGhanaGhanaGhanaGhanaGreeceGreeceGreeceGreeceGreeceGreeceGreeceGreeceGreeceGreeceGreeceGreeceGuatemalaGuatemalaGuatemalaGuatemalaGuatemalaGuatemalaGuatemalaGuatemalaGuatemalaGuatemalaGuatemalaGuatemalaGuineaGuineaGuineaGuineaGuineaGuineaGuineaGuineaGuineaGuineaGuineaGuineaGuinea-BissauGuinea-BissauGuinea-BissauGuinea-BissauGuinea-BissauGuinea-BissauGuinea-BissauGuinea-BissauGuinea-BissauGuinea-BissauGuinea-BissauGuinea-BissauHaitiHaitiHaitiHaitiHaitiHaitiHaitiHaitiHaitiHaitiHaitiHaitiHondurasHondurasHondurasHondurasHondurasHondurasHondurasHondurasHondurasHondurasHondurasHondurasHong Kong, ChinaHong Kong, ChinaHong Kong, ChinaHong Kong, ChinaHong Kong, ChinaHong Kong, ChinaHong Kong, ChinaHong Kong, ChinaHong Kong, ChinaHong Kong, ChinaHong Kong, ChinaHong Kong, ChinaHungaryHungaryHungaryHungaryHungaryHungaryHungaryHungaryHungaryHungaryHungaryHungaryIcelandIcelandIcelandIcelandIcelandIcelandIcelandIcelandIcelandIcelandIcelandIcelandIndiaIndiaIndiaIndiaIndiaIndiaIndiaIndiaIndiaIndiaIndiaIndiaIndonesiaIndonesiaIndonesiaIndonesiaIndonesiaIndonesiaIndonesiaIndonesiaIndonesiaIndonesiaIndonesiaIndonesiaIranIranIranIranIranIranIranIranIranIranIranIranIraqIraqIraqIraqIraqIraqIraqIraqIraqIraqIraqIraqIrelandIrelandIrelandIrelandIrelandIrelandIrelandIrelandIrelandIrelandIrelandIrelandIsraelIsraelIsraelIsraelIsraelIsraelIsraelIsraelIsraelIsraelIsraelIsraelItalyItalyItalyItalyItalyItalyItalyItalyItalyItalyItalyItalyJamaicaJamaicaJamaicaJamaicaJamaicaJamaicaJamaicaJamaicaJamaicaJamaicaJamaicaJamaicaJapanJapanJapanJapanJapanJapanJapanJapanJapanJapanJapanJapanJordanJordanJordanJordanJordanJordanJordanJordanJordanJordanJordanJordanKenyaKenyaKenyaKenyaKenyaKenyaKenyaKenyaKenyaKenyaKenyaKenyaKorea, Dem. Rep.Korea, Dem. Rep.Korea, Dem. Rep.Korea, Dem. Rep.Korea, Dem. Rep.Korea, Dem. Rep.Korea, Dem. Rep.Korea, Dem. Rep.Korea, Dem. Rep.Korea, Dem. Rep.Korea, Dem. Rep.Korea, Dem. Rep.Korea, Rep.Korea, Rep.Korea, Rep.Korea, Rep.Korea, Rep.Korea, Rep.Korea, Rep.Korea, Rep.Korea, Rep.Korea, Rep.Korea, Rep.Korea, Rep.KuwaitKuwaitKuwaitKuwaitKuwaitKuwaitKuwaitKuwaitKuwaitKuwaitKuwaitKuwaitLebanonLebanonLebanonLebanonLebanonLebanonLebanonLebanonLebanonLebanonLebanonLebanonLesothoLesothoLesothoLesothoLesothoLesothoLesothoLesothoLesothoLesothoLesothoLesothoLiberiaLiberiaLiberiaLiberiaLiberiaLiberiaLiberiaLiberiaLiberiaLiberiaLiberiaLiberiaLibyaLibyaLibyaLibyaLibyaLibyaLibyaLibyaLibyaLibyaLibyaLibyaMadagascarMadagascarMadagascarMadagascarMadagascarMadagascarMadagascarMadagascarMadagascarMadagascarMadagascarMadagascarMalawiMalawiMalawiMalawiMalawiMalawiMalawiMalawiMalawiMalawiMalawiMalawiMalaysiaMalaysiaMalaysiaMalaysiaMalaysiaMalaysiaMalaysiaMalaysiaMalaysiaMalaysiaMalaysiaMalaysiaMaliMaliMaliMaliMaliMaliMaliMaliMaliMaliMaliMaliMauritaniaMauritaniaMauritaniaMauritaniaMauritaniaMauritaniaMauritaniaMauritaniaMauritaniaMauritaniaMauritaniaMauritaniaMauritiusMauritiusMauritiusMauritiusMauritiusMauritiusMauritiusMauritiusMauritiusMauritiusMauritiusMauritiusMexicoMexicoMexicoMexicoMexicoMexicoMexicoMexicoMexicoMexicoMexicoMexicoMongoliaMongoliaMongoliaMongoliaMongoliaMongoliaMongoliaMongoliaMongoliaMongoliaMongoliaMongoliaMontenegroMontenegroMontenegroMontenegroMontenegroMontenegroMontenegroMontenegroMontenegroMontenegroMontenegroMontenegroMoroccoMoroccoMoroccoMoroccoMoroccoMoroccoMoroccoMoroccoMoroccoMoroccoMoroccoMoroccoMozambiqueMozambiqueMozambiqueMozambiqueMozambiqueMozambiqueMozambiqueMozambiqueMozambiqueMozambiqueMozambiqueMozambiqueMyanmarMyanmarMyanmarMyanmarMyanmarMyanmarMyanmarMyanmarMyanmarMyanmarMyanmarMyanmarNamibiaNamibiaNamibiaNamibiaNamibiaNamibiaNamibiaNamibiaNamibiaNamibiaNamibiaNamibiaNepalNepalNepalNepalNepalNepalNepalNepalNepalNepalNepalNepalNetherlandsNetherlandsNetherlandsNetherlandsNetherlandsNetherlandsNetherlandsNetherlandsNetherlandsNetherlandsNetherlandsNetherlandsNew ZealandNew ZealandNew ZealandNew ZealandNew ZealandNew ZealandNew ZealandNew ZealandNew ZealandNew ZealandNew ZealandNew ZealandNicaraguaNicaraguaNicaraguaNicaraguaNicaraguaNicaraguaNicaraguaNicaraguaNicaraguaNicaraguaNicaraguaNicaraguaNigerNigerNigerNigerNigerNigerNigerNigerNigerNigerNigerNigerNigeriaNigeriaNigeriaNigeriaNigeriaNigeriaNigeriaNigeriaNigeriaNigeriaNigeriaNigeriaNorwayNorwayNorwayNorwayNorwayNorwayNorwayNorwayNorwayNorwayNorwayNorwayOmanOmanOmanOmanOmanOmanOmanOmanOmanOmanOmanOmanPakistanPakistanPakistanPakistanPakistanPakistanPakistanPakistanPakistanPakistanPakistanPakistanPanamaPanamaPanamaPanamaPanamaPanamaPanamaPanamaPanamaPanamaPanamaPanamaParaguayParaguayParaguayParaguayParaguayParaguayParaguayParaguayParaguayParaguayParaguayParaguayPeruPeruPeruPeruPeruPeruPeruPeruPeruPeruPeruPeruPhilippinesPhilippinesPhilippinesPhilippinesPhilippinesPhilippinesPhilippinesPhilippinesPhilippinesPhilippinesPhilippinesPhilippinesPolandPolandPolandPolandPolandPolandPolandPolandPolandPolandPolandPolandPortugalPortugalPortugalPortugalPortugalPortugalPortugalPortugalPortugalPortugalPortugalPortugalPuerto RicoPuerto RicoPuerto RicoPuerto RicoPuerto RicoPuerto RicoPuerto RicoPuerto RicoPuerto RicoPuerto RicoPuerto RicoPuerto RicoReunionReunionReunionReunionReunionReunionReunionReunionReunionReunionReunionReunionRomaniaRomaniaRomaniaRomaniaRomaniaRomaniaRomaniaRomaniaRomaniaRomaniaRomaniaRomaniaRwandaRwandaRwandaRwandaRwandaRwandaRwandaRwandaRwandaRwandaRwandaRwandaSao Tome and PrincipeSao Tome and PrincipeSao Tome and PrincipeSao Tome and PrincipeSao Tome and PrincipeSao Tome and PrincipeSao Tome and PrincipeSao Tome and PrincipeSao Tome and PrincipeSao Tome and PrincipeSao Tome and PrincipeSao Tome and PrincipeSaudi ArabiaSaudi ArabiaSaudi ArabiaSaudi ArabiaSaudi ArabiaSaudi ArabiaSaudi ArabiaSaudi ArabiaSaudi ArabiaSaudi ArabiaSaudi ArabiaSaudi ArabiaSenegalSenegalSenegalSenegalSenegalSenegalSenegalSenegalSenegalSenegalSenegalSenegalSerbiaSerbiaSerbiaSerbiaSerbiaSerbiaSerbiaSerbiaSerbiaSerbiaSerbiaSerbiaSierra LeoneSierra LeoneSierra LeoneSierra LeoneSierra LeoneSierra LeoneSierra LeoneSierra LeoneSierra LeoneSierra LeoneSierra LeoneSierra LeoneSingaporeSingaporeSingaporeSingaporeSingaporeSingaporeSingaporeSingaporeSingaporeSingaporeSingaporeSingaporeSlovak RepublicSlovak RepublicSlovak RepublicSlovak RepublicSlovak RepublicSlovak RepublicSlovak RepublicSlovak RepublicSlovak RepublicSlovak RepublicSlovak RepublicSlovak RepublicSloveniaSloveniaSloveniaSloveniaSloveniaSloveniaSloveniaSloveniaSloveniaSloveniaSloveniaSloveniaSomaliaSomaliaSomaliaSomaliaSomaliaSomaliaSomaliaSomaliaSomaliaSomaliaSomaliaSomaliaSouth AfricaSouth AfricaSouth AfricaSouth AfricaSouth AfricaSouth AfricaSouth AfricaSouth AfricaSouth AfricaSouth AfricaSouth AfricaSouth AfricaSpainSpainSpainSpainSpainSpainSpainSpainSpainSpainSpainSpainSri LankaSri LankaSri LankaSri LankaSri LankaSri LankaSri LankaSri LankaSri LankaSri LankaSri LankaSri LankaSudanSudanSudanSudanSudanSudanSudanSudanSudanSudanSudanSudanSwazilandSwazilandSwazilandSwazilandSwazilandSwazilandSwazilandSwazilandSwazilandSwazilandSwazilandSwazilandSwedenSwedenSwedenSwedenSwedenSwedenSwedenSwedenSwedenSwedenSwedenSwedenSwitzerlandSwitzerlandSwitzerlandSwitzerlandSwitzerlandSwitzerlandSwitzerlandSwitzerlandSwitzerlandSwitzerlandSwitzerlandSwitzerlandSyriaSyriaSyriaSyriaSyriaSyriaSyriaSyriaSyriaSyriaSyriaSyriaTaiwanTaiwanTaiwanTaiwanTaiwanTaiwanTaiwanTaiwanTaiwanTaiwanTaiwanTaiwanTanzaniaTanzaniaTanzaniaTanzaniaTanzaniaTanzaniaTanzaniaTanzaniaTanzaniaTanzaniaTanzaniaTanzaniaThailandThailandThailandThailandThailandThailandThailandThailandThailandThailandThailandThailandTogoTogoTogoTogoTogoTogoTogoTogoTogoTogoTogoTogoTrinidad and TobagoTrinidad and TobagoTrinidad and TobagoTrinidad and TobagoTrinidad and TobagoTrinidad and TobagoTrinidad and TobagoTrinidad and TobagoTrinidad and TobagoTrinidad and TobagoTrinidad and TobagoTrinidad and TobagoTunisiaTunisiaTunisiaTunisiaTunisiaTunisiaTunisiaTunisiaTunisiaTunisiaTunisiaTunisiaTurkeyTurkeyTurkeyTurkeyTurkeyTurkeyTurkeyTurkeyTurkeyTurkeyTurkeyTurkeyUgandaUgandaUgandaUgandaUgandaUgandaUgandaUgandaUgandaUgandaUgandaUgandaUnited KingdomUnited KingdomUnited KingdomUnited KingdomUnited KingdomUnited KingdomUnited KingdomUnited KingdomUnited KingdomUnited KingdomUnited KingdomUnited KingdomUnited StatesUnited StatesUnited StatesUnited StatesUnited StatesUnited StatesUnited StatesUnited StatesUnited StatesUnited StatesUnited StatesUnited StatesUruguayUruguayUruguayUruguayUruguayUruguayUruguayUruguayUruguayUruguayUruguayUruguayVenezuelaVenezuelaVenezuelaVenezuelaVenezuelaVenezuelaVenezuelaVenezuelaVenezuelaVenezuelaVenezuelaVenezuelaVietnamVietnamVietnamVietnamVietnamVietnamVietnamVietnamVietnamVietnamVietnamVietnamWest Bank and GazaWest Bank and GazaWest Bank and GazaWest Bank and GazaWest Bank and GazaWest Bank and GazaWest Bank and GazaWest Bank and GazaWest Bank and GazaWest Bank and GazaWest Bank and GazaWest Bank and GazaYemen, Rep.Yemen, Rep.Yemen, Rep.Yemen, Rep.Yemen, Rep.Yemen, Rep.Yemen, Rep.Yemen, Rep.Yemen, Rep.Yemen, Rep.Yemen, Rep.Yemen, Rep.ZambiaZambiaZambiaZambiaZambiaZambiaZambiaZambiaZambiaZambiaZambiaZambiaZimbabweZimbabweZimbabweZimbabweZimbabweZimbabweZimbabweZimbabweZimbabweZimbabweZimbabweZimbabwe\"\n 'AsiaAsiaAsiaAsiaAsiaAsiaAsiaAsiaAsiaAsiaAsiaAsiaEuropeEuropeEuropeEuropeEuropeEuropeEuropeEuropeEuropeEuropeEuropeEuropeAfricaAfricaAfricaAfricaAfricaAfricaAfricaAfricaAfricaAfricaAfricaAfricaAfricaAfricaAfricaAfricaAfricaAfricaAfricaAfricaAfricaAfricaAfricaAfricaAmericasAmericasAmericasAmericasAmericasAmericasAmericasAmericasAmericasAmericasAmericasAmericasOceaniaOceaniaOceaniaOceaniaOceaniaOceaniaOceaniaOceaniaOceaniaOceaniaOceaniaOceaniaEuropeEuropeEuropeEuropeEuropeEuropeEuropeEuropeEuropeEuropeEuropeEuropeAsiaAsiaAsiaAsiaAsiaAsiaAsiaAsiaAsiaAsiaAsiaAsiaAsiaAsiaAsiaAsiaAsiaAsiaAsiaAsiaAsiaAsiaAsiaAsiaEuropeEuropeEuropeEuropeEuropeEuropeEuropeEuropeEuropeEuropeEuropeEuropeAfricaAfricaAfricaAfricaAfricaAfricaAfricaAfricaAfricaAfricaAfricaAfricaAmericasAmericasAmericasAmericasAmericasAmericasAmericasAmericasAmericasAmericasAmericasAmericasEuropeEuropeEuropeEuropeEuropeEuropeEuropeEuropeEuropeEuropeEuropeEuropeAfricaAfricaAfricaAfricaAfricaAfricaAfricaAfricaAfricaAfricaAfricaAfricaAmericasAmericasAmericasAmericasAmericasAmericasAmericasAmericasAmericasAmericasAmericasAmericasEuropeEuropeEuropeEuropeEuropeEuropeEuropeEuropeEuropeEuropeEuropeEuropeAfricaAfricaAfricaAfricaAfricaAfricaAfricaAfricaAfricaAfricaAfricaAfricaAfricaAfricaAfricaAfricaAfricaAfricaAfricaAfricaAfricaAfricaAfricaAfricaAsiaAsiaAsiaAsiaAsiaAsiaAsiaAsiaAsiaAsiaAsiaAsiaAfricaAfricaAfricaAfricaAfricaAfricaAfricaAfricaAfricaAfricaAfricaAfricaAmericasAmericasAmericasAmericasAmericasAmericasAmericasAmericasAmericasAmericasAmericasAmericasAfricaAfricaAfricaAfricaAfricaAfricaAfricaAfricaAfricaAfricaAfricaAfricaAfricaAfricaAfricaAfricaAfricaAfricaAfricaAfricaAfricaAfricaAfricaAfricaAmericasAmericasAmericasAmericasAmericasAmericasAmericasAmericasAmericasAmericasAmericasAmericasAsiaAsiaAsiaAsiaAsiaAsiaAsiaAsiaAsiaAsiaAsiaAsiaAmericasAmericasAmericasAmericasAmericasAmericasAmericasAmericasAmericasAmericasAmericasAmericasAfricaAfricaAfricaAfricaAfricaAfricaAfricaAfricaAfricaAfricaAfricaAfricaAfricaAfricaAfricaAfricaAfricaAfricaAfricaAfricaAfricaAfricaAfricaAfricaAfricaAfricaAfricaAfricaAfricaAfricaAfricaAfricaAfricaAfricaAfricaAfricaAmericasAmericasAmericasAmericasAmericasAmericasAmericasAmericasAmericasAmericasAmericasAmericasAfricaAfricaAfricaAfricaAfricaAfricaAfricaAfricaAfricaAfricaAfricaAfricaEuropeEuropeEuropeEuropeEuropeEuropeEuropeEuropeEuropeEuropeEuropeEuropeAmericasAmericasAmericasAmericasAmericasAmericasAmericasAmericasAmericasAmericasAmericasAmericasEuropeEuropeEuropeEuropeEuropeEuropeEuropeEuropeEuropeEuropeEuropeEuropeEuropeEuropeEuropeEuropeEuropeEuropeEuropeEuropeEuropeEuropeEuropeEuropeAfricaAfricaAfricaAfricaAfricaAfricaAfricaAfricaAfricaAfricaAfricaAfricaAmericasAmericasAmericasAmericasAmericasAmericasAmericasAmericasAmericasAmericasAmericasAmericasAmericasAmericasAmericasAmericasAmericasAmericasAmericasAmericasAmericasAmericasAmericasAmericasAfricaAfricaAfricaAfricaAfricaAfricaAfricaAfricaAfricaAfricaAfricaAfricaAmericasAmericasAmericasAmericasAmericasAmericasAmericasAmericasAmericasAmericasAmericasAmericasAfricaAfricaAfricaAfricaAfricaAfricaAfricaAfricaAfricaAfricaAfricaAfricaAfricaAfricaAfricaAfricaAfricaAfricaAfricaAfricaAfricaAfricaAfricaAfricaAfricaAfricaAfricaAfricaAfricaAfricaAfricaAfricaAfricaAfricaAfricaAfricaEuropeEuropeEuropeEuropeEuropeEuropeEuropeEuropeEuropeEuropeEuropeEuropeEuropeEuropeEuropeEuropeEuropeEuropeEuropeEuropeEuropeEuropeEuropeEuropeAfricaAfricaAfricaAfricaAfricaAfricaAfricaAfricaAfricaAfricaAfricaAfricaAfricaAfricaAfricaAfricaAfricaAfricaAfricaAfricaAfricaAfricaAfricaAfricaEuropeEuropeEuropeEuropeEuropeEuropeEuropeEuropeEuropeEuropeEuropeEuropeAfricaAfricaAfricaAfricaAfricaAfricaAfricaAfricaAfricaAfricaAfricaAfricaEuropeEuropeEuropeEuropeEuropeEuropeEuropeEuropeEuropeEuropeEuropeEuropeAmericasAmericasAmericasAmericasAmericasAmericasAmericasAmericasAmericasAmericasAmericasAmericasAfricaAfricaAfricaAfricaAfricaAfricaAfricaAfricaAfricaAfricaAfricaAfricaAfricaAfricaAfricaAfricaAfricaAfricaAfricaAfricaAfricaAfricaAfricaAfricaAmericasAmericasAmericasAmericasAmericasAmericasAmericasAmericasAmericasAmericasAmericasAmericasAmericasAmericasAmericasAmericasAmericasAmericasAmericasAmericasAmericasAmericasAmericasAmericasAsiaAsiaAsiaAsiaAsiaAsiaAsiaAsiaAsiaAsiaAsiaAsiaEuropeEuropeEuropeEuropeEuropeEuropeEuropeEuropeEuropeEuropeEuropeEuropeEuropeEuropeEuropeEuropeEuropeEuropeEuropeEuropeEuropeEuropeEuropeEuropeAsiaAsiaAsiaAsiaAsiaAsiaAsiaAsiaAsiaAsiaAsiaAsiaAsiaAsiaAsiaAsiaAsiaAsiaAsiaAsiaAsiaAsiaAsiaAsiaAsiaAsiaAsiaAsiaAsiaAsiaAsiaAsiaAsiaAsiaAsiaAsiaAsiaAsiaAsiaAsiaAsiaAsiaAsiaAsiaAsiaAsiaAsiaAsiaEuropeEuropeEuropeEuropeEuropeEuropeEuropeEuropeEuropeEuropeEuropeEuropeAsiaAsiaAsiaAsiaAsiaAsiaAsiaAsiaAsiaAsiaAsiaAsiaEuropeEuropeEuropeEuropeEuropeEuropeEuropeEuropeEuropeEuropeEuropeEuropeAmericasAmericasAmericasAmericasAmericasAmericasAmericasAmericasAmericasAmericasAmericasAmericasAsiaAsiaAsiaAsiaAsiaAsiaAsiaAsiaAsiaAsiaAsiaAsiaAsiaAsiaAsiaAsiaAsiaAsiaAsiaAsiaAsiaAsiaAsiaAsiaAfricaAfricaAfricaAfricaAfricaAfricaAfricaAfricaAfricaAfricaAfricaAfricaAsiaAsiaAsiaAsiaAsiaAsiaAsiaAsiaAsiaAsiaAsiaAsiaAsiaAsiaAsiaAsiaAsiaAsiaAsiaAsiaAsiaAsiaAsiaAsiaAsiaAsiaAsiaAsiaAsiaAsiaAsiaAsiaAsiaAsiaAsiaAsiaAsiaAsiaAsiaAsiaAsiaAsiaAsiaAsiaAsiaAsiaAsiaAsiaAfricaAfricaAfricaAfricaAfricaAfricaAfricaAfricaAfricaAfricaAfricaAfricaAfricaAfricaAfricaAfricaAfricaAfricaAfricaAfricaAfricaAfricaAfricaAfricaAfricaAfricaAfricaAfricaAfricaAfricaAfricaAfricaAfricaAfricaAfricaAfricaAfricaAfricaAfricaAfricaAfricaAfricaAfricaAfricaAfricaAfricaAfricaAfricaAfricaAfricaAfricaAfricaAfricaAfricaAfricaAfricaAfricaAfricaAfricaAfricaAsiaAsiaAsiaAsiaAsiaAsiaAsiaAsiaAsiaAsiaAsiaAsiaAfricaAfricaAfricaAfricaAfricaAfricaAfricaAfricaAfricaAfricaAfricaAfricaAfricaAfricaAfricaAfricaAfricaAfricaAfricaAfricaAfricaAfricaAfricaAfricaAfricaAfricaAfricaAfricaAfricaAfricaAfricaAfricaAfricaAfricaAfricaAfricaAmericasAmericasAmericasAmericasAmericasAmericasAmericasAmericasAmericasAmericasAmericasAmericasAsiaAsiaAsiaAsiaAsiaAsiaAsiaAsiaAsiaAsiaAsiaAsiaEuropeEuropeEuropeEuropeEuropeEuropeEuropeEuropeEuropeEuropeEuropeEuropeAfricaAfricaAfricaAfricaAfricaAfricaAfricaAfricaAfricaAfricaAfricaAfricaAfricaAfricaAfricaAfricaAfricaAfricaAfricaAfricaAfricaAfricaAfricaAfricaAsiaAsiaAsiaAsiaAsiaAsiaAsiaAsiaAsiaAsiaAsiaAsiaAfricaAfricaAfricaAfricaAfricaAfricaAfricaAfricaAfricaAfricaAfricaAfricaAsiaAsiaAsiaAsiaAsiaAsiaAsiaAsiaAsiaAsiaAsiaAsiaEuropeEuropeEuropeEuropeEuropeEuropeEuropeEuropeEuropeEuropeEuropeEuropeOceaniaOceaniaOceaniaOceaniaOceaniaOceaniaOceaniaOceaniaOceaniaOceaniaOceaniaOceaniaAmericasAmericasAmericasAmericasAmericasAmericasAmericasAmericasAmericasAmericasAmericasAmericasAfricaAfricaAfricaAfricaAfricaAfricaAfricaAfricaAfricaAfricaAfricaAfricaAfricaAfricaAfricaAfricaAfricaAfricaAfricaAfricaAfricaAfricaAfricaAfricaEuropeEuropeEuropeEuropeEuropeEuropeEuropeEuropeEuropeEuropeEuropeEuropeAsiaAsiaAsiaAsiaAsiaAsiaAsiaAsiaAsiaAsiaAsiaAsiaAsiaAsiaAsiaAsiaAsiaAsiaAsiaAsiaAsiaAsiaAsiaAsiaAmericasAmericasAmericasAmericasAmericasAmericasAmericasAmericasAmericasAmericasAmericasAmericasAmericasAmericasAmericasAmericasAmericasAmericasAmericasAmericasAmericasAmericasAmericasAmericasAmericasAmericasAmericasAmericasAmericasAmericasAmericasAmericasAmericasAmericasAmericasAmericasAsiaAsiaAsiaAsiaAsiaAsiaAsiaAsiaAsiaAsiaAsiaAsiaEuropeEuropeEuropeEuropeEuropeEuropeEuropeEuropeEuropeEuropeEuropeEuropeEuropeEuropeEuropeEuropeEuropeEuropeEuropeEuropeEuropeEuropeEuropeEuropeAmericasAmericasAmericasAmericasAmericasAmericasAmericasAmericasAmericasAmericasAmericasAmericasAfricaAfricaAfricaAfricaAfricaAfricaAfricaAfricaAfricaAfricaAfricaAfricaEuropeEuropeEuropeEuropeEuropeEuropeEuropeEuropeEuropeEuropeEuropeEuropeAfricaAfricaAfricaAfricaAfricaAfricaAfricaAfricaAfricaAfricaAfricaAfricaAfricaAfricaAfricaAfricaAfricaAfricaAfricaAfricaAfricaAfricaAfricaAfricaAsiaAsiaAsiaAsiaAsiaAsiaAsiaAsiaAsiaAsiaAsiaAsiaAfricaAfricaAfricaAfricaAfricaAfricaAfricaAfricaAfricaAfricaAfricaAfricaEuropeEuropeEuropeEuropeEuropeEuropeEuropeEuropeEuropeEuropeEuropeEuropeAfricaAfricaAfricaAfricaAfricaAfricaAfricaAfricaAfricaAfricaAfricaAfricaAsiaAsiaAsiaAsiaAsiaAsiaAsiaAsiaAsiaAsiaAsiaAsiaEuropeEuropeEuropeEuropeEuropeEuropeEuropeEuropeEuropeEuropeEuropeEuropeEuropeEuropeEuropeEuropeEuropeEuropeEuropeEuropeEuropeEuropeEuropeEuropeAfricaAfricaAfricaAfricaAfricaAfricaAfricaAfricaAfricaAfricaAfricaAfricaAfricaAfricaAfricaAfricaAfricaAfricaAfricaAfricaAfricaAfricaAfricaAfricaEuropeEuropeEuropeEuropeEuropeEuropeEuropeEuropeEuropeEuropeEuropeEuropeAsiaAsiaAsiaAsiaAsiaAsiaAsiaAsiaAsiaAsiaAsiaAsiaAfricaAfricaAfricaAfricaAfricaAfricaAfricaAfricaAfricaAfricaAfricaAfricaAfricaAfricaAfricaAfricaAfricaAfricaAfricaAfricaAfricaAfricaAfricaAfricaEuropeEuropeEuropeEuropeEuropeEuropeEuropeEuropeEuropeEuropeEuropeEuropeEuropeEuropeEuropeEuropeEuropeEuropeEuropeEuropeEuropeEuropeEuropeEuropeAsiaAsiaAsiaAsiaAsiaAsiaAsiaAsiaAsiaAsiaAsiaAsiaAsiaAsiaAsiaAsiaAsiaAsiaAsiaAsiaAsiaAsiaAsiaAsiaAfricaAfricaAfricaAfricaAfricaAfricaAfricaAfricaAfricaAfricaAfricaAfricaAsiaAsiaAsiaAsiaAsiaAsiaAsiaAsiaAsiaAsiaAsiaAsiaAfricaAfricaAfricaAfricaAfricaAfricaAfricaAfricaAfricaAfricaAfricaAfricaAmericasAmericasAmericasAmericasAmericasAmericasAmericasAmericasAmericasAmericasAmericasAmericasAfricaAfricaAfricaAfricaAfricaAfricaAfricaAfricaAfricaAfricaAfricaAfricaEuropeEuropeEuropeEuropeEuropeEuropeEuropeEuropeEuropeEuropeEuropeEuropeAfricaAfricaAfricaAfricaAfricaAfricaAfricaAfricaAfricaAfricaAfricaAfricaEuropeEuropeEuropeEuropeEuropeEuropeEuropeEuropeEuropeEuropeEuropeEuropeAmericasAmericasAmericasAmericasAmericasAmericasAmericasAmericasAmericasAmericasAmericasAmericasAmericasAmericasAmericasAmericasAmericasAmericasAmericasAmericasAmericasAmericasAmericasAmericasAmericasAmericasAmericasAmericasAmericasAmericasAmericasAmericasAmericasAmericasAmericasAmericasAsiaAsiaAsiaAsiaAsiaAsiaAsiaAsiaAsiaAsiaAsiaAsiaAsiaAsiaAsiaAsiaAsiaAsiaAsiaAsiaAsiaAsiaAsiaAsiaAsiaAsiaAsiaAsiaAsiaAsiaAsiaAsiaAsiaAsiaAsiaAsiaAfricaAfricaAfricaAfricaAfricaAfricaAfricaAfricaAfricaAfricaAfricaAfricaAfricaAfricaAfricaAfricaAfricaAfricaAfricaAfricaAfricaAfricaAfricaAfrica'] to numeric"
     ]
    }
   ],
   "source": [
    "#문자열은 평균을 구할 수 없으니까 에러\n",
    "df.mean()"
   ]
  },
  {
   "cell_type": "code",
   "execution_count": 101,
   "id": "c375eee5-d3fb-4070-8035-98841690ae93",
   "metadata": {
    "tags": []
   },
   "outputs": [
    {
     "data": {
      "text/plain": [
       "pop        2.960121e+07\n",
       "lifeExp    5.947444e+01\n",
       "dtype: float64"
      ]
     },
     "execution_count": 101,
     "metadata": {},
     "output_type": "execute_result"
    }
   ],
   "source": [
    "df[['pop', 'lifeExp']].mean()"
   ]
  },
  {
   "cell_type": "code",
   "execution_count": 104,
   "id": "d5187d07-20fa-482f-87e0-b5882b130d0c",
   "metadata": {
    "tags": []
   },
   "outputs": [
    {
     "data": {
      "text/plain": [
       "year\n",
       "1952    49.057620\n",
       "1957    51.507401\n",
       "1962    53.609249\n",
       "1967    55.678290\n",
       "1972    57.647386\n",
       "1977    59.570157\n",
       "1982    61.533197\n",
       "1987    63.212613\n",
       "1992    64.160338\n",
       "1997    65.014676\n",
       "2002    65.694923\n",
       "2007    67.007423\n",
       "Name: lifeExp, dtype: float64"
      ]
     },
     "execution_count": 104,
     "metadata": {},
     "output_type": "execute_result"
    }
   ],
   "source": [
    "df.groupby('year')['lifeExp'].mean()"
   ]
  },
  {
   "cell_type": "code",
   "execution_count": 111,
   "id": "9506076a-f5f0-4e6d-a808-fbad836f9e36",
   "metadata": {
    "collapsed": true,
    "jupyter": {
     "outputs_hidden": true
    },
    "tags": []
   },
   "outputs": [
    {
     "data": {
      "text/html": [
       "<div>\n",
       "<style scoped>\n",
       "    .dataframe tbody tr th:only-of-type {\n",
       "        vertical-align: middle;\n",
       "    }\n",
       "\n",
       "    .dataframe tbody tr th {\n",
       "        vertical-align: top;\n",
       "    }\n",
       "\n",
       "    .dataframe thead th {\n",
       "        text-align: right;\n",
       "    }\n",
       "</style>\n",
       "<table border=\"1\" class=\"dataframe\">\n",
       "  <thead>\n",
       "    <tr style=\"text-align: right;\">\n",
       "      <th></th>\n",
       "      <th></th>\n",
       "      <th></th>\n",
       "      <th>lifeExp</th>\n",
       "      <th>gdpPercap</th>\n",
       "    </tr>\n",
       "    <tr>\n",
       "      <th>year</th>\n",
       "      <th>continent</th>\n",
       "      <th>country</th>\n",
       "      <th></th>\n",
       "      <th></th>\n",
       "    </tr>\n",
       "  </thead>\n",
       "  <tbody>\n",
       "    <tr>\n",
       "      <th rowspan=\"5\" valign=\"top\">1952</th>\n",
       "      <th rowspan=\"5\" valign=\"top\">Africa</th>\n",
       "      <th>Algeria</th>\n",
       "      <td>43.077</td>\n",
       "      <td>2449.008185</td>\n",
       "    </tr>\n",
       "    <tr>\n",
       "      <th>Angola</th>\n",
       "      <td>30.015</td>\n",
       "      <td>3520.610273</td>\n",
       "    </tr>\n",
       "    <tr>\n",
       "      <th>Benin</th>\n",
       "      <td>38.223</td>\n",
       "      <td>1062.752200</td>\n",
       "    </tr>\n",
       "    <tr>\n",
       "      <th>Botswana</th>\n",
       "      <td>47.622</td>\n",
       "      <td>851.241141</td>\n",
       "    </tr>\n",
       "    <tr>\n",
       "      <th>Burkina Faso</th>\n",
       "      <td>31.975</td>\n",
       "      <td>543.255241</td>\n",
       "    </tr>\n",
       "    <tr>\n",
       "      <th>...</th>\n",
       "      <th>...</th>\n",
       "      <th>...</th>\n",
       "      <td>...</td>\n",
       "      <td>...</td>\n",
       "    </tr>\n",
       "    <tr>\n",
       "      <th rowspan=\"5\" valign=\"top\">2007</th>\n",
       "      <th rowspan=\"3\" valign=\"top\">Europe</th>\n",
       "      <th>Switzerland</th>\n",
       "      <td>81.701</td>\n",
       "      <td>37506.419070</td>\n",
       "    </tr>\n",
       "    <tr>\n",
       "      <th>Turkey</th>\n",
       "      <td>71.777</td>\n",
       "      <td>8458.276384</td>\n",
       "    </tr>\n",
       "    <tr>\n",
       "      <th>United Kingdom</th>\n",
       "      <td>79.425</td>\n",
       "      <td>33203.261280</td>\n",
       "    </tr>\n",
       "    <tr>\n",
       "      <th rowspan=\"2\" valign=\"top\">Oceania</th>\n",
       "      <th>Australia</th>\n",
       "      <td>81.235</td>\n",
       "      <td>34435.367440</td>\n",
       "    </tr>\n",
       "    <tr>\n",
       "      <th>New Zealand</th>\n",
       "      <td>80.204</td>\n",
       "      <td>25185.009110</td>\n",
       "    </tr>\n",
       "  </tbody>\n",
       "</table>\n",
       "<p>1704 rows × 2 columns</p>\n",
       "</div>"
      ],
      "text/plain": [
       "                               lifeExp     gdpPercap\n",
       "year continent country                              \n",
       "1952 Africa    Algeria          43.077   2449.008185\n",
       "               Angola           30.015   3520.610273\n",
       "               Benin            38.223   1062.752200\n",
       "               Botswana         47.622    851.241141\n",
       "               Burkina Faso     31.975    543.255241\n",
       "...                                ...           ...\n",
       "2007 Europe    Switzerland      81.701  37506.419070\n",
       "               Turkey           71.777   8458.276384\n",
       "               United Kingdom   79.425  33203.261280\n",
       "     Oceania   Australia        81.235  34435.367440\n",
       "               New Zealand      80.204  25185.009110\n",
       "\n",
       "[1704 rows x 2 columns]"
      ]
     },
     "execution_count": 111,
     "metadata": {},
     "output_type": "execute_result"
    }
   ],
   "source": [
    "df.groupby(['year','continent','country'])[['lifeExp','gdpPercap']].mean()"
   ]
  },
  {
   "cell_type": "code",
   "execution_count": 115,
   "id": "524fa676-2f95-4d15-8f3a-3f4d584561c8",
   "metadata": {
    "tags": []
   },
   "outputs": [
    {
     "data": {
      "text/plain": [
       "continent\n",
       "Africa      52\n",
       "Americas    25\n",
       "Asia        33\n",
       "Europe      30\n",
       "Oceania      2\n",
       "Name: country, dtype: int64"
      ]
     },
     "execution_count": 115,
     "metadata": {},
     "output_type": "execute_result"
    }
   ],
   "source": [
    "#unique는 유일값인데 n이 붙으면 여러개?\n",
    "df.groupby('continent')['country'].nunique()"
   ]
  },
  {
   "cell_type": "code",
   "execution_count": 117,
   "id": "54fbf226-17c8-4498-972b-e34aae0dff0a",
   "metadata": {
    "tags": []
   },
   "outputs": [
    {
     "data": {
      "text/plain": [
       "year\n",
       "1952    49.057620\n",
       "1957    51.507401\n",
       "1962    53.609249\n",
       "1967    55.678290\n",
       "1972    57.647386\n",
       "1977    59.570157\n",
       "1982    61.533197\n",
       "1987    63.212613\n",
       "1992    64.160338\n",
       "1997    65.014676\n",
       "2002    65.694923\n",
       "2007    67.007423\n",
       "Name: lifeExp, dtype: float64"
      ]
     },
     "execution_count": 117,
     "metadata": {},
     "output_type": "execute_result"
    }
   ],
   "source": [
    "data = df.groupby('year')['lifeExp'].mean()\n",
    "data"
   ]
  },
  {
   "cell_type": "code",
   "execution_count": 119,
   "id": "89ae7c31-2431-4670-8f39-612664ac14f8",
   "metadata": {
    "tags": []
   },
   "outputs": [
    {
     "data": {
      "text/plain": [
       "<Axes: xlabel='year'>"
      ]
     },
     "execution_count": 119,
     "metadata": {},
     "output_type": "execute_result"
    },
    {
     "data": {
      "image/png": "[encoded data removed]",
      "text/plain": [
       "<Figure size 640x480 with 1 Axes>"
      ]
     },
     "metadata": {},
     "output_type": "display_data"
    }
   ],
   "source": [
    "data.plot(kind='bar')"
   ]
  },
  {
   "cell_type": "code",
   "execution_count": null,
   "id": "8fc13de7-f4b5-4d0c-8d50-928e7c525811",
   "metadata": {},
   "outputs": [],
   "source": []
  }
 ],
 "metadata": {
  "kernelspec": {
   "display_name": "venv_pandas_kernel",
   "language": "python",
   "name": "venv_pandas"
  },
  "language_info": {
   "codemirror_mode": {
    "name": "ipython",
    "version": 3
   },
   "file_extension": ".py",
   "mimetype": "text/x-python",
   "name": "python",
   "nbconvert_exporter": "python",
   "pygments_lexer": "ipython3",
   "version": "3.11.1"
  }
 },
 "nbformat": 4,
 "nbformat_minor": 5
}
