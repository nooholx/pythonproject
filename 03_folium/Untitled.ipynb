{
 "cells": [
  {
   "cell_type": "code",
   "execution_count": null,
   "id": "c97b9251-a43c-4cf1-9d72-161efade96c6",
   "metadata": {},
   "outputs": [],
   "source": [
    "http://api.vworld.kr/req/data?key=1C02F0E8-EACD-3694-B466-5782943D5401&domain=인증받은도메인&service=data&version=2.0&request\n",
    "=getfeature&format=json&size=10&page=1&data=LT_C_ADSIDO_INFO&attrfilter=ctprvn_cd:=:41&colu\n",
    "mns=ctprvn_cd,ctp_kor_nm,ctp_eng_nm,ag_geom&geometry=true&attribute=true&crs=EPSG:900913"
   ]
  }
 ],
 "metadata": {
  "kernelspec": {
   "display_name": "Python 3 (ipykernel)",
   "language": "python",
   "name": "python3"
  },
  "language_info": {
   "codemirror_mode": {
    "name": "ipython",
    "version": 3
   },
   "file_extension": ".py",
   "mimetype": "text/x-python",
   "name": "python",
   "nbconvert_exporter": "python",
   "pygments_lexer": "ipython3",
   "version": "3.11.2"
  }
 },
 "nbformat": 4,
 "nbformat_minor": 5
}
