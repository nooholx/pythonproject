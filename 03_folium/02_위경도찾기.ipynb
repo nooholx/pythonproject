{
 "cells": [
  {
   "cell_type": "code",
   "execution_count": 1,
   "id": "302606a5-7fdd-4b79-a747-334aa722adeb",
   "metadata": {
    "tags": []
   },
   "outputs": [
    {
     "name": "stdout",
     "output_type": "stream",
     "text": [
      "Collecting geopy\n",
      "  Downloading geopy-2.3.0-py3-none-any.whl (119 kB)\n",
      "     ---------------------------------------- 0.0/119.8 kB ? eta -:--:--\n",
      "     -------------------------------------- 119.8/119.8 kB 6.8 MB/s eta 0:00:00\n",
      "Collecting geographiclib<3,>=1.52\n",
      "  Downloading geographiclib-2.0-py3-none-any.whl (40 kB)\n",
      "     ---------------------------------------- 0.0/40.3 kB ? eta -:--:--\n",
      "     ---------------------------------------- 40.3/40.3 kB ? eta 0:00:00\n",
      "Installing collected packages: geographiclib, geopy\n",
      "Successfully installed geographiclib-2.0 geopy-2.3.0\n"
     ]
    }
   ],
   "source": [
    "!pip install geopy"
   ]
  },
  {
   "cell_type": "code",
   "execution_count": 2,
   "id": "1c587287-0d77-4383-8109-1cfd3c2ff2dc",
   "metadata": {
    "tags": []
   },
   "outputs": [],
   "source": [
    "from geopy.geocoders import Nominatim"
   ]
  },
  {
   "cell_type": "code",
   "execution_count": 3,
   "id": "16910939-a4c6-498b-9e30-78b7410689b8",
   "metadata": {
    "tags": []
   },
   "outputs": [
    {
     "name": "stdout",
     "output_type": "stream",
     "text": [
      "Flatiron Building, 175, 5th Avenue, Manhattan Community Board 5, Manhattan, New York County, City of New York, New York, 10010, United States\n"
     ]
    }
   ],
   "source": [
    "geolocator = Nominatim(user_agent=\"web\")\n",
    "location = geolocator.geocode(\"175 5th Avenue NYC\")\n",
    "print(location.address)"
   ]
  },
  {
   "cell_type": "code",
   "execution_count": 4,
   "id": "ee5a7416-a2a3-4ef1-abb1-b66c5315bca4",
   "metadata": {
    "tags": []
   },
   "outputs": [
    {
     "data": {
      "text/plain": [
       "-73.98964162240998"
      ]
     },
     "execution_count": 4,
     "metadata": {},
     "output_type": "execute_result"
    }
   ],
   "source": [
    "location.longitude"
   ]
  },
  {
   "cell_type": "code",
   "execution_count": 5,
   "id": "23e5b44a-c0e7-4f5d-ad30-40d41df134ae",
   "metadata": {
    "tags": []
   },
   "outputs": [
    {
     "name": "stdout",
     "output_type": "stream",
     "text": [
      "35.158271150000004 126.795781369881 대한상공회의소 광주인력개발원, 37, 소촌로152번길, 소촌온세계아파트, 광산구, 광주, 62379, 대한민국\n"
     ]
    }
   ],
   "source": [
    "location = geolocator.geocode(\"광주광역시 광산구 소촌로152번길 37\")\n",
    "print(location.latitude, location.longitude, location.address)"
   ]
  },
  {
   "cell_type": "code",
   "execution_count": 6,
   "id": "db3b4972-b3ea-4e1b-bb98-40002011976c",
   "metadata": {
    "tags": []
   },
   "outputs": [
    {
     "data": {
      "text/plain": [
       "{'place_id': 210684969,\n",
       " 'licence': 'Data © OpenStreetMap contributors, ODbL 1.0. https://osm.org/copyright',\n",
       " 'osm_type': 'way',\n",
       " 'osm_id': 472475874,\n",
       " 'boundingbox': ['35.1574848', '35.1592417', '126.7943724', '126.7972005'],\n",
       " 'lat': '35.158271150000004',\n",
       " 'lon': '126.795781369881',\n",
       " 'display_name': '대한상공회의소 광주인력개발원, 37, 소촌로152번길, 소촌온세계아파트, 광산구, 광주, 62379, 대한민국',\n",
       " 'class': 'amenity',\n",
       " 'type': 'school',\n",
       " 'importance': 0.33001,\n",
       " 'icon': 'https://nominatim.openstreetmap.org/ui/mapicons/education_school.p.20.png'}"
      ]
     },
     "execution_count": 6,
     "metadata": {},
     "output_type": "execute_result"
    }
   ],
   "source": [
    "location.raw"
   ]
  },
  {
   "cell_type": "code",
   "execution_count": 16,
   "id": "1c4c1f13-27f5-4066-a9b4-86d83d48ef55",
   "metadata": {
    "tags": []
   },
   "outputs": [
    {
     "ename": "AttributeError",
     "evalue": "'NoneType' object has no attribute 'latitude'",
     "output_type": "error",
     "traceback": [
      "\u001b[1;31m---------------------------------------------------------------------------\u001b[0m",
      "\u001b[1;31mAttributeError\u001b[0m                            Traceback (most recent call last)",
      "Cell \u001b[1;32mIn[16], line 2\u001b[0m\n\u001b[0;32m      1\u001b[0m location \u001b[38;5;241m=\u001b[39m geolocator\u001b[38;5;241m.\u001b[39mgeocode(\u001b[38;5;124m\"\u001b[39m\u001b[38;5;124m전라북도 전주시 덕진구 매봉8길\u001b[39m\u001b[38;5;124m\"\u001b[39m)\n\u001b[1;32m----> 2\u001b[0m \u001b[38;5;28mprint\u001b[39m(\u001b[43mlocation\u001b[49m\u001b[38;5;241;43m.\u001b[39;49m\u001b[43mlatitude\u001b[49m, location\u001b[38;5;241m.\u001b[39mlongitude, location\u001b[38;5;241m.\u001b[39maddress)\n",
      "\u001b[1;31mAttributeError\u001b[0m: 'NoneType' object has no attribute 'latitude'"
     ]
    }
   ],
   "source": [
    "location = geolocator.geocode(\"전라북도 전주시 덕진구 매봉8길\")\n",
    "print(location.latitude, location.longitude, location.address)"
   ]
  },
  {
   "cell_type": "code",
   "execution_count": 18,
   "id": "db92832e-0b10-4cf9-a0af-758d817218d2",
   "metadata": {
    "tags": []
   },
   "outputs": [],
   "source": [
    "REST_API_KEY = '96639ee0a233e38fabb5e2b0b8b98f3d'"
   ]
  },
  {
   "cell_type": "raw",
   "id": "40b057a2-20db-4cc3-b809-da9703b5cce0",
   "metadata": {
    "tags": []
   },
   "source": [
    "curl -v -X GET \"https://dapi.kakao.com/v2/local/search/address.json\" \\\n",
    "  -H \"Authorization: KakaoAK ${REST_API_KEY}\" \\\n",
    "  --data-urlencode \"query=전북 삼성동 100\" "
   ]
  },
  {
   "cell_type": "code",
   "execution_count": 47,
   "id": "17b6f4b9-7e1a-421e-a35f-650ce2609927",
   "metadata": {
    "tags": []
   },
   "outputs": [],
   "source": [
    "import requests"
   ]
  },
  {
   "cell_type": "code",
   "execution_count": 52,
   "id": "845d2d80-cbb0-4e62-b33c-2320da6c8197",
   "metadata": {
    "tags": []
   },
   "outputs": [],
   "source": [
    "query = '광주광역시 광산구 소촌로152번길 37'\n",
    "url = f'https://dapi.kakao.com/v2/local/search/address.json?query={query}'"
   ]
  },
  {
   "cell_type": "code",
   "execution_count": 54,
   "id": "3dbf826f-92c9-4893-ba9f-dc64359b4977",
   "metadata": {
    "tags": []
   },
   "outputs": [
    {
     "data": {
      "text/plain": [
       "('35.1585158999773', '126.79600938096')"
      ]
     },
     "execution_count": 54,
     "metadata": {},
     "output_type": "execute_result"
    }
   ],
   "source": [
    "# ${변수명} \n",
    "header = {'Authorization': f'KakaoAK {REST_API_KEY}'}\n",
    "r = requests.get(url, headers=header)\n",
    "jsondata = r.json()\n",
    "jsondata['documents'][0]['address']['y'], jsondata['documents'][0]['address']['x']"
   ]
  },
  {
   "cell_type": "code",
   "execution_count": null,
   "id": "a34caa67-e170-4299-a2cc-18e81fc36d86",
   "metadata": {},
   "outputs": [],
   "source": [
    "curl -v -X GET \"https://dapi.kakao.com/v2/local/search/keyword.json?y=37.514322572335935&x=127.06283102249932&radius=20000\" \\\n",
    "  -H \"Authorization: KakaoAK ${REST_API_KEY}\" \\\n",
    "  --data-urlencode \"query=카카오프렌즈\" "
   ]
  },
  {
   "cell_type": "code",
   "execution_count": 39,
   "id": "94ad6bed-0535-43a2-8c06-ddcfb21f9c20",
   "metadata": {
    "collapsed": true,
    "jupyter": {
     "outputs_hidden": true
    },
    "tags": []
   },
   "outputs": [
    {
     "data": {
      "text/plain": [
       "{'documents': [{'address_name': '서울 강남구 삼성동 159',\n",
       "   'category_group_code': '',\n",
       "   'category_group_name': '',\n",
       "   'category_name': '가정,생활 > 문구,사무용품 > 디자인문구 > 카카오프렌즈',\n",
       "   'distance': '418',\n",
       "   'id': '26338954',\n",
       "   'phone': '02-6002-1880',\n",
       "   'place_name': '카카오프렌즈 스타필드 코엑스몰점',\n",
       "   'place_url': 'http://place.map.kakao.com/26338954',\n",
       "   'road_address_name': '서울 강남구 영동대로 513',\n",
       "   'x': '127.059028716089',\n",
       "   'y': '37.5120756277877'},\n",
       "  {'address_name': '서울 서초구 서초동 1305-7',\n",
       "   'category_group_code': '',\n",
       "   'category_group_name': '',\n",
       "   'category_name': '가정,생활 > 문구,사무용품 > 디자인문구 > 카카오프렌즈',\n",
       "   'distance': '3596',\n",
       "   'id': '653245473',\n",
       "   'phone': '02-6494-1100',\n",
       "   'place_name': '카카오프렌즈 강남플래그십스토어',\n",
       "   'place_url': 'http://place.map.kakao.com/653245473',\n",
       "   'road_address_name': '서울 서초구 강남대로 429',\n",
       "   'x': '127.025811882515',\n",
       "   'y': '37.5008934694709'},\n",
       "  {'address_name': '서울 송파구 신천동 29',\n",
       "   'category_group_code': '',\n",
       "   'category_group_name': '',\n",
       "   'category_name': '가정,생활 > 문구,사무용품 > 디자인문구 > 카카오프렌즈',\n",
       "   'distance': '3679',\n",
       "   'id': '27375630',\n",
       "   'phone': '02-3213-4514',\n",
       "   'place_name': '카카오프렌즈 롯데월드몰 잠실점',\n",
       "   'place_url': 'http://place.map.kakao.com/27375630',\n",
       "   'road_address_name': '서울 송파구 올림픽로 300',\n",
       "   'x': '127.104446099818',\n",
       "   'y': '37.5137525026039'},\n",
       "  {'address_name': '서울 중구 남대문로2가 123',\n",
       "   'category_group_code': '',\n",
       "   'category_group_name': '',\n",
       "   'category_name': '가정,생활 > 문구,사무용품 > 디자인문구 > 카카오프렌즈',\n",
       "   'distance': '9014',\n",
       "   'id': '1044004404',\n",
       "   'phone': '02-2118-5150',\n",
       "   'place_name': '카카오프렌즈 롯데영플라자명동점',\n",
       "   'place_url': 'http://place.map.kakao.com/1044004404',\n",
       "   'road_address_name': '서울 중구 남대문로 67',\n",
       "   'x': '126.981682046205',\n",
       "   'y': '37.5635252637636'},\n",
       "  {'address_name': '서울 용산구 한강로3가 40-999',\n",
       "   'category_group_code': '',\n",
       "   'category_group_name': '',\n",
       "   'category_name': '가정,생활 > 문구,사무용품 > 디자인문구 > 카카오프렌즈',\n",
       "   'distance': '8853',\n",
       "   'id': '63582914',\n",
       "   'phone': '010-2897-6546',\n",
       "   'place_name': '카카오프렌즈 용산역 팝업스토어',\n",
       "   'place_url': 'http://place.map.kakao.com/63582914',\n",
       "   'road_address_name': '서울 용산구 한강대로23길 55',\n",
       "   'x': '126.96457755024218',\n",
       "   'y': '37.529816802466584'},\n",
       "  {'address_name': '서울 중구 충무로1가 52-5',\n",
       "   'category_group_code': '',\n",
       "   'category_group_name': '',\n",
       "   'category_name': '가정,생활 > 문구,사무용품 > 디자인문구 > 카카오프렌즈',\n",
       "   'distance': '8887',\n",
       "   'id': '1777071768',\n",
       "   'phone': '02-6370-4278',\n",
       "   'place_name': '카카오프렌즈 신세계면세 명동점',\n",
       "   'place_url': 'http://place.map.kakao.com/1777071768',\n",
       "   'road_address_name': '서울 중구 소공로 63',\n",
       "   'x': '126.981089600579',\n",
       "   'y': '37.5609663400347'},\n",
       "  {'address_name': '서울 중구 봉래동2가 122-11',\n",
       "   'category_group_code': '',\n",
       "   'category_group_name': '',\n",
       "   'category_name': '가정,생활 > 문구,사무용품 > 디자인문구 > 카카오프렌즈',\n",
       "   'distance': '9302',\n",
       "   'id': '1256445945',\n",
       "   'phone': '010-2743-6546',\n",
       "   'place_name': '카카오프렌즈 서울역점',\n",
       "   'place_url': 'http://place.map.kakao.com/1256445945',\n",
       "   'road_address_name': '서울 중구 한강대로 405',\n",
       "   'x': '126.970586543568',\n",
       "   'y': '37.5546860417757'},\n",
       "  {'address_name': '서울 마포구 동교동 165-5',\n",
       "   'category_group_code': '',\n",
       "   'category_group_name': '',\n",
       "   'category_name': '가정,생활 > 문구,사무용품 > 디자인문구 > 카카오프렌즈',\n",
       "   'distance': '13132',\n",
       "   'id': '1786432255',\n",
       "   'phone': '02-6010-0104',\n",
       "   'place_name': '카카오프렌즈 홍대플래그십스토어',\n",
       "   'place_url': 'http://place.map.kakao.com/1786432255',\n",
       "   'road_address_name': '서울 마포구 양화로 162',\n",
       "   'x': '126.923919460392',\n",
       "   'y': '37.5563194254356'},\n",
       "  {'address_name': '서울 영등포구 영등포동4가 442',\n",
       "   'category_group_code': '',\n",
       "   'category_group_name': '',\n",
       "   'category_name': '가정,생활 > 문구,사무용품 > 디자인문구 > 카카오프렌즈',\n",
       "   'distance': '14128',\n",
       "   'id': '1411970905',\n",
       "   'phone': '02-2638-2750',\n",
       "   'place_name': '카카오프렌즈 타임스퀘어점',\n",
       "   'place_url': 'http://place.map.kakao.com/1411970905',\n",
       "   'road_address_name': '서울 영등포구 영중로 15',\n",
       "   'x': '126.90306008669398',\n",
       "   'y': '37.51710703022398'},\n",
       "  {'address_name': '경기 성남시 분당구 백현동 532',\n",
       "   'category_group_code': '',\n",
       "   'category_group_name': '',\n",
       "   'category_name': '가정,생활 > 문구,사무용품 > 디자인문구 > 카카오프렌즈',\n",
       "   'distance': '13814',\n",
       "   'id': '143299114',\n",
       "   'phone': '031-601-7225',\n",
       "   'place_name': '카카오프렌즈 판교아지트점',\n",
       "   'place_url': 'http://place.map.kakao.com/143299114',\n",
       "   'road_address_name': '경기 성남시 분당구 판교역로 166',\n",
       "   'x': '127.11011277516864',\n",
       "   'y': '37.395696683829094'},\n",
       "  {'address_name': '서울 마포구 동교동 165-5',\n",
       "   'category_group_code': '',\n",
       "   'category_group_name': '',\n",
       "   'category_name': '가정,생활 > 문구,사무용품 > 디자인문구 > 카카오프렌즈',\n",
       "   'distance': '13141',\n",
       "   'id': '1021339493',\n",
       "   'phone': '',\n",
       "   'place_name': '카카오프렌즈 홍대팩토리스토어',\n",
       "   'place_url': 'http://place.map.kakao.com/1021339493',\n",
       "   'road_address_name': '서울 마포구 양화로 162',\n",
       "   'x': '126.92385033954983',\n",
       "   'y': '37.55640227262816'},\n",
       "  {'address_name': '경기 고양시 덕양구 향동동 473',\n",
       "   'category_group_code': '',\n",
       "   'category_group_name': '',\n",
       "   'category_name': '스포츠,레저 > 골프 > 골프연습장 > 스크린골프연습장',\n",
       "   'distance': '17933',\n",
       "   'id': '1877255135',\n",
       "   'phone': '02-3158-4200',\n",
       "   'place_name': '카카오골프 프렌즈아카데미&스크린 향동점',\n",
       "   'place_url': 'http://place.map.kakao.com/1877255135',\n",
       "   'road_address_name': '경기 고양시 덕양구 꽃마을로 42',\n",
       "   'x': '126.89147999334304',\n",
       "   'y': '37.600932897468155'},\n",
       "  {'address_name': '경기 성남시 중원구 상대원동 138-7',\n",
       "   'category_group_code': '',\n",
       "   'category_group_name': '',\n",
       "   'category_name': '스포츠,레저 > 골프 > 골프연습장 > 스크린골프연습장',\n",
       "   'distance': '12985',\n",
       "   'id': '1725581678',\n",
       "   'phone': '031-745-3456',\n",
       "   'place_name': '카카오프렌즈 스크린골프',\n",
       "   'place_url': 'http://place.map.kakao.com/1725581678',\n",
       "   'road_address_name': '경기 성남시 중원구 사기막골로 111',\n",
       "   'x': '127.175204179706',\n",
       "   'y': '37.4390381953571'},\n",
       "  {'address_name': '경기 하남시 미사동 237-9',\n",
       "   'category_group_code': '',\n",
       "   'category_group_name': '',\n",
       "   'category_name': '스포츠,레저 > 스포츠용품 > 골프용품',\n",
       "   'distance': '13874',\n",
       "   'id': '752591300',\n",
       "   'phone': '',\n",
       "   'place_name': '카카오프렌즈골프 아지트in하남',\n",
       "   'place_url': 'http://place.map.kakao.com/752591300',\n",
       "   'road_address_name': '경기 하남시 미사동로40번길 113',\n",
       "   'x': '127.205387165474',\n",
       "   'y': '37.566677211206'},\n",
       "  {'address_name': '경기 성남시 분당구 삼평동 681',\n",
       "   'category_group_code': '',\n",
       "   'category_group_name': '',\n",
       "   'category_name': '스포츠,레저 > 골프 > 골프연습장 > 스크린골프연습장',\n",
       "   'distance': '13101',\n",
       "   'id': '245183397',\n",
       "   'phone': '031-778-6806',\n",
       "   'place_name': '프렌즈 스크린 판교',\n",
       "   'place_url': 'http://place.map.kakao.com/245183397',\n",
       "   'road_address_name': '경기 성남시 분당구 판교역로 235',\n",
       "   'x': '127.10863915834963',\n",
       "   'y': '37.40206286030239'}],\n",
       " 'meta': {'is_end': False,\n",
       "  'pageable_count': 22,\n",
       "  'same_name': {'keyword': '카카오프렌즈', 'region': [], 'selected_region': ''},\n",
       "  'total_count': 22}}"
      ]
     },
     "execution_count": 39,
     "metadata": {},
     "output_type": "execute_result"
    }
   ],
   "source": [
    "# ${변수명} \n",
    "query = '카카오프렌즈'\n",
    "x = 127.06283102249932\n",
    "y = 37.514322572335935\n",
    "radius = 20000\n",
    "url = f'https://dapi.kakao.com/v2/local/search/keyword.json?y={y}&x={x}&radius={radius}&query={query}'\n",
    "header = {'Authorization': f'KakaoAK {REST_API_KEY}'}\n",
    "r = requests.get(url, headers=header)\n",
    "jsondata = r.json()\n",
    "jsondata"
   ]
  },
  {
   "cell_type": "code",
   "execution_count": 41,
   "id": "ce0b12b2-fe02-47ab-8855-e59c05bf1193",
   "metadata": {
    "collapsed": true,
    "jupyter": {
     "outputs_hidden": true
    },
    "tags": []
   },
   "outputs": [
    {
     "data": {
      "text/plain": [
       "{'documents': [{'address_name': '광주 광산구 소촌동 752-6',\n",
       "   'category_group_code': 'PM9',\n",
       "   'category_group_name': '약국',\n",
       "   'category_name': '의료,건강 > 약국',\n",
       "   'distance': '297',\n",
       "   'id': '8870859',\n",
       "   'phone': '062-941-7975',\n",
       "   'place_name': '대명당약국',\n",
       "   'place_url': 'http://place.map.kakao.com/8870859',\n",
       "   'road_address_name': '광주 광산구 소촌로 146',\n",
       "   'x': '126.792293086965',\n",
       "   'y': '35.157474736868'},\n",
       "  {'address_name': '광주 광산구 소촌동 185',\n",
       "   'category_group_code': 'PM9',\n",
       "   'category_group_name': '약국',\n",
       "   'category_name': '의료,건강 > 약국',\n",
       "   'distance': '446',\n",
       "   'id': '26037849',\n",
       "   'phone': '',\n",
       "   'place_name': '디엠바이오',\n",
       "   'place_url': 'http://place.map.kakao.com/26037849',\n",
       "   'road_address_name': '광주 광산구 용아로 143',\n",
       "   'x': '126.799645167694',\n",
       "   'y': '35.1562612706407'},\n",
       "  {'address_name': '광주 광산구 우산동 1575-1',\n",
       "   'category_group_code': 'PM9',\n",
       "   'category_group_name': '약국',\n",
       "   'category_name': '의료,건강 > 약국',\n",
       "   'distance': '883',\n",
       "   'id': '173275069',\n",
       "   'phone': '062-962-0166',\n",
       "   'place_name': '글래스팜대학약국',\n",
       "   'place_url': 'http://place.map.kakao.com/173275069',\n",
       "   'road_address_name': '광주 광산구 용아로 234',\n",
       "   'x': '126.802181524052',\n",
       "   'y': '35.1639737600791'},\n",
       "  {'address_name': '광주 광산구 우산동 1604-2',\n",
       "   'category_group_code': 'PM9',\n",
       "   'category_group_name': '약국',\n",
       "   'category_name': '의료,건강 > 약국',\n",
       "   'distance': '896',\n",
       "   'id': '9226769',\n",
       "   'phone': '062-944-8495',\n",
       "   'place_name': '에덴약국',\n",
       "   'place_url': 'http://place.map.kakao.com/9226769',\n",
       "   'road_address_name': '광주 광산구 사암로171번길 52',\n",
       "   'x': '126.804991909506',\n",
       "   'y': '35.1600989636393'},\n",
       "  {'address_name': '광주 광산구 우산동 1573-6',\n",
       "   'category_group_code': 'PM9',\n",
       "   'category_group_name': '약국',\n",
       "   'category_name': '의료,건강 > 약국',\n",
       "   'distance': '962',\n",
       "   'id': '26583809',\n",
       "   'phone': '062-531-6123',\n",
       "   'place_name': '우리동네온누리약국',\n",
       "   'place_url': 'http://place.map.kakao.com/26583809',\n",
       "   'road_address_name': '광주 광산구 사암로215번길 85',\n",
       "   'x': '126.803494572011',\n",
       "   'y': '35.1638534025418'},\n",
       "  {'address_name': '광주 광산구 산정동 143-21',\n",
       "   'category_group_code': 'PM9',\n",
       "   'category_group_name': '약국',\n",
       "   'category_name': '의료,건강 > 약국',\n",
       "   'distance': '1042',\n",
       "   'id': '99474834',\n",
       "   'phone': '062-952-2092',\n",
       "   'place_name': '종로당온누리약국',\n",
       "   'place_url': 'http://place.map.kakao.com/99474834',\n",
       "   'road_address_name': '광주 광산구 용아로 257',\n",
       "   'x': '126.80152187656707',\n",
       "   'y': '35.16622255848864'},\n",
       "  {'address_name': '광주 광산구 우산동 1571-1',\n",
       "   'category_group_code': 'PM9',\n",
       "   'category_group_name': '약국',\n",
       "   'category_name': '의료,건강 > 약국',\n",
       "   'distance': '1043',\n",
       "   'id': '9791681',\n",
       "   'phone': '062-951-9987',\n",
       "   'place_name': '빛고을약국',\n",
       "   'place_url': 'http://place.map.kakao.com/9791681',\n",
       "   'road_address_name': '광주 광산구 월곡산정로 12',\n",
       "   'x': '126.80421467253548',\n",
       "   'y': '35.16428631854358'},\n",
       "  {'address_name': '광주 광산구 우산동 1578-3',\n",
       "   'category_group_code': 'PM9',\n",
       "   'category_group_name': '약국',\n",
       "   'category_name': '의료,건강 > 약국',\n",
       "   'distance': '1093',\n",
       "   'id': '27304117',\n",
       "   'phone': '062-266-5431',\n",
       "   'place_name': '동인약국',\n",
       "   'place_url': 'http://place.map.kakao.com/27304117',\n",
       "   'road_address_name': '광주 광산구 사암로215번길 51',\n",
       "   'x': '126.805479581028',\n",
       "   'y': '35.1636402802552'},\n",
       "  {'address_name': '광주 광산구 우산동 1582-1',\n",
       "   'category_group_code': 'PM9',\n",
       "   'category_group_name': '약국',\n",
       "   'category_name': '의료,건강 > 약국',\n",
       "   'distance': '1277',\n",
       "   'id': '425227884',\n",
       "   'phone': '062-955-5652',\n",
       "   'place_name': '건강약국',\n",
       "   'place_url': 'http://place.map.kakao.com/425227884',\n",
       "   'road_address_name': '광주 광산구 사암로 211',\n",
       "   'x': '126.807987179116',\n",
       "   'y': '35.16337026794'},\n",
       "  {'address_name': '광주 광산구 산정동 1010',\n",
       "   'category_group_code': 'PM9',\n",
       "   'category_group_name': '약국',\n",
       "   'category_name': '의료,건강 > 약국',\n",
       "   'distance': '1101',\n",
       "   'id': '272154380',\n",
       "   'phone': '062-953-0250',\n",
       "   'place_name': '한마음약국',\n",
       "   'place_url': 'http://place.map.kakao.com/272154380',\n",
       "   'road_address_name': '광주 광산구 손재로 1',\n",
       "   'x': '126.801392791676',\n",
       "   'y': '35.1669000771296'},\n",
       "  {'address_name': '광주 광산구 우산동 1571-1',\n",
       "   'category_group_code': 'PM9',\n",
       "   'category_group_name': '약국',\n",
       "   'category_name': '의료,건강 > 약국',\n",
       "   'distance': '1141',\n",
       "   'id': '9443595',\n",
       "   'phone': '062-951-3344',\n",
       "   'place_name': '진달래약국',\n",
       "   'place_url': 'http://place.map.kakao.com/9443595',\n",
       "   'road_address_name': '광주 광산구 월곡산정로 12',\n",
       "   'x': '126.80326039791',\n",
       "   'y': '35.1662902920269'},\n",
       "  {'address_name': '광주 광산구 월곡동 612-24',\n",
       "   'category_group_code': 'PM9',\n",
       "   'category_group_name': '약국',\n",
       "   'category_name': '의료,건강 > 약국',\n",
       "   'distance': '1651',\n",
       "   'id': '9005522',\n",
       "   'phone': '062-951-2388',\n",
       "   'place_name': '무등약국',\n",
       "   'place_url': 'http://place.map.kakao.com/9005522',\n",
       "   'road_address_name': '광주 광산구 월곡산정로 79',\n",
       "   'x': '126.81077523606876',\n",
       "   'y': '35.166165256816214'},\n",
       "  {'address_name': '광주 광산구 우산동 1579-1',\n",
       "   'category_group_code': 'PM9',\n",
       "   'category_group_name': '약국',\n",
       "   'category_name': '의료,건강 > 약국',\n",
       "   'distance': '1160',\n",
       "   'id': '950290210',\n",
       "   'phone': '062-962-7876',\n",
       "   'place_name': '밝은명약국',\n",
       "   'place_url': 'http://place.map.kakao.com/950290210',\n",
       "   'road_address_name': '광주 광산구 사암로215번길 35',\n",
       "   'x': '126.80638855196042',\n",
       "   'y': '35.16358044402019'},\n",
       "  {'address_name': '광주 광산구 우산동 1598-3',\n",
       "   'category_group_code': 'PM9',\n",
       "   'category_group_name': '약국',\n",
       "   'category_name': '의료,건강 > 약국',\n",
       "   'distance': '1221',\n",
       "   'id': '13544635',\n",
       "   'phone': '062-946-2520',\n",
       "   'place_name': '기쁨약국',\n",
       "   'place_url': 'http://place.map.kakao.com/13544635',\n",
       "   'road_address_name': '광주 광산구 사암로 172',\n",
       "   'x': '126.808622614001',\n",
       "   'y': '35.160126385771'},\n",
       "  {'address_name': '광주 광산구 우산동 1363-14',\n",
       "   'category_group_code': 'PM9',\n",
       "   'category_group_name': '약국',\n",
       "   'category_name': '의료,건강 > 약국',\n",
       "   'distance': '1666',\n",
       "   'id': '2008323971',\n",
       "   'phone': '062-959-1205',\n",
       "   'place_name': '약국산책',\n",
       "   'place_url': 'http://place.map.kakao.com/2008323971',\n",
       "   'road_address_name': '광주 광산구 풍영철길로 20-6',\n",
       "   'x': '126.812853118058',\n",
       "   'y': '35.1628010135645'}],\n",
       " 'meta': {'is_end': False,\n",
       "  'pageable_count': 45,\n",
       "  'same_name': {'keyword': '약국', 'region': [], 'selected_region': ''},\n",
       "  'total_count': 791}}"
      ]
     },
     "execution_count": 41,
     "metadata": {},
     "output_type": "execute_result"
    }
   ],
   "source": [
    "# 광주인력개발원 주변 20km 근방 약국찾기\n",
    "# ${변수명} \n",
    "query = '약국'\n",
    "x = 126.7954074\n",
    "y = 35.1582761\n",
    "radius = 20000\n",
    "code = 'PM9'\n",
    "url = f'https://dapi.kakao.com/v2/local/search/keyword.json?y={y}&x={x}&radius={radius}&query={query}&category_group_code={code}'\n",
    "header = {'Authorization': f'KakaoAK {REST_API_KEY}'}\n",
    "r = requests.get(url, headers=header)\n",
    "jsondata = r.json()\n",
    "jsondata"
   ]
  },
  {
   "cell_type": "code",
   "execution_count": null,
   "id": "2f33c416-11b8-41df-85f3-515637220d2f",
   "metadata": {},
   "outputs": [],
   "source": []
  },
  {
   "cell_type": "code",
   "execution_count": null,
   "id": "5a5354ef-0905-4463-8bb9-c5152c35fb52",
   "metadata": {},
   "outputs": [],
   "source": []
  },
  {
   "cell_type": "code",
   "execution_count": null,
   "id": "688f1eb0-c80a-4b51-8e08-a1aec5d0401a",
   "metadata": {},
   "outputs": [],
   "source": []
  },
  {
   "cell_type": "code",
   "execution_count": null,
   "id": "00e1e015-b89b-44a8-856d-488ba5d8b581",
   "metadata": {},
   "outputs": [],
   "source": []
  }
 ],
 "metadata": {
  "kernelspec": {
   "display_name": "Python 3 (ipykernel)",
   "language": "python",
   "name": "python3"
  },
  "language_info": {
   "codemirror_mode": {
    "name": "ipython",
    "version": 3
   },
   "file_extension": ".py",
   "mimetype": "text/x-python",
   "name": "python",
   "nbconvert_exporter": "python",
   "pygments_lexer": "ipython3",
   "version": "3.11.1"
  }
 },
 "nbformat": 4,
 "nbformat_minor": 5
}
