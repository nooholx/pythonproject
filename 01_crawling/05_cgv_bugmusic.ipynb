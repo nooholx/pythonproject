{
 "cells": [
  {
   "cell_type": "code",
   "execution_count": null,
   "id": "f6ac281d-bfc9-4054-849d-873c13e6c579",
   "metadata": {},
   "outputs": [],
   "source": [
    "# get_text()와  string 이 거의 비슷한 역할\n",
    "# 어쩔때는 get_text가 안될 때 string이 된다.\n",
    "# 태그안에서 글자를 추출하는 용도임\n",
    "# 태그 안에 어떤 태그가 쓰여있는지에 따라 안될 때가 있으니까\n",
    "# 둘 다 안되면 contents 써보면 된다."
   ]
  },
  {
   "cell_type": "code",
   "execution_count": null,
   "id": "922566a1-5530-4941-ad10-b5e5280adae7",
   "metadata": {},
   "outputs": [],
   "source": [
    "# find 와 select차이\n",
    "# find, find_all은 뷰티풀숲 기본\n",
    "# select는 css 뭔법\n",
    "# 상황에 따라 어떤건 뽑히고 어떤 건 안뽑히는 경우가 있어. 두개 다 써보면 된다."
   ]
  },
  {
   "cell_type": "code",
   "execution_count": null,
   "id": "be98ab46-d50d-4419-aec5-4e34242a45ae",
   "metadata": {},
   "outputs": [],
   "source": [
    "# 웹이 정보가 소실되서 들어올 수가 있음. 됐다 안됐다가 해. 네트워크에서 데이터 넘어오면서 생기는 문제. + 보안문제도 있음. 그래서 정확히 어디에서 문제가 생겼는지 알기 힘듦"
   ]
  },
  {
   "cell_type": "code",
   "execution_count": null,
   "id": "87893558-04e4-4953-9c8d-85cebc4cce1f",
   "metadata": {},
   "outputs": [],
   "source": [
    "# request와 requests의 차이 : 라이브러리가 다르다. urllib안에 제공하는 request, / requests는 따로 만든 것임. "
   ]
  },
  {
   "cell_type": "markdown",
   "id": "c0b1805d-9b99-4ac3-9291-f5d9bf616d03",
   "metadata": {},
   "source": [
    "# CGV"
   ]
  },
  {
   "cell_type": "code",
   "execution_count": 18,
   "id": "49a40d36-600f-4c80-9a7c-2fc421bee54d",
   "metadata": {
    "tags": []
   },
   "outputs": [],
   "source": [
    "# 강사님 코드"
   ]
  },
  {
   "cell_type": "code",
   "execution_count": 1,
   "id": "0d7340e0-f322-48db-abcb-6fd4cae742a8",
   "metadata": {
    "tags": []
   },
   "outputs": [],
   "source": [
    "from urllib import request\n",
    "from bs4 import BeautifulSoup"
   ]
  },
  {
   "cell_type": "code",
   "execution_count": 17,
   "id": "f973482e-b87a-401a-8310-49dbd3afeca2",
   "metadata": {
    "tags": []
   },
   "outputs": [
    {
     "name": "stdout",
     "output_type": "stream",
     "text": [
      "더 퍼스트 슬램덩크\n",
      "스즈메의 문단속\n",
      "던전 앤 드래곤-도적들의 명예\n",
      "아임 히어로 더 파이널\n",
      "파벨만스\n",
      "상견니\n",
      "찬란한 나의 복수\n",
      "오토라는 남자\n",
      "웅남이\n",
      "흐르다\n",
      "엘 카미노\n",
      "소울메이트\n",
      "귀멸의 칼날-상현집결, 그리고 도공 마을로\n",
      "이니셰린의 밴시\n",
      "에브리씽 에브리웨어 올 앳 원스+\n",
      "패왕별희 디 오리지널\n",
      "더 웨일\n",
      "멍뭉이\n",
      "[알베르게다이닝]엘 카미노(GV)\n"
     ]
    }
   ],
   "source": [
    "url = 'http://www.cgv.co.kr/movies'\n",
    "response = request.urlopen(url)\n",
    "# request는 객체로 넘어가면 인지를 못해.\n",
    "# 뷰티풀숲은 response = request.urlopen형태로 해도 인식을 함.\n",
    "# read()안하고 넘겨도 된다고.\n",
    "soup = BeautifulSoup(response, 'lxml')\n",
    "# print(soup)\n",
    "\n",
    "# select는 여러개 , selectone은 하나만\n",
    "# find는 하나, find_all은 여러개\n",
    "result = soup.select('strong.title')\n",
    "# print(result)\n",
    "\n",
    "for item in result:\n",
    "    # .string = .text = .get_text()\n",
    "    # print(item.string)\n",
    "    # print(item.text)\n",
    "    print(item.get_text())"
   ]
  },
  {
   "cell_type": "markdown",
   "id": "a82e903a-f925-42f8-a27c-4553026e75ef",
   "metadata": {},
   "source": [
    "# Bugs Music"
   ]
  },
  {
   "cell_type": "code",
   "execution_count": 19,
   "id": "9650a05b-6b50-4993-ae58-4b55096cf809",
   "metadata": {
    "tags": []
   },
   "outputs": [],
   "source": [
    "# 강사님 코드\n",
    "# 벅스차트 곡이름, 아티스트 크롤링\n",
    "# https://music.bugs.co.kr/chart"
   ]
  },
  {
   "cell_type": "code",
   "execution_count": 20,
   "id": "a2258e84-d777-4275-8d4b-a861c2a2b04b",
   "metadata": {
    "tags": []
   },
   "outputs": [],
   "source": [
    "from urllib import request\n",
    "from bs4 import BeautifulSoup"
   ]
  },
  {
   "cell_type": "code",
   "execution_count": null,
   "id": "3dd90a88-c5e7-4d88-84b6-1c01bf6029d9",
   "metadata": {
    "tags": []
   },
   "outputs": [],
   "source": [
    "url = 'https://music.bugs.co.kr/chart'\n",
    "response = request.urlopen(url)\n",
    "\n",
    "# beautifulsopu을 이용하여 구조화 시켜줌\n",
    "soup = BeautifulSoup(response, 'lxml')\n",
    "\n",
    "title_list = []\n",
    "artist_list = []\n",
    "\n",
    "####### title 뽑아내기 ########\n",
    "# p태그의 클래스 값이 title이고 그 아래에 있는 a태그들 모두 뽑아라\n",
    "title = soup.select('p.title > a')\n",
    "# print(title)\n",
    "\n",
    "for item in title:\n",
    "    # print(item.string)\n",
    "    title_list.append(item.string)\n",
    "# print(title_list)  \n",
    "\n",
    "\n",
    "####### artist 뽑아내기 ########\n",
    "artist = soup.select('p.artist > a')\n",
    "# print(artist)\n",
    "\n",
    "# for item in artist:\n",
    "#     # print(item.string)\n",
    "#     artist_list.append(item.get_text())\n",
    "# print(artist_list)\n",
    "\n",
    "### 문제점 : 곡수와 아티스트 수가 맞지 않음\n",
    "len(title_list), len(artist_list)\n",
    "\n",
    "######## 곡수와 아티스트 수 매칭하기 ########\n",
    "artist = soup.select('p.artist')\n",
    "# print(len(artist))\n",
    "\n",
    "for item in artist:\n",
    "    # print(item)\n",
    "    # string이 안되고 text가 됨\n",
    "    # print(item.text)\n",
    "    # print(item.text.strip())\n",
    "    # print('-------------')\n",
    "    \n",
    "    # 두개씩 있는 것 제외하기\n",
    "    # 앞 뒤 공백 제거하기 -> strip()    \n",
    "    artist_list.append(item.text.strip())\n",
    "    # 두개씩 있는 얘들 특징 : \\n\\n\\r\\n\n"
   ]
  },
  {
   "cell_type": "code",
   "execution_count": 56,
   "id": "c50b3e52-25b8-401b-a68d-6a07a5114af5",
   "metadata": {
    "tags": []
   },
   "outputs": [
    {
     "data": {
      "text/plain": [
       "(100, 100)"
      ]
     },
     "execution_count": 56,
     "metadata": {},
     "output_type": "execute_result"
    }
   ],
   "source": [
    "len(title_list), len(artist_list)"
   ]
  },
  {
   "cell_type": "code",
   "execution_count": 65,
   "id": "2ddddce1-ed92-4bc8-b707-f2a8219c5e65",
   "metadata": {
    "tags": []
   },
   "outputs": [],
   "source": [
    "artist_list_final = []\n",
    "for item in artist_list:\n",
    "    # print(item.replace('\\n\\n\\r\\n', ','))\n",
    "    # print(item.replace('\\n\\n\\r\\n', ',').split(',')[0])\n",
    "    artist_list_final.append(item.replace('\\n\\n\\r\\n', ',').split(',')[0])"
   ]
  },
  {
   "cell_type": "code",
   "execution_count": 66,
   "id": "d6e73f60-7064-4145-a00e-96ce6d9a8697",
   "metadata": {
    "tags": []
   },
   "outputs": [],
   "source": [
    "result = list(zip(title_list, artist_list_final))"
   ]
  },
  {
   "cell_type": "code",
   "execution_count": null,
   "id": "ccf6e8e8-d1bc-41e6-ba7f-a8164d1f2c30",
   "metadata": {
    "tags": []
   },
   "outputs": [],
   "source": [
    "print(result)"
   ]
  },
  {
   "cell_type": "code",
   "execution_count": 68,
   "id": "da8a448d-b14b-483e-8ec1-3310870f1fa6",
   "metadata": {
    "tags": []
   },
   "outputs": [
    {
     "name": "stdout",
     "output_type": "stream",
     "text": [
      "100\n"
     ]
    }
   ],
   "source": [
    "print(len(result))"
   ]
  }
 ],
 "metadata": {
  "kernelspec": {
   "display_name": "Python 3 (ipykernel)",
   "language": "python",
   "name": "python3"
  },
  "language_info": {
   "codemirror_mode": {
    "name": "ipython",
    "version": 3
   },
   "file_extension": ".py",
   "mimetype": "text/x-python",
   "name": "python",
   "nbconvert_exporter": "python",
   "pygments_lexer": "ipython3",
   "version": "3.11.1"
  }
 },
 "nbformat": 4,
 "nbformat_minor": 5
}
