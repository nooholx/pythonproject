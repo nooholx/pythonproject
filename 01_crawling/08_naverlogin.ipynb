{
 "cells": [
  {
   "cell_type": "code",
   "execution_count": null,
   "id": "1f5c0d83-9495-4539-96ad-82740df4d841",
   "metadata": {
    "tags": []
   },
   "outputs": [],
   "source": [
    "!pip install pyperclip"
   ]
  },
  {
   "cell_type": "code",
   "execution_count": 26,
   "id": "4946b318-7ee8-4fa5-ab2b-ed521ae9a646",
   "metadata": {
    "tags": []
   },
   "outputs": [],
   "source": [
    "from selenium import webdriver\n",
    "from selenium.webdriver.common.by import By\n",
    "from selenium.webdriver.common.keys import Keys\n",
    "import time\n",
    "import pyperclip"
   ]
  },
  {
   "cell_type": "code",
   "execution_count": 14,
   "id": "429fd28c-a482-4cab-8f6e-85face7af8c8",
   "metadata": {
    "scrolled": true,
    "tags": []
   },
   "outputs": [],
   "source": [
    "id = ''\n",
    "pw = ''"
   ]
  },
  {
   "cell_type": "code",
   "execution_count": null,
   "id": "ca122a0c-d41f-4bfc-8893-71a341ca6bc2",
   "metadata": {
    "tags": []
   },
   "outputs": [],
   "source": [
    "url = 'https://nid.naver.com/nidlogin.login'\n",
    "driver = webdriver.Chrome()\n",
    "driver.get(url)\n",
    "time.sleep(5)\n",
    "\n",
    "# driver.find_element(By.ID, 'id').send_keys(id)\n",
    "# driver.find_element(By.ID, 'pw').send_keys(pw)\n",
    "\n",
    "# 우회방법 (이것도 막혔음)\n",
    "# driver.execute_script(\"document.getElementsByName('id')[0].value='\"+id+\"'\")\n",
    "# driver.execute_script(\"document.getElementsByName('pw')[0].value='\"+pw+\"'\")\n",
    "\n",
    "# pyperclip도 막힘힘\n",
    "ele_id = driver.find_element(By.ID, 'id')\n",
    "ele_id.click()\n",
    "pyperclip.copy(id)\n",
    "ele_id.send_keys(Keys.CONTROL, 'v')\n",
    "time.sleep(2)\n",
    "\n",
    "ele_pw = driver.find_element(By.ID, 'pw')\n",
    "ele_pw.click()\n",
    "pyperclip.copy(pw)\n",
    "ele_pw.send_keys(Keys.CONTROL, 'v')\n",
    "time.sleep(2)\n",
    "\n",
    "\n",
    "\n",
    "time.sleep(3)\n",
    "\n",
    "# driver.find_element(By.CLASS_NAME, 'btn_login').click()\n",
    "# xpath도 안됨\n",
    "driver.find_element(By.XPATH, '//*[@id=\"log.login\"]').click()\n"
   ]
  },
  {
   "cell_type": "code",
   "execution_count": 19,
   "id": "d15dc17a-b4c6-4b44-81b4-a84584015478",
   "metadata": {
    "tags": []
   },
   "outputs": [
    {
     "data": {
      "text/plain": [
       "\"document.getElementsByName('id')[0].value='mushoon'\""
      ]
     },
     "execution_count": 19,
     "metadata": {},
     "output_type": "execute_result"
    }
   ],
   "source": [
    "# 문자인 것은 작은따옴표 붙이고 아닌건 안붙여도 되고.\n",
    "# 자바스크립트 형태를 문장으로 만들기 위함이다.\n",
    "# text = \"document.getElementsByName('id')[0].value='\"+id+\"'\" \n",
    "# text"
   ]
  },
  {
   "cell_type": "code",
   "execution_count": 21,
   "id": "9ca703bd-29ea-4281-aecb-7926a7a45142",
   "metadata": {
    "tags": []
   },
   "outputs": [
    {
     "data": {
      "text/plain": [
       "\"document.getElementsByName('pw')[0].value='ckdtjqqnls^^0226'\""
      ]
     },
     "execution_count": 21,
     "metadata": {},
     "output_type": "execute_result"
    }
   ],
   "source": [
    "# text2 = \"document.getElementsByName('pw')[0].value='\"+pw+\"'\"\n",
    "# text2"
   ]
  }
 ],
 "metadata": {
  "kernelspec": {
   "display_name": "Python 3 (ipykernel)",
   "language": "python",
   "name": "python3"
  },
  "language_info": {
   "codemirror_mode": {
    "name": "ipython",
    "version": 3
   },
   "file_extension": ".py",
   "mimetype": "text/x-python",
   "name": "python",
   "nbconvert_exporter": "python",
   "pygments_lexer": "ipython3",
   "version": "3.11.2"
  }
 },
 "nbformat": 4,
 "nbformat_minor": 5
}
