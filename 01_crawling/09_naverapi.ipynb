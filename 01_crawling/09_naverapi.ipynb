{
 "cells": [
  {
   "cell_type": "code",
   "execution_count": null,
   "id": "1fa6ca91-dae2-4cbd-aaff-2da1bc543c5e",
   "metadata": {
    "tags": []
   },
   "outputs": [],
   "source": [
    "# 네이버 검색 API 예제 - 블로그 검색\n",
    "import urllib.request\n",
    "import json\n",
    "\n",
    "client_id = \"_JVsoHrCTQWpXOXJXDUJ\"\n",
    "client_secret = \"ZO7aY8OtIc\"\n",
    "\n",
    "query = input('검색할 단어 >>> ')\n",
    "encText = urllib.parse.quote(query)\n",
    "print(encText)\n",
    "url = \"https://openapi.naver.com/v1/search/blog?display=100&query=\" + encText # JSON 결과\n",
    "# url = \"https://openapi.naver.com/v1/search/blog.xml?query=\" + encText # XML 결과\n",
    "\n",
    "# header에 클라이언트 시크릿값을 넣어 보내야하니까 요청할 객체를 먼저 만들어\n",
    "# 그 안에 헤더부분에 우리가 필요한 정보를 끼워넣는거야. \n",
    "# 그 다음에 호출하는 작업. (urlopen) 이때 헤더 정보도 들어있는 객체를 넣어\n",
    "# 응답했는지 궁금하니까 getcode() 써. 200이 나오면 성공한거야. 다른코드가 나오면 문제가 있는거\n",
    "# 200인지 확인하고 성공했으면 read()로 문자열로 읽어들여 \n",
    "# 혹시 문제 생겼으면 에러코드 찍어보내라\n",
    "request = urllib.request.Request(url)\n",
    "request.add_header(\"X-Naver-Client-Id\",client_id)\n",
    "request.add_header(\"X-Naver-Client-Secret\",client_secret)\n",
    "response = urllib.request.urlopen(request)\n",
    "rescode = response.getcode()\n",
    "if(rescode==200):\n",
    "    response_body = response.read()\n",
    "    print(response_body.decode('utf-8'))\n",
    "else:\n",
    "    print(\"Error Code:\" + rescode)\n",
    "data = response_body.decode('utf-8')\n",
    "print(type(data))"
   ]
  },
  {
   "cell_type": "code",
   "execution_count": 23,
   "id": "d144c8b1-ee28-4ae3-b395-244e1083c24e",
   "metadata": {
    "tags": []
   },
   "outputs": [
    {
     "name": "stdout",
     "output_type": "stream",
     "text": [
      "<class 'dict'>\n"
     ]
    }
   ],
   "source": [
    "result = json.loads(data)\n",
    "print(type(result))"
   ]
  },
  {
   "cell_type": "code",
   "execution_count": null,
   "id": "dc883aa0-16c1-4244-9232-1cd095dbcc3d",
   "metadata": {
    "tags": []
   },
   "outputs": [],
   "source": [
    "# 링크값 10개 뽑아내기\n",
    "for item in result['items']:\n",
    "    print(item['link'])"
   ]
  },
  {
   "cell_type": "markdown",
   "id": "c0f609f6-bdb2-4d1d-af00-f4c4a69fd194",
   "metadata": {
    "tags": []
   },
   "source": [
    "### 네이버 영화 원하는 장르, 국가, 연도 설정하여 100개 뽑아내기"
   ]
  },
  {
   "cell_type": "code",
   "execution_count": 40,
   "id": "5b820815-d348-4145-a066-e18b8edc7daf",
   "metadata": {
    "tags": []
   },
   "outputs": [
    {
     "name": "stdin",
     "output_type": "stream",
     "text": [
      "오타변환 >>>  gksrmf\n"
     ]
    },
    {
     "name": "stdout",
     "output_type": "stream",
     "text": [
      "gksrmf\n",
      "{\n",
      "\t\"errata\":\"한글\"\n",
      "}\n"
     ]
    }
   ],
   "source": [
    "import urllib.request\n",
    "import json\n",
    "\n",
    "client_id = \"_JVsoHrCTQWpXOXJXDUJ\"\n",
    "client_secret = \"ZO7aY8OtIc\"\n",
    "\n",
    "query = input('오타변환 >>> ')\n",
    "encText = urllib.parse.quote(query)\n",
    "print(encText)\n",
    "url = \"https://openapi.naver.com/v1/search/errata.json?&query=\" + encText # JSON 결과\n",
    "# url = \"https://openapi.naver.com/v1/search/blog.xml?query=\" + encText # XML 결과\n",
    "\n",
    "# header에 클라이언트 시크릿값을 넣어 보내야하니까 요청할 객체를 먼저 만들어\n",
    "# 그 안에 헤더부분에 우리가 필요한 정보를 끼워넣는거야. \n",
    "# 그 다음에 호출하는 작업. (urlopen) 이때 헤더 정보도 들어있는 객체를 넣어\n",
    "# 응답했는지 궁금하니까 getcode() 써. 200이 나오면 성공한거야. 다른코드가 나오면 문제가 있는거\n",
    "# 200인지 확인하고 성공했으면 read()로 문자열로 읽어들여 \n",
    "# 혹시 문제 생겼으면 에러코드 찍어보내라\n",
    "request = urllib.request.Request(url)\n",
    "request.add_header(\"X-Naver-Client-Id\",client_id)\n",
    "request.add_header(\"X-Naver-Client-Secret\",client_secret)\n",
    "response = urllib.request.urlopen(request)\n",
    "rescode = response.getcode()\n",
    "if(rescode==200):\n",
    "    response_body = response.read()\n",
    "    print(response_body.decode('utf-8'))\n",
    "else:\n",
    "    print(\"Error Code:\" + rescode)"
   ]
  },
  {
   "cell_type": "code",
   "execution_count": null,
   "id": "9c06a07e-ceaf-445c-bab5-62bc76d0a522",
   "metadata": {},
   "outputs": [],
   "source": [
    "result = json.loads(data)\n",
    "print(type(result))"
   ]
  },
  {
   "cell_type": "code",
   "execution_count": null,
   "id": "0403a794-608c-4e31-8c73-70ea8907f2c2",
   "metadata": {
    "tags": []
   },
   "outputs": [],
   "source": [
    "# 링크값 100개 뽑아내기\n",
    "for item in result['items']:\n",
    "    print(item['link'])"
   ]
  }
 ],
 "metadata": {
  "kernelspec": {
   "display_name": "Python 3 (ipykernel)",
   "language": "python",
   "name": "python3"
  },
  "language_info": {
   "codemirror_mode": {
    "name": "ipython",
    "version": 3
   },
   "file_extension": ".py",
   "mimetype": "text/x-python",
   "name": "python",
   "nbconvert_exporter": "python",
   "pygments_lexer": "ipython3",
   "version": "3.11.2"
  }
 },
 "nbformat": 4,
 "nbformat_minor": 5
}
