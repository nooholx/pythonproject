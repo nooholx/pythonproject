{
 "cells": [
  {
   "cell_type": "code",
   "execution_count": 1,
   "id": "e8f23a6d-e2d9-493d-a6d4-51b25ee34f3d",
   "metadata": {
    "tags": []
   },
   "outputs": [],
   "source": [
    "# 네이버 이미지에서 검색키워드를 입력받아서 검색한 다음 이미지 결과에서 이미지를 10개 정도 다운로드 받아서 img폴더에 저장하세요"
   ]
  },
  {
   "cell_type": "code",
   "execution_count": 3,
   "id": "d82297a3-8436-4a42-a0ba-64ceb662edfd",
   "metadata": {
    "tags": []
   },
   "outputs": [],
   "source": [
    "from urllib import request"
   ]
  },
  {
   "cell_type": "code",
   "execution_count": 4,
   "id": "3550c1c7-8536-4c0b-b979-71e050de6eb9",
   "metadata": {
    "tags": []
   },
   "outputs": [],
   "source": [
    "url = 'https://search.pstatic.net/common/?src=http%3A%2F%2Fblogfiles.naver.net%2FMjAyMzAzMDVfMjc1%2FMDAxNjc4MDE1OTU4ODI0.I6qahjqLPDenAefrHu137wUZ97pVwDt4LbQSv24PjnIg._lufR37yRV3lOVT_tS6xcgQlBRDCaUtkpDSK7jVfcxAg.JPEG.jelee2001%2FBeautyPlus_20210412084557941_save.jpg&type=l340_165'"
   ]
  },
  {
   "cell_type": "code",
   "execution_count": 5,
   "id": "b109a6b7-ad55-4264-acab-6a63ce0333e5",
   "metadata": {
    "tags": []
   },
   "outputs": [],
   "source": [
    "savename = 'test2.jpg'"
   ]
  },
  {
   "cell_type": "code",
   "execution_count": 6,
   "id": "14c49705-f58b-4546-8d7b-0e48c218bdaf",
   "metadata": {
    "tags": []
   },
   "outputs": [
    {
     "data": {
      "text/plain": [
       "('test2.jpg', <http.client.HTTPMessage at 0x182ee81d790>)"
      ]
     },
     "execution_count": 6,
     "metadata": {},
     "output_type": "execute_result"
    }
   ],
   "source": [
    "request.urlretrieve(url, savename)"
   ]
  },
  {
   "cell_type": "code",
   "execution_count": 7,
   "id": "afc21072-482d-4ae3-8901-b6b967e9db80",
   "metadata": {
    "tags": []
   },
   "outputs": [],
   "source": [
    "url = 'https://search.pstatic.net/common/?src=http%3A%2F%2Fblogfiles.naver.net%2FMjAyMzAxMjhfMTEx%2FMDAxNjc0ODg2NTk2OTkx.3vT9OBN39ZVVUD-IRoSFJo1a5gwW_w24j7W0T7bS7CQg.686Kpvf9rBPtChWfhya4d6D3VNFwlTY_ndxvHcA0wdMg.JPEG.kinglion0416%2F20210405_103625.jpg&type=a340'"
   ]
  },
  {
   "cell_type": "code",
   "execution_count": 8,
   "id": "61e2fb43-477d-4400-ab39-5b9b0195b528",
   "metadata": {
    "tags": []
   },
   "outputs": [],
   "source": [
    "savename = 'test3.jpg'"
   ]
  },
  {
   "cell_type": "code",
   "execution_count": 9,
   "id": "45f7fe44-4580-4da4-8a34-dd8de56ce339",
   "metadata": {
    "tags": []
   },
   "outputs": [
    {
     "data": {
      "text/plain": [
       "('test3.jpg', <http.client.HTTPMessage at 0x182ee83bfd0>)"
      ]
     },
     "execution_count": 9,
     "metadata": {},
     "output_type": "execute_result"
    }
   ],
   "source": [
    "request.urlretrieve(url, savename)"
   ]
  },
  {
   "cell_type": "code",
   "execution_count": 22,
   "id": "467bcf7b-8dc8-4fd7-abba-f2c4d6e9565e",
   "metadata": {
    "tags": []
   },
   "outputs": [],
   "source": [
    "url = 'https://search.pstatic.net/common/?src=http%3A%2F%2Fblogfiles.naver.net%2FMjAyMzAzMDFfODQg%2FMDAxNjc3NjUzMzY3MzI2.Hc7VW3FYWC5L07CwFoYkU4D9pH5OzIv40-vbNMg0fV4g.mFk6IgCn3Zge4HoouUoo3Z8yHaI4-VsCRIp6oQz_v60g.JPEG.0048vv%2FIMG_8720.JPG&type=a340'"
   ]
  },
  {
   "cell_type": "code",
   "execution_count": 23,
   "id": "110786d2-57b7-48ff-8d73-503176244648",
   "metadata": {
    "tags": []
   },
   "outputs": [],
   "source": [
    "savename = 'test6.jpg'"
   ]
  },
  {
   "cell_type": "code",
   "execution_count": 24,
   "id": "d8571aec-bf36-468a-b0d9-ef0580dadb66",
   "metadata": {
    "tags": []
   },
   "outputs": [
    {
     "data": {
      "text/plain": [
       "('test6.jpg', <http.client.HTTPMessage at 0x182ef945810>)"
      ]
     },
     "execution_count": 24,
     "metadata": {},
     "output_type": "execute_result"
    }
   ],
   "source": [
    "request.urlretrieve(url, savename)"
   ]
  },
  {
   "cell_type": "code",
   "execution_count": null,
   "id": "5cb72d51-98b4-4391-998b-185b977f1181",
   "metadata": {},
   "outputs": [],
   "source": [
    "#강사님 답안"
   ]
  },
  {
   "cell_type": "code",
   "execution_count": 88,
   "id": "60e28263-91e8-4d61-a614-e50fba3a0a9c",
   "metadata": {
    "tags": []
   },
   "outputs": [],
   "source": [
    "import requests\n",
    "from urllib import request\n",
    "from bs4 import BeautifulSoup"
   ]
  },
  {
   "cell_type": "code",
   "execution_count": 54,
   "id": "8c780e72-bc00-4d7e-ae2e-51a2c49b3d24",
   "metadata": {
    "tags": []
   },
   "outputs": [
    {
     "name": "stdin",
     "output_type": "stream",
     "text": [
      "검색어 >>>  봄\n"
     ]
    },
    {
     "name": "stdout",
     "output_type": "stream",
     "text": [
      "url오류\n"
     ]
    }
   ],
   "source": [
    "\n",
    "key = input('검색어 >>> ')\n",
    "url = 'https://search.naver.com/search.naver'\n",
    "param = {\n",
    "    'where':'image',\n",
    "    'sm':'tab_jum',\n",
    "    'query':key\n",
    "}\n",
    "r = requests.get(url, params=param)\n",
    "soup = BeautifulSoup(r.text, 'lxml')\n",
    "result = soup.find_all('img')\n",
    "# print(result)\n",
    "\n",
    "for i, item in enumerate(result):\n",
    "    try:\n",
    "        # print(item['src'])\n",
    "        index = item['src'].index('&')\n",
    "        # print(index)\n",
    "        src = item['src'][:index]\n",
    "        src_list = src.split('.')[-1]\n",
    "        # print(src_list)\n",
    "        request.urlretrieve(src, 'img/' + str(i) + '.' + src_list)\n",
    "    except:\n",
    "        print('url오류')"
   ]
  },
  {
   "cell_type": "code",
   "execution_count": 106,
   "id": "1dbc6a7a-fe23-495e-befe-c5d393b33229",
   "metadata": {
    "tags": []
   },
   "outputs": [
    {
     "name": "stdin",
     "output_type": "stream",
     "text": [
      "검색어 >>>  봄\n"
     ]
    },
    {
     "name": "stdout",
     "output_type": "stream",
     "text": [
      "('img/0.jpg', <http.client.HTTPMessage object at 0x00000182F1897250>)\n",
      "('img/1.jpg', <http.client.HTTPMessage object at 0x00000182F1896310>)\n",
      "('img/2.png', <http.client.HTTPMessage object at 0x00000182F1894590>)\n",
      "('img/3.jpg', <http.client.HTTPMessage object at 0x00000182F1897F50>)\n",
      "('img/4.jpg', <http.client.HTTPMessage object at 0x00000182F1895B10>)\n",
      "('img/5.jpeg', <http.client.HTTPMessage object at 0x00000182F1912F90>)\n",
      "('img/6.jpg', <http.client.HTTPMessage object at 0x00000182F1912310>)\n",
      "('img/7.jpg', <http.client.HTTPMessage object at 0x00000182F19136D0>)\n",
      "('img/8.jpg', <http.client.HTTPMessage object at 0x00000182F1911BD0>)\n",
      "('img/9.PNG', <http.client.HTTPMessage object at 0x00000182F1910FD0>)\n",
      "('img/10.jpg', <http.client.HTTPMessage object at 0x00000182F1910A50>)\n",
      "('img/11.jpg', <http.client.HTTPMessage object at 0x00000182F19125D0>)\n",
      "('img/12.jpg', <http.client.HTTPMessage object at 0x00000182F1912950>)\n",
      "('img/13.jpg', <http.client.HTTPMessage object at 0x00000182F19125D0>)\n",
      "('img/14.jpg', <http.client.HTTPMessage object at 0x00000182F1911410>)\n",
      "('img/15.jpg', <http.client.HTTPMessage object at 0x00000182F1913390>)\n",
      "('img/16.jpg', <http.client.HTTPMessage object at 0x00000182F1912C50>)\n",
      "url오류\n"
     ]
    }
   ],
   "source": [
    "key = input('검색어 >>> ')\n",
    "url = 'https://search.naver.com/search.naver'\n",
    "param = {\n",
    "    'where':'image',\n",
    "    'sm':'tab_jum',\n",
    "    'query':key\n",
    "}\n",
    "r = requests.get(url, params=param)\n",
    "# print(r.text)\n",
    "soup = BeautifulSoup(r.text, 'lxml')\n",
    "# print(soup)\n",
    "result = soup.find_all('img')\n",
    "# print(result)\n",
    "\n",
    "for i, item in enumerate(result):\n",
    "    try:\n",
    "        # print(i, item)\n",
    "        # print(item['src'])\n",
    "        index = item['src'].index('&')\n",
    "        # print(index)\n",
    "        src = item['src'][:index]\n",
    "        # print(src)\n",
    "        src_list = src.split('.')[-1]\n",
    "        # print(src_list)\n",
    "        request.urlretrieve(src, 'img/' + str(i) + '.' + src_list)\n",
    "        print(request.urlretrieve(src, 'img/' + str(i) + '.' + src_list))\n",
    "    except:\n",
    "        print('url오류')"
   ]
  },
  {
   "cell_type": "code",
   "execution_count": 78,
   "id": "c406884a-2209-465a-8377-a7692400575a",
   "metadata": {
    "tags": []
   },
   "outputs": [],
   "source": [
    "import requests\n",
    "from urllib import request\n",
    "from bs4 import BeautifulSoup"
   ]
  },
  {
   "cell_type": "code",
   "execution_count": null,
   "id": "5497854e-7aeb-40e4-a813-bfe8347a8bef",
   "metadata": {
    "tags": []
   },
   "outputs": [],
   "source": [
    "key = input('검색어 >>> ')\n",
    "url = 'https://finance.naver.com/marketindex/?'\n",
    "param = {\n",
    "    'tabSel':'exchange',\n",
    "    'query':key\n",
    "}\n",
    "r = requests.get(url, params=param)\n",
    "print(r.text)\n",
    "# soup = BeautifulSoup(r.text, 'lxml')\n",
    "# result = soup.find_all('img')\n",
    "# # print(result)\n",
    "\n",
    "# for i, item in enumerate(result):\n",
    "#     try:\n",
    "#         # print(i, item)\n",
    "#         # print(item['src'])\n",
    "#         index = item['src'].index('&')\n",
    "#         print(index)\n",
    "#         # src = item['src'][:index]\n",
    "#         # print(src)\n",
    "#     #     src_list = src.split('.')[-1]\n",
    "#     #     # print(src_list)\n",
    "#     #     request.urlretrieve(src, 'img/' + str(i) + '.' + src_list)\n",
    "#     except:\n",
    "#         print('url오류')"
   ]
  },
  {
   "cell_type": "code",
   "execution_count": 84,
   "id": "4934bc56-8128-4ac1-9530-a013d053c939",
   "metadata": {
    "tags": []
   },
   "outputs": [],
   "source": [
    "import requests\n",
    "from bs4 import BeautifulSoup"
   ]
  },
  {
   "cell_type": "code",
   "execution_count": 146,
   "id": "b435150c-1b28-4794-9552-0eb4fecc34ad",
   "metadata": {
    "tags": []
   },
   "outputs": [
    {
     "name": "stdout",
     "output_type": "stream",
     "text": [
      "[('미국 USD', 1315.0), ('유럽연합 EUR', 1429.47), ('일본 JPY (100엔)', 986.79), ('중국 CNY', 190.79), ('홍콩 HKD', 167.52), ('대만 TWD', 42.99), ('영국 GBP', 1625.73), ('오만 OMR', 3415.76), ('캐나다 CAD', 976.32), ('스위스 CHF', 1434.65), ('스웨덴 SEK', 126.68), ('호주 AUD', 884.4), ('뉴질랜드 NZD', 822.4), ('체코 CZK', 61.0), ('칠레 CLP', 1.65), ('튀르키예 TRY', 68.48), ('몽골 MNT', 0.37), ('이스라엘 ILS', 366.02), ('덴마크 DKK', 191.84), ('노르웨이 NOK', 126.64), ('사우디아라비아 SAR', 350.56), ('쿠웨이트 KWD', 4284.92), ('바레인 BHD', 3487.97), ('아랍에미리트 AED', 358.05), ('요르단 JOD', 1853.81), ('이집트 EGP', 42.56), ('태국 THB', 38.24), ('싱가포르 SGD', 988.09), ('말레이시아 MYR', 297.58), ('인도네시아 IDR 100', 8.8), ('카타르 QAR', 359.79), ('카자흐스탄 KZT', 2.9), ('브루나이 BND', 988.09), ('인도 INR', 15.98), ('파키스탄 PKR', 4.61), ('방글라데시 BDT', 12.49), ('필리핀 PHP', 24.03), ('멕시코 MXN', 73.11), ('브라질 BRL', 259.69), ('베트남 VND 100', 5.6), ('남아프리카 공화국 ZAR', 73.67), ('러시아 RUB', 16.86), ('헝가리 HUF', 3.78), ('폴란드 PLN', 305.62), ('스리랑카 LKR', 4.08), ('알제리 DZD', 9.68), ('케냐 KES', 9.91), ('콜롬비아 COP', 0.28), ('탄자니아 TZS', 0.56), ('네팔 NPR', 9.98), ('루마니아 RON', 289.41), ('리비아 LYD', 275.1), ('마카오 MOP', 162.65), ('미얀마 MMK', 0.63), ('에티오피아 ETB', 24.17), ('우즈베키스탄 UZS', 0.12), ('캄보디아 KHR', 0.32), ('피지 FJD', 595.96)]\n"
     ]
    }
   ],
   "source": [
    "# 환율 링크 불러오기\n",
    "url = 'https://finance.naver.com/marketindex/exchangeList.naver'\n",
    "r = requests.get(url).text\n",
    "# print(r)\n",
    "soup = BeautifulSoup(r, 'lxml')\n",
    "# print(soup)\n",
    "name = [] #통화명\n",
    "price = [] #가격\n",
    "\n",
    "data = soup.select('td.tit > a') #tit 아래있는 a태그\n",
    "#print(data)\n",
    "\n",
    "# get_text().strip()과 string.strip()결과가 같다. 이렇게 써도 되는 듯\n",
    "# for item in data :\n",
    "    # print(item.get_text().strip())\n",
    "for item in data:\n",
    "    # print(item.string)\n",
    "    # print(item.string.strip()) # 공백제거해서 문자열 가져오기\n",
    "    name.append(item.string.strip())\n",
    "    # print(name)\n",
    "# print(name)\n",
    "data = soup.select('td.sale')\n",
    "# print(data)\n",
    "for item in data:\n",
    "    # print(item.string)\n",
    "    price.append(float(item.string.replace(',','')))\n",
    "# print(price)\n",
    "# print(len(name),len(price))\n",
    "items = list(zip(name, price))\n",
    "print(items)"
   ]
  },
  {
   "cell_type": "code",
   "execution_count": null,
   "id": "6b53875e-2164-4734-93a9-de49d3dd0f89",
   "metadata": {},
   "outputs": [],
   "source": []
  }
 ],
 "metadata": {
  "kernelspec": {
   "display_name": "Python 3 (ipykernel)",
   "language": "python",
   "name": "python3"
  },
  "language_info": {
   "codemirror_mode": {
    "name": "ipython",
    "version": 3
   },
   "file_extension": ".py",
   "mimetype": "text/x-python",
   "name": "python",
   "nbconvert_exporter": "python",
   "pygments_lexer": "ipython3",
   "version": "3.11.1"
  }
 },
 "nbformat": 4,
 "nbformat_minor": 5
}
