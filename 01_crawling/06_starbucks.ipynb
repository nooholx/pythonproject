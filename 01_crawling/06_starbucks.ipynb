{
 "cells": [
  {
   "cell_type": "code",
   "execution_count": 2,
   "id": "6a439a4a-08d0-437c-913a-f973d5dc16e3",
   "metadata": {
    "tags": []
   },
   "outputs": [],
   "source": [
    "from urllib import request\n",
    "from bs4 import BeautifulSoup"
   ]
  },
  {
   "cell_type": "code",
   "execution_count": null,
   "id": "69cfcbb6-6010-41ab-95c5-64ba7feb8600",
   "metadata": {
    "tags": []
   },
   "outputs": [],
   "source": [
    "url = 'https://www.starbucks.co.kr/store/store_map.do'\n",
    "\n",
    "response = request.urlopen(url)\n",
    "# print(response)\n",
    "print(response.read().decode('utf8'))\n",
    "\n",
    "# 뷰티풀숲 객체 생성\n",
    "soup = BeautifulSoup(response, 'lxml')\n",
    "# print(soup)\n",
    "\n",
    "print(soup.select('ul.quickSearchResultBox'))\n",
    "# 왜 li태그가 안나오지?\n",
    "# data가져다가 필요한 형태로 만들어 client로 보냄. \n",
    "# client가 요청할 때 주소+필요한 데이터를 전송하면 서버가 처리된 결과값을 client에게 return해주는데\n",
    "# 틀만 만들어놓고 데이터를 나중에 보내냐 틀+데이터 같이 보내냐의 차이가 있다.\n",
    "# 이 경우는 <ul></ul> 틀만 만들어놓고 서버가 보낸거야. js 같은걸로 데이터가 따로 요청이 들어감.왜? 한번에 다 보내기에는 시간이 많이 들어서. 요청한 데이터가 만들어지는 대로 내려보내는거야 \n",
    "# 따라서 처음시점에는 데이터가 없고(틀만 있음) 일정시간이 지난 후에 데이터가 추가되어 클라이언트로 전송되는 것임.\n",
    "# 즉, 처음 호출한 데이터만 받아서 안에 내용이 없으니까 li가 안나오는 것임\n",
    "# 다른 방식(selenium)을 써야 한다.\n",
    "# 웹 프로그래밍 하고 잘됐는지 안됐는지 테스트하는 라이브러리임. 진행하면서 진행되는 코드를 받아올 수 있기 떄문에 알 수 있다\n",
    "# 하지만 이것도 만능은 아님\n"
   ]
  },
  {
   "cell_type": "code",
   "execution_count": null,
   "id": "c58e5c21-fdca-42d1-912a-21ec83d45148",
   "metadata": {
    "tags": []
   },
   "outputs": [],
   "source": [
    "!pip install selenium"
   ]
  },
  {
   "cell_type": "code",
   "execution_count": 37,
   "id": "33fffd84-8202-4466-a0cd-89224c9a5ff0",
   "metadata": {
    "tags": []
   },
   "outputs": [],
   "source": [
    "from selenium import webdriver\n",
    "import time"
   ]
  },
  {
   "cell_type": "code",
   "execution_count": null,
   "id": "64bdd414-f722-4d86-b08f-e459d12dbfa7",
   "metadata": {
    "tags": []
   },
   "outputs": [],
   "source": [
    "driver = webdriver.Chrome()\n",
    "driver.get(url)\n",
    "# 접속 후 일정시간동안 데이터 불러올 시간 : 5초정도 기다리기(조절가능)\n",
    "# 왜 안나오지?\n",
    "# driver.implicitly_wait(10)\n",
    "time.sleep(5)\n",
    "\n",
    "# 뷰티풀숲에 넣어서 활용할 수 있음.\n",
    "page = driver.page_source\n",
    "soup = BeautifulSoup(page, 'lxml')\n",
    "print(soup.select('ul.quickSearchResultBox'))\n",
    "# 결과는 아직도 [<ul class=\"quickSearchResultBox\"></ul>] 불러오자마자니까.\n",
    "# 불러오는 시간이 필요함 -> time.sleep()\n",
    "# 처음 데이터만 불러올 수 있다는 단점이 있음."
   ]
  },
  {
   "cell_type": "code",
   "execution_count": 45,
   "id": "d0dc3a88-e921-424d-80b2-8aad3d750616",
   "metadata": {},
   "outputs": [
    {
     "data": {
      "text/plain": [
       "'4.8.3'"
      ]
     },
     "execution_count": 45,
     "metadata": {},
     "output_type": "execute_result"
    }
   ],
   "source": [
    "import selenium\n",
    "selenium.__version__"
   ]
  },
  {
   "cell_type": "markdown",
   "id": "05f9f732-81eb-4497-8d56-14df07df7623",
   "metadata": {},
   "source": [
    "### 스타벅스 지역 선택 -> 지점 이름, 주소값 크롤링"
   ]
  },
  {
   "cell_type": "code",
   "execution_count": 51,
   "id": "2dd83d5f-bd05-4b4c-99e9-c60b517cbba1",
   "metadata": {
    "tags": []
   },
   "outputs": [],
   "source": [
    "# https://www.starbucks.co.kr/store/store_map.do?disp=quick"
   ]
  },
  {
   "cell_type": "code",
   "execution_count": 57,
   "id": "648846c7-011b-481d-9e29-cc346e3fe6dc",
   "metadata": {
    "tags": []
   },
   "outputs": [],
   "source": [
    "from selenium import webdriver\n",
    "import time\n",
    "from selenium.webdriver.common.by import By\n",
    "from selenium.webdriver.common.keys import Keys"
   ]
  },
  {
   "cell_type": "code",
   "execution_count": 82,
   "id": "2f531ab0-4dc2-4dfc-8f33-e00422413af1",
   "metadata": {
    "tags": []
   },
   "outputs": [
    {
     "name": "stdout",
     "output_type": "stream",
     "text": [
      "그랜드조선 부산  \n",
      "부산광역시 해운대구 해운대해변로 292 (중동)\n",
      "--------------\n",
      "센텀몰1F  \n",
      "부산광역시 해운대구 센텀4로 15 (우동)\n",
      "--------------\n",
      "해운대중동역  \n",
      "부산광역시 해운대구 좌동순환로 6 (중동)\n",
      "--------------\n",
      "센텀신세계3F  \n",
      "부산광역시 해운대구 센텀남대로 35 (우동)\n",
      "--------------\n",
      "해운대 엑스더스카이  \n",
      "부산광역시 해운대구 달맞이길30 \n",
      "--------------\n",
      "해운대좌동  \n",
      "부산광역시 해운대구 좌동순환로 178 (좌동)\n",
      "--------------\n",
      "해운대NC  \n",
      "부산광역시 해운대구 해운대로 813 (좌동)\n",
      "--------------\n",
      "월드마크센텀  \n",
      "부산광역시 해운대구 센텀동로 25, 1층 (우동)\n",
      "--------------\n",
      "센텀KNN  \n",
      "부산광역시 해운대구 센텀서로 30 (우동)\n",
      "--------------\n",
      "센텀드림월드  \n",
      "부산광역시 해운대구 센텀2로 25, 센텀드림월드 1층 (우동)\n",
      "--------------\n",
      "해운대이마트  \n",
      "부산광역시 해운대구 좌동순환로 511 (중동) 1층\n",
      "--------------\n",
      "해운대달맞이  \n",
      "부산광역시 해운대구 달맞이길 189 (중동)\n",
      "--------------\n",
      "마린시티아이파크  \n",
      "부산광역시 해운대구 마린시티2로 38 (우동)\n",
      "--------------\n",
      "제니스스퀘어  \n",
      "부산광역시 해운대구 마린시티2로 33, 제니스스퀘어 (우동)\n",
      "--------------\n",
      "센텀시티역  \n",
      "부산광역시 해운대구 센텀동로 9, 트럼프월드센텀아파트 1층 (우동)\n",
      "--------------\n",
      "블루스퀘어  \n",
      "부산광역시 해운대구 좌동로 96 (좌동)\n",
      "--------------\n",
      "팔레드시즈  \n",
      "부산광역시 해운대구 해운대해변로298번길 24, 팔래드시즈 1-3호, 2-3호 (중동)\n",
      "--------------\n",
      "베네시티  \n",
      "부산광역시 해운대구 해운대해변로 163 (우동)\n",
      "--------------\n",
      "벡스코  \n",
      "부산광역시 해운대구 APEC로 55, 벡스코내 (우동)\n",
      "--------------\n",
      "하버타운  \n",
      "부산광역시 해운대구 해운대해변로 257 (우동)\n",
      "--------------\n",
      "장산역  \n",
      "부산광역시 해운대구 해운대로 802 (좌동)\n",
      "--------------\n",
      "부산송정비치  \n",
      "부산광역시 해운대구 송정해변로 36 (송정동)\n",
      "--------------\n",
      "센텀그린타워  \n",
      "부산광역시 해운대구 센텀중앙로 78 (우동)\n",
      "--------------\n",
      "해운대달맞이DT  \n",
      "부산광역시 해운대구 달맞이길 57 (중동) 1~3층\n",
      "--------------\n",
      "센텀신세계B1  \n",
      "부산광역시 해운대구 센텀남대로 35 (우동) 센텀시티 신세계UEC\n",
      "--------------\n",
      "센텀로  \n",
      "부산광역시 해운대구 센텀2로 10 (우동) 센텀메디컬센타 1층 스타벅스 센텀로점\n",
      "--------------\n",
      "해운대  \n",
      "부산광역시 해운대구 구남로 49 (중동) 101호\n",
      "--------------\n",
      "부산재송DT  \n",
      "부산광역시 해운대구 해운대로 189 (재송동)\n",
      "--------------\n",
      "해운대역  \n",
      "부산광역시 해운대구 구남로 9 (우동)\n",
      "--------------\n",
      "센텀파크  \n",
      "부산광역시 해운대구 센텀중앙로 145 (재송동, 더샵센텀파크1차아파트)\n",
      "--------------\n",
      "수영강변DT  \n",
      "부산광역시 해운대구 수영강변대로 516 (반여동)\n",
      "--------------\n",
      "더해운대R  \n",
      "부산광역시 해운대구 해운대해변로 197 (우동, 해운대경동제이드아파트)\n",
      "--------------\n"
     ]
    }
   ],
   "source": [
    "url = 'https://www.starbucks.co.kr/store/store_map.do'\n",
    "driver = webdriver.Chrome()\n",
    "driver.get(url)\n",
    "time.sleep(5)\n",
    "\n",
    "loca = driver.find_element(By.CLASS_NAME, 'loca_search')\n",
    "# print(loca)\n",
    "loca.click()\n",
    "\n",
    "time.sleep(3)\n",
    "sido = driver.find_elements(By.CSS_SELECTOR, 'ul.sido_arae_box > li')\n",
    "# print(sido)\n",
    "\n",
    "# 원하는 지역 선택\n",
    "sido[5].click()\n",
    "time.sleep(3)\n",
    "# 원하는 지역구 선택\n",
    "gugun = driver.find_elements(By.CSS_SELECTOR, 'ul.gugun_arae_box > li')\n",
    "gugun[-1].click()\n",
    "\n",
    "time.sleep(3)\n",
    "page = driver.page_source\n",
    "\n",
    "soup = BeautifulSoup(page, 'lxml')\n",
    "items = soup.select('ul.quickSearchResultBoxSidoGugun li')\n",
    "for li in items:\n",
    "    print(li.find('strong').string)\n",
    "    # string안되면 text해봐\n",
    "    # print(li.find('p').string)\n",
    "    print(li.find('p').text.replace('1522-3232', ''))\n",
    "    print('--------------')"
   ]
  },
  {
   "cell_type": "code",
   "execution_count": null,
   "id": "4486c362-632c-4116-979d-ae95bbf958c5",
   "metadata": {},
   "outputs": [],
   "source": []
  }
 ],
 "metadata": {
  "kernelspec": {
   "display_name": "Python 3 (ipykernel)",
   "language": "python",
   "name": "python3"
  },
  "language_info": {
   "codemirror_mode": {
    "name": "ipython",
    "version": 3
   },
   "file_extension": ".py",
   "mimetype": "text/x-python",
   "name": "python",
   "nbconvert_exporter": "python",
   "pygments_lexer": "ipython3",
   "version": "3.11.2"
  }
 },
 "nbformat": 4,
 "nbformat_minor": 5
}
