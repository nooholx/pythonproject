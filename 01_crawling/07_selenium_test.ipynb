{
 "cells": [
  {
   "cell_type": "code",
   "execution_count": null,
   "id": "e890ee19-1d1d-488d-af8c-c31cf47b7e6c",
   "metadata": {},
   "outputs": [],
   "source": [
    "# 확장자가 .py인 파일들을 이름 지을 때 조심해야 할 것:\n",
    "# 절대로 기존에 쓰는 라이브러리 이름과 동일하게 지으면 안된다. 못불러오기 때문"
   ]
  },
  {
   "cell_type": "code",
   "execution_count": 1,
   "id": "cbdef5a4-e632-4ff4-8794-87c51b75bfe1",
   "metadata": {
    "tags": []
   },
   "outputs": [],
   "source": [
    "from selenium import webdriver\n",
    "import time"
   ]
  },
  {
   "cell_type": "code",
   "execution_count": 8,
   "id": "2ebe887f-c4d7-4f3f-87c7-e4110d27557a",
   "metadata": {
    "tags": []
   },
   "outputs": [],
   "source": [
    "driver = webdriver.Chrome()\n",
    "driver.get('https://www.naver.com')\n",
    "# 묵시적으로 10초를 기다리는데 그 안에 완료되면 넘어가겠다.\n",
    "driver.implicitly_wait(10)\n",
    "time.sleep(5)\n",
    "driver.get('https://www.google.co.kr')\n",
    "time.sleep(5)\n",
    "driver.get('https://www.daum.net/')\n",
    "time.sleep(5)\n",
    "driver.back()\n",
    "driver.fullscreen_window()\n",
    "time.sleep(3)\n",
    "driver.back()\n",
    "driver.set_window_rect(100, 100, 800, 800)\n",
    "time.sleep(3)\n",
    "driver.forward()\n",
    "time.sleep(3)\n",
    "driver.quit()"
   ]
  },
  {
   "cell_type": "code",
   "execution_count": 9,
   "id": "b2d1440b-5bb7-4122-bceb-f0f6420f6592",
   "metadata": {
    "tags": []
   },
   "outputs": [],
   "source": [
    "from selenium import webdriver\n",
    "import time\n",
    "from selenium.webdriver.common.by import By\n",
    "from selenium.webdriver.common.keys import Keys"
   ]
  },
  {
   "cell_type": "code",
   "execution_count": 17,
   "id": "b45527ef-5eb3-442c-92b8-c446e39e808d",
   "metadata": {
    "tags": []
   },
   "outputs": [],
   "source": [
    "driver = webdriver.Chrome()\n",
    "driver.get('https://www.naver.com')\n",
    "time.sleep(5)\n",
    "search = driver.find_element(By.ID, 'query')\n",
    "# print(type(search))\n",
    "# print(search)\n",
    "search.send_keys('봄')\n",
    "search.send_keys(Keys.ENTER)\n",
    "item = driver.find_element(By.CSS_SELECTOR, 'ul.base > li.menu:nth-child(2)')\n",
    "item.click()"
   ]
  },
  {
   "cell_type": "code",
   "execution_count": null,
   "id": "77e488c8-3cc3-4404-9fe9-4b19b2b5bdad",
   "metadata": {},
   "outputs": [],
   "source": []
  },
  {
   "cell_type": "code",
   "execution_count": null,
   "id": "30ab7b2d-f4a5-47d3-b0f9-aae99251002a",
   "metadata": {},
   "outputs": [],
   "source": []
  }
 ],
 "metadata": {
  "kernelspec": {
   "display_name": "Python 3 (ipykernel)",
   "language": "python",
   "name": "python3"
  },
  "language_info": {
   "codemirror_mode": {
    "name": "ipython",
    "version": 3
   },
   "file_extension": ".py",
   "mimetype": "text/x-python",
   "name": "python",
   "nbconvert_exporter": "python",
   "pygments_lexer": "ipython3",
   "version": "3.11.2"
  }
 },
 "nbformat": 4,
 "nbformat_minor": 5
}
